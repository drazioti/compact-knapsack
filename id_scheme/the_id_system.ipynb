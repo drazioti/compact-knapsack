{
 "cells": [
  {
   "attachments": {
    "image.png": {
     "image/png": "[encoded data removed]"
    }
   },
   "cell_type": "markdown",
   "id": "91ba2b21",
   "metadata": {},
   "source": [
    "# the id scheme\n",
    "Let $n,m$ two positive integers.<br>\n",
    "${\\rm{Public\\ Key}} = (A,{\\bf b},{\\mathcal{S}},{\\mathcal{S}'})\\in {\\mathcal{M}}_{m\\times n}({\\mathbb{Z}})\\times {\\mathbb{Z}}^{m}\\times {\\mathbb{Z}}^{n}\\times {\\mathbb{Z}}^n$<br>\n",
    "${\\rm{secret\\ key}}={\\bf x}$, such that $A{\\bf x}^T={\\bf b}^T,$ and ${\\bf x}\\in {\\mathcal{S}}$\n",
    "![image.png](attachment:image.png)"
   ]
  },
  {
   "cell_type": "code",
   "execution_count": 1,
   "id": "99e0bdd7",
   "metadata": {},
   "outputs": [],
   "source": [
    "'''\n",
    "The code is written and tested in Sagemath ver. 9.8\n",
    "License : GPL v.2\n",
    "Authors : G. Rizos, K. Draziotis\n",
    "'''\n",
    "\n",
    "\n",
    "reset()\n",
    "def bits(n):\n",
    "    return floor(log( max ( abs(n), 1) ,2))+1\n",
    "\n",
    "def domains(L,R):\n",
    "    '''\n",
    "    input  : L = [a1,...,ak]\n",
    "    output : \n",
    "    [2^(ai*R-1),2^(ai*R)-1],...,[2^(ak*R-1),2^(ak*R)-1]]\n",
    "    '''\n",
    "    \n",
    "    for x in L:\n",
    "        if x>1:\n",
    "            print(\"ai must be < 1\")\n",
    "            return\n",
    "    M = []\n",
    "    l = len(L)\n",
    "    for i in range(l):\n",
    "        m = L[i]*R\n",
    "        if m in ZZ:\n",
    "            M.append([int(2^(m-1)),int(2^m-1)])\n",
    "        else:\n",
    "            if abs(round(m)-m)<1e5:\n",
    "                m = round(m)\n",
    "                M.append([int(2^(m-1)),int(2^m-1)])\n",
    "            else:\n",
    "                print(\"ai*R is not integer\")\n",
    "                return 0\n",
    "    return M\n",
    "\n",
    "def random_solution(sectors, n):\n",
    "    '''\n",
    "    This function is used to compute a random solution x of the system Ax=b where\n",
    "    x in S. x has dimension n.\n",
    "    \n",
    "    Input:\n",
    "    sectors: is a list of lists [ [a1,a2],[b1,b2],...]\n",
    "    n      : is a positive integer such that n = 0 mod len(sector)\n",
    "    \n",
    "    Output:\n",
    "    returns a vector (w1,w2,...), where a1<=w1<=a2,....\n",
    "    '''   \n",
    "    if int(n)%int(len(sectors)) !=0:\n",
    "        print(\"n =\",n,\" must be divisible by :\", len(sector))\n",
    "        return 1,0,0\n",
    "    rand = lambda n, bounds: [ZZ.random_element(bounds[0], bounds[1] + 1) for _ in range(n)]\n",
    "    x = []\n",
    "    for bounds in sectors:\n",
    "        x = x + rand(n//len(sectors), bounds)\n",
    "    return vector(x)\n",
    "\n",
    "def gen_A_and_x(R, n, m, mode, L):\n",
    "    '''\n",
    "    R : bits\n",
    "    n : number of rows\n",
    "    m : number of equations\n",
    "    mode: denominator of \\frac{R}{mode} that defines the space I_{R/mode}, whose elements generate the matrix A.\n",
    "    L : is a list that is used to compute domains(L,R)\n",
    "    output : A, x, b, such that Ax=b\n",
    "    '''    \n",
    "    if R%mode!=0:\n",
    "        return \"mode must divide R. function : gen_A_and_x\"\n",
    "    bits = lambda R, mode: (2 ** (R / mode - 1), 2 ** (R / mode) - 1)\n",
    "    left, right = bits(R, mode) # To generate the matrix A\n",
    "\n",
    "    # Now, we generate a matrix with (n-1) rows, and random integer elements from the interval [left, right]\n",
    "    A = matrix([vector([ZZ.random_element(left, right + 1) for _ in range(n)]) for _ in range(m)])\n",
    "    # Now, we choose a solution with constraints\n",
    "    sectors = domains(L,R)\n",
    "    x = random_solution(sectors, n)\n",
    "    # and the constant vector of the system\n",
    "    b = (A * x)  \n",
    "    #print(\"b=\",b)\n",
    "    return A, x, b\n",
    "\n",
    "def betai(R,ai,epsilon):\n",
    "    A=1/(R*ln(2))\n",
    "    B=ln(2^(ai*R-1)+1)\n",
    "    C=ln(epsilon * 2^(ai*R+1) + 2) - ln(3)\n",
    "    return A.n()*B.n(),A.n()*C.n()\n"
   ]
  },
  {
   "cell_type": "code",
   "execution_count": 2,
   "id": "80b6373c",
   "metadata": {},
   "outputs": [
    {
     "name": "stdout",
     "output_type": "stream",
     "text": [
      "(0.222378459699830, 0.204182038145845) (0.472222527967991, 0.454018325793758)\n",
      "True True\n"
     ]
    }
   ],
   "source": [
    "R = 36;\n",
    "n=10;     # 10 columns\n",
    "m = 4;    # 4 rows\n",
    "mode = 4; # the elements of matrix A have entris with (R/mode) bits  i.e.  20/4=5 bits\n",
    "a1 = 1/4;\n",
    "a2 = 1/2;\n",
    "L = [a1,a2]; # the solutions have two parts (x1,x2), where x1 is in Z^{5} with entries 20/4=5 bits and x2 with 20/2=10 bits\n",
    "S = domains(L,R)\n",
    "epsilon = 1/2.1\n",
    "u1=betai(R,a1,epsilon)\n",
    "u2=betai(R,a2,epsilon)\n",
    "b1,b2=4/20,9/20\n",
    "print(u1,u2)\n",
    "print(b1<min(u1),b2<min(u2))\n",
    "M = [b1,b2]\n",
    "S_prime = domains(M,R)\n",
    "A,x,b = gen_A_and_x(R, n, m, mode, L)"
   ]
  },
  {
   "cell_type": "code",
   "execution_count": 3,
   "id": "c4977a69",
   "metadata": {},
   "outputs": [
    {
     "data": {
      "text/html": [
       "<html>\\(\\displaystyle \\verb|A=| \\left(\\begin{array}{rrrrrrrrrr}\n",
       "511 & 434 & 311 & 480 & 350 & 499 & 319 & 324 & 419 & 316 \\\\\n",
       "317 & 419 & 298 & 487 & 386 & 368 & 340 & 311 & 458 & 297 \\\\\n",
       "322 & 261 & 456 & 266 & 359 & 290 & 371 & 496 & 378 & 423 \\\\\n",
       "420 & 436 & 295 & 269 & 436 & 405 & 454 & 382 & 382 & 289\n",
       "\\end{array}\\right)\\)</html>"
      ],
      "text/latex": [
       "$\\displaystyle \\verb|A=| \\left(\\begin{array}{rrrrrrrrrr}\n",
       "511 & 434 & 311 & 480 & 350 & 499 & 319 & 324 & 419 & 316 \\\\\n",
       "317 & 419 & 298 & 487 & 386 & 368 & 340 & 311 & 458 & 297 \\\\\n",
       "322 & 261 & 456 & 266 & 359 & 290 & 371 & 496 & 378 & 423 \\\\\n",
       "420 & 436 & 295 & 269 & 436 & 405 & 454 & 382 & 382 & 289\n",
       "\\end{array}\\right)$"
      ],
      "text/plain": [
       "'A=' [511 434 311 480 350 499 319 324 419 316]\n",
       "[317 419 298 487 386 368 340 311 458 297]\n",
       "[322 261 456 266 359 290 371 496 378 423]\n",
       "[420 436 295 269 436 405 454 382 382 289]"
      ]
     },
     "metadata": {},
     "output_type": "display_data"
    },
    {
     "name": "stdout",
     "output_type": "stream",
     "text": [
      "x : (383, 438, 279, 432, 456, 258761, 171177, 133389, 251506, 147140)\n",
      "b : (379662026, 354573010, 362661273, 372815070)\n",
      "S : [[256, 511], [131072, 262143]]\n",
      "S': [[64, 127], [32768, 65535]]\n"
     ]
    }
   ],
   "source": [
    "show(\"A=\",A)\n",
    "print(\"x :\",x)\n",
    "print(\"b :\",b)\n",
    "print(\"S :\",S)\n",
    "print(\"S':\",S_prime)"
   ]
  },
  {
   "cell_type": "markdown",
   "id": "1bab5c17",
   "metadata": {},
   "source": [
    "# First Move\n",
    "Alice choose $k$ from $S'$"
   ]
  },
  {
   "cell_type": "code",
   "execution_count": 4,
   "id": "2099ad1e",
   "metadata": {},
   "outputs": [],
   "source": [
    "def nonce(S_prime):\n",
    "    k1 = [ZZ.random_element(S_prime[0][0],S_prime[0][1]+1) for _ in range(n/2)]\n",
    "    k2 = [ZZ.random_element(S_prime[1][0],S_prime[1][1]+1) for _ in range(n/2)]\n",
    "    k = k1+k2\n",
    "    return k"
   ]
  },
  {
   "cell_type": "code",
   "execution_count": 5,
   "id": "623a520e",
   "metadata": {},
   "outputs": [
    {
     "data": {
      "text/plain": [
       "[96513721]\n",
       "[89383972]\n",
       "[95894609]\n",
       "[95471264]"
      ]
     },
     "execution_count": 5,
     "metadata": {},
     "output_type": "execute_result"
    }
   ],
   "source": [
    "k = nonce(S_prime);k\n",
    "# and sends to Bob\n",
    "r = A*matrix(k).T\n",
    "r"
   ]
  },
  {
   "cell_type": "markdown",
   "id": "529b7c49",
   "metadata": {},
   "source": [
    "# Second Move\n",
    "Bob chooses a bit"
   ]
  },
  {
   "cell_type": "code",
   "execution_count": 6,
   "id": "01074244",
   "metadata": {},
   "outputs": [],
   "source": [
    "def coin():\n",
    "    return ZZ.random_element(2)"
   ]
  },
  {
   "cell_type": "code",
   "execution_count": 7,
   "id": "cf3874e1",
   "metadata": {},
   "outputs": [
    {
     "data": {
      "text/plain": [
       "0"
      ]
     },
     "execution_count": 7,
     "metadata": {},
     "output_type": "execute_result"
    }
   ],
   "source": [
    "e = coin();e"
   ]
  },
  {
   "cell_type": "markdown",
   "id": "8d5c3ca4",
   "metadata": {},
   "source": [
    "# third move\n",
    "Alice responds with ${\\bf s}={\\bf k}+e{\\bf x}$"
   ]
  },
  {
   "cell_type": "code",
   "execution_count": 8,
   "id": "e2cc633b",
   "metadata": {},
   "outputs": [],
   "source": [
    "def respond(k,e,x):\n",
    "    k = vector(k)\n",
    "    x = vector(x)\n",
    "    return k + e*x"
   ]
  },
  {
   "cell_type": "code",
   "execution_count": 9,
   "id": "0accd87d",
   "metadata": {},
   "outputs": [
    {
     "data": {
      "text/plain": [
       "(84, 102, 119, 114, 105, 65370, 36681, 54623, 53735, 37229)"
      ]
     },
     "execution_count": 9,
     "metadata": {},
     "output_type": "execute_result"
    }
   ],
   "source": [
    "s=respond(k,e,x);s"
   ]
  },
  {
   "cell_type": "markdown",
   "id": "b31d014c",
   "metadata": {},
   "source": [
    "# Verification"
   ]
  },
  {
   "cell_type": "code",
   "execution_count": 10,
   "id": "3df22af1",
   "metadata": {},
   "outputs": [],
   "source": [
    "def number_of_good_entries_single(list, bound):  # the number of entries in the interval [lower,upper]\n",
    "        '''\n",
    "        sage:number_of_good_entries_single([2,10,11,90],[90,100])\n",
    "             (1,3)\n",
    "        '''\n",
    "        C = 0\n",
    "        inbound = lambda x, low, up: (x <= up and x >= low)\n",
    "        for i in range(len(list)):\n",
    "            if inbound(list[i], *bound):\n",
    "                C = C + 1\n",
    "        return C, len(list) - C  # number of good and bad entries\n",
    "    \n",
    "def verification(A,b,r,transcript,sk,S,S_prime,n):\n",
    "        #Modified functions for dynamic execution\n",
    "    \n",
    "    \n",
    "    k,e,s=transcript[0],transcript[1],transcript[2]\n",
    "    #print(k,e,s)\n",
    "    # first check\n",
    "    print(\"first check:\",A*matrix(s).T == r + e*matrix(b).T)\n",
    "    # second check\n",
    "    lst1=S_prime[0] \n",
    "    lst2=S_prime[1]\n",
    "    lst3=S[0]\n",
    "    lst4=S[1]\n",
    "    if e==0:\n",
    "        if number_of_good_entries_single(s[0:n/2],lst1)[0]==n/2 and number_of_good_entries_single(s[n/2:n],lst2)[0]==n/2:\n",
    "            print(\"second check:true\",\"e=\",e)\n",
    "            return \"pass[1]\"\n",
    "        else:\n",
    "            print(\"second check:false\")\n",
    "            return \"fail[1]\"\n",
    "        # check if s \\in S'\n",
    "    else: # i.e if e=1\n",
    "        #print(number_of_good_entries_single(s[0:n/2],lst3))\n",
    "        #print(number_of_good_entries_single(s[n/2:n],lst4))\n",
    "        if number_of_good_entries_single(s[0:n/2],lst3)[0]==n/2 and number_of_good_entries_single(s[n/2:n],lst4)[0]==n/2:\n",
    "            print(\"second check:true\",\"e=\",e)\n",
    "            return \"pass[2]\"\n",
    "        else:\n",
    "            print(\"second check:false\")\n",
    "            return \"fail[2]\"\n",
    "        # check if s \\in S\n",
    "        \n",
    "   "
   ]
  },
  {
   "cell_type": "code",
   "execution_count": 11,
   "id": "523dfa90",
   "metadata": {},
   "outputs": [
    {
     "name": "stdout",
     "output_type": "stream",
     "text": [
      "first check: True\n",
      "second check:true e= 0\n"
     ]
    },
    {
     "data": {
      "text/plain": [
       "'pass[1]'"
      ]
     },
     "execution_count": 11,
     "metadata": {},
     "output_type": "execute_result"
    }
   ],
   "source": [
    "transcript = [vector(k),e,s]\n",
    "verification(A,b,r,transcript,x,S,S_prime,n)"
   ]
  },
  {
   "cell_type": "markdown",
   "id": "5a6a1e4e",
   "metadata": {},
   "source": [
    "# Computation of the length of PK and SK"
   ]
  },
  {
   "cell_type": "code",
   "execution_count": 16,
   "id": "f28940cb",
   "metadata": {},
   "outputs": [],
   "source": [
    "def length_sig(R,t,n,m,mode,L,M,r,s):\n",
    "    def bits(x):\n",
    "        return floor(log(x,2))+1\n",
    "    print(\"R=\",R)\n",
    "    print(\"m,n=\",m,n)\n",
    "    print(\"S=\",L)\n",
    "    print(\"S'=\",M)\n",
    "    len_A = n*m*bits(A[0][0])\n",
    "    len_b = sum(bits(b[i]) for i in range(len(b)))\n",
    "    len_x = sum([bits(x[i]) for i in range(len(x))])\n",
    "    print(\"pk:\",len_A+len_b)\n",
    "    print(\"sk:\",len_x)\n",
    "    print(\"sum of pk and sk:\",len_A+len_x+len_b, \"bits\")\n",
    "    len_r = sum([bits(r.list()[i]) for i in range(len(r.list()))])\n",
    "    print(\"r_len:\", len_r )\n",
    "    len_s = sum([bits(s[i]) for i in range(len(s))])\n",
    "    print(\"s_len:\", sum([bits(s[i]) for i in range(len(s))]) )\n",
    "    print(\"|R|+|S|:\",t*(len_r+len_s))"
   ]
  },
  {
   "cell_type": "code",
   "execution_count": 17,
   "id": "ad7123ac",
   "metadata": {},
   "outputs": [
    {
     "name": "stdout",
     "output_type": "stream",
     "text": [
      "R= 36\n",
      "m,n= 4 10\n",
      "S= [1/4, 1/2]\n",
      "S'= [1/5, 9/20]\n",
      "pk: 476\n",
      "sk: 135\n",
      "sum of pk and sk: 611 bits\n",
      "r_len: 108\n",
      "s_len: 115\n",
      "|R|+|S|: 17840\n"
     ]
    }
   ],
   "source": [
    "length_sig(R,80,n,m,mode,L,M,r,s)"
   ]
  },
  {
   "cell_type": "markdown",
   "id": "1e0c3797",
   "metadata": {},
   "source": [
    "# All the code in one cell"
   ]
  },
  {
   "cell_type": "code",
   "execution_count": 14,
   "id": "622d5304",
   "metadata": {},
   "outputs": [],
   "source": [
    "def probability(R,a1,a2,b1,b2):\n",
    "    A1 = 3*2^(b1*R-1)-1\n",
    "    B1 = 2^(a1*R)\n",
    "    A2 = 3*2^(b2*R-1)-1\n",
    "    B2 = 2^(a2*R)\n",
    "    print( (A1/B1).n(),(A2/B2).n())\n",
    "    \n",
    "def execution(R,n,m,mode,L,M,count,Print):\n",
    "    S = domains(L,R)\n",
    "    S_prime = domains(M,R)\n",
    "    # pk and sk\n",
    "    print(\"[+] generate public and secret key\")\n",
    "    A,x,b = gen_A_and_x(R, n, m, mode, L)\n",
    "    for j in range(count):\n",
    "        print('[+]',j+1)\n",
    "        # 1: Alice\n",
    "        if Print=='1':\n",
    "            print(\"[+] Step one, Alice picks the nonce k and sends A*k\")\n",
    "        k = nonce(S_prime)\n",
    "        r = A*matrix(k).T\n",
    "        # 2: Bob\n",
    "        if Print=='1':\n",
    "            print(\"[+] Second Step, Bob pick a random bit e\")\n",
    "        e = coin()\n",
    "        #print(\"e=\",e)\n",
    "        # 3: Alice\n",
    "        if Print=='1':\n",
    "            print(\"[+] Third Step, Alice resdponds with k+ex\")\n",
    "        s =respond(k,e,x)\n",
    "        transcript = [vector(k),e,s]\n",
    "        #print(\"transcript (k,e,s) : \")\n",
    "        #print(vector(k),e,s)\n",
    "        #print(A*matrix(s).T==r + e*matrix(b).T)\n",
    "        verification(A,b,r,transcript,x,S,S_prime,n)\n",
    "        if count==1:\n",
    "            return r,s"
   ]
  },
  {
   "cell_type": "code",
   "execution_count": 23,
   "id": "f8b4f615",
   "metadata": {},
   "outputs": [
    {
     "name": "stdout",
     "output_type": "stream",
     "text": [
      "192\n",
      "48 96\n",
      "0.250000000000000 0.500000000000000\n",
      "0.125000000000000 0.250000000000000\n",
      "24 48\n"
     ]
    }
   ],
   "source": [
    "\n",
    "# find b1,b2 such that b1*R,b2*R are integers\n",
    "# and bi<ai, with bi~ai\n",
    "# so bi = ci/R (ci<ai*R)\n",
    "a1 = 1/4;\n",
    "a2 = 1/2;\n",
    "L = [a1,a2]\n",
    "R = 192\n",
    "print(R)\n",
    "print(a1*R,a2*R)\n",
    "c1,c2=8,17\n",
    "c1,c2=R/8,R/4\n",
    "b1 = c1/R;b2=c2/R\n",
    "print(a1.n(),a2.n())\n",
    "print(b1.n(),b2.n())\n",
    "print(b1*R,b2*R)\n",
    "#R = 36;\n",
    "n=42;     # 10 columns\n",
    "m = 4;    # 4 rows\n",
    "mode = 8; # the elements of matrix A has entriw with R/mode bits  i.e.  20/4=5 bits\n",
    "#b1,b2=4/20,9/20\n",
    "#print(b1<u1,b2<u2)\n",
    "M = [b1,b2]"
   ]
  },
  {
   "cell_type": "code",
   "execution_count": 24,
   "id": "4354b15d",
   "metadata": {},
   "outputs": [
    {
     "name": "stdout",
     "output_type": "stream",
     "text": [
      "8.94069636103723e-8 5.32907051820074e-15\n"
     ]
    }
   ],
   "source": [
    "probability(R,a1,a2,b1,b2)"
   ]
  },
  {
   "cell_type": "code",
   "execution_count": 25,
   "id": "b72e3ce9",
   "metadata": {},
   "outputs": [
    {
     "name": "stdout",
     "output_type": "stream",
     "text": [
      "R= 192\n",
      "[+] generate public and secret key\n",
      "[+] 1\n",
      "first check: True\n",
      "second check:true e= 1\n"
     ]
    }
   ],
   "source": [
    "print(\"R=\",R)\n",
    "count=1\n",
    "r,s=execution(R,n,m,mode,L,M,count,'0')"
   ]
  },
  {
   "cell_type": "code",
   "execution_count": 26,
   "id": "2f4cf26d",
   "metadata": {},
   "outputs": [
    {
     "name": "stdout",
     "output_type": "stream",
     "text": [
      "R= 192\n",
      "m,n= 4 42\n",
      "S [1/4, 1/2]\n",
      "S' [1/8, 1/4]\n",
      "pk: 1628\n",
      "sk: 135\n",
      "sum: 1763\n",
      "r_len: 304\n",
      "s_len: 3024\n",
      "|R|+|S|: 266240\n"
     ]
    }
   ],
   "source": [
    "length_sig(R,80,n,m,mode,L,M,r,s)"
   ]
  }
 ],
 "metadata": {
  "kernelspec": {
   "display_name": "SageMath 9.8",
   "language": "sage",
   "name": "sagemath"
  },
  "language_info": {
   "codemirror_mode": {
    "name": "ipython",
    "version": 3
   },
   "file_extension": ".py",
   "mimetype": "text/x-python",
   "name": "python",
   "nbconvert_exporter": "python",
   "pygments_lexer": "ipython3",
   "version": "3.11.1"
  }
 },
 "nbformat": 4,
 "nbformat_minor": 5
}
