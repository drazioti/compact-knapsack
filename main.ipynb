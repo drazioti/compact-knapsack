{
 "cells": [
  {
   "cell_type": "code",
   "execution_count": 140,
   "metadata": {},
   "outputs": [
    {
     "name": "stdout",
     "output_type": "stream",
     "text": [
      " we change the style for the markdown cells\n"
     ]
    },
    {
     "data": {
      "text/html": [
       "\n",
       "<style>\n",
       "\n",
       "div.cell { /* Tunes the space between cells */\n",
       "margin-top:1em;\n",
       "margin-bottom:1em;\n",
       "}\n",
       "\n",
       "div.text_cell_render h1 { /* Main titles bigger, centered */\n",
       "font-size: 2.2em;\n",
       "line-height:1.4em;\n",
       "text-align:center;\n",
       "}\n",
       "\n",
       "div.text_cell_render h2 { /*  Parts names nearer from text */\n",
       "margin-bottom: -0.4em;\n",
       "}\n",
       "\n",
       "\n",
       "div.text_cell_render { /* Customize text cells */\n",
       "font-family: 'Times New Roman';\n",
       "font-size:1.5em;\n",
       "line-height:1.4em;\n",
       "padding-left:3em;\n",
       "padding-right:3em;\n",
       "}\n",
       "</style>\n"
      ],
      "text/plain": [
       "<IPython.core.display.HTML object>"
      ]
     },
     "execution_count": 140,
     "metadata": {},
     "output_type": "execute_result"
    }
   ],
   "source": [
    "reset() # this is a sagemath command\n",
    "print(\" we change the style for the markdown cells\")\n",
    "from IPython.core.display import HTML\n",
    "HTML(\"\"\"\n",
    "<style>\n",
    "\n",
    "div.cell { /* Tunes the space between cells */\n",
    "margin-top:1em;\n",
    "margin-bottom:1em;\n",
    "}\n",
    "\n",
    "div.text_cell_render h1 { /* Main titles bigger, centered */\n",
    "font-size: 2.2em;\n",
    "line-height:1.4em;\n",
    "text-align:center;\n",
    "}\n",
    "\n",
    "div.text_cell_render h2 { /*  Parts names nearer from text */\n",
    "margin-bottom: -0.4em;\n",
    "}\n",
    "\n",
    "\n",
    "div.text_cell_render { /* Customize text cells */\n",
    "font-family: 'Times New Roman';\n",
    "font-size:1.5em;\n",
    "line-height:1.4em;\n",
    "padding-left:3em;\n",
    "padding-right:3em;\n",
    "}\n",
    "</style>\n",
    "\"\"\")"
   ]
  },
  {
   "cell_type": "markdown",
   "metadata": {},
   "source": [
    "Bibliography : https://www.aimsciences.org/article/exportPdf?id=c1bbdc4c-a492-4dd6-b9de-88a63ed039e6\n",
    "\n",
    "Δεν θα πάω κατευθείαν στο $n\\times n$ αλλά θα σου δειξω πως γίνεται η επίθεση για μια εξίσωση και μετα για περισσότερες εξισώσεις (δηλ. για πίνακα $m\\times n$ με $m<n$ και $m\\ge 1$).\n",
    "<br>\n",
    "$m$ : number of equations\n",
    "<br>\n",
    "$n$ : number of unknowns"
   ]
  },
  {
   "cell_type": "markdown",
   "metadata": {},
   "source": [
    "**[1]** Let a $m\\times n$ matrix $A$ (with $m<n$) with entries in $I_{R/2},$ where \n",
    "<br>\n",
    "$I_R$ the set of $R$-bits integers. We use the following code for the generation of the matrix.\n",
    "<br>\n",
    "If we consider $m=1$ we have the case of only one equation (as in the paper)\n",
    "<br>\n",
    "We have to see also the case $m=n.$ I.e. the matrix $A$ is rectangular.\n",
    "<br>\n",
    "In this case we must have $\\det(A)=0.$\n",
    "<br>\n",
    "<span style=\"color:blue\">TODO </span>: How to very fast generate a matrix with $\\det(A)=0$\n",
    "<br>\n",
    "It is not a good idea to compute $\\det(A)$.\n",
    "<br>\n",
    "Also we need to define \n",
    "$${\\mathcal{S}}_1=I_R^n$$\n",
    "$${\\mathcal{S}}_2=I_R^{n/2}\\times I_{R/2}^{n/2}$$\n",
    "$${\\mathcal{S}}_3=I_{R/2}^{n/2}\\times I_{R/4}^{n/2}$$\n",
    "$${\\mathcal{S}}_4=I_{R/2}^{n/3}\\times I_{R/4}^{n/3}\\times I_{R/8}^{n/3}$$\n",
    "$${\\mathcal{S}}_5=I_{R}^{n/4}\\times I_{R/2}^{n/4}\\times I_{R/4}^{n/5}\\times I_{R/8}^{n/4}$$\n",
    "$${\\mathcal{S}}_6=I_{R}^{n/5}\\times I_{R/2}^{n/5}\\times I_{R/4}^{n/5}\\times I_{R/8}^{n/5}\\times I_{R/16}^{n/5}$$"
   ]
  },
  {
   "cell_type": "code",
   "execution_count": 141,
   "metadata": {},
   "outputs": [],
   "source": [
    "# some auxiliary functions\n",
    "def bits(n):\n",
    "    return floor(log( max ( abs(n), 1) ,2))+1"
   ]
  },
  {
   "cell_type": "code",
   "execution_count": 142,
   "metadata": {},
   "outputs": [],
   "source": [
    "# definition of I_R\n",
    "R = 20 # choose for simplicity R to be even\n",
    "# definition of n and m\n",
    "n = 24 # so we work in dimension n,i.e. we have n unknowns\n",
    "m = 1 # we have m equations.\n",
    "\n",
    "mode = 2\n",
    "# generation of a matrix with elements from I_{R/2}\n",
    "left  = 2^((R/mode)-1)\n",
    "right = 2^(R/mode) - 1\n",
    "\n",
    "# Now, we generate a matrix with (n-1) rows, and random integer elements from the interval [left, right]\n",
    "A = matrix( [vector([ZZ.random_element(left,right+1) for _ in range(n)]) for _  in range(m)] )"
   ]
  },
  {
   "cell_type": "markdown",
   "metadata": {},
   "source": [
    "**[2]** we generate a solution ${\\bf x} \\in {\\mathbb{Z}}^n,$ which satisfies $A{\\bf x} = {\\bf b}$.\n",
    "<br>\n",
    "Since we shall define ${\\bf x}$ making the multiplication $A{\\bf x}$ we compute ${\\bf b}.$ \n",
    "<br>\n",
    "The solution vector ${\\bf x}$ is the crucial component that makes the problem hard."
   ]
  },
  {
   "cell_type": "code",
   "execution_count": 117,
   "metadata": {},
   "outputs": [
    {
     "name": "stdout",
     "output_type": "stream",
     "text": [
      "secret key x: (704736, 945649, 977776, 1046956, 594767, 1044835, 578436, 780404, 609955, 1042704, 839686, 825926, 756, 644, 554, 871, 986, 744, 942, 815, 965, 563, 653, 747)\n",
      "b: (7682337932)\n"
     ]
    }
   ],
   "source": [
    "# if index = 1 we choose x from S1\n",
    "# if index = 2 we choose x from S2\n",
    "# TODO:if index = 3 we choose x from S3\n",
    "\n",
    "\n",
    "# choose index\n",
    "index =  2\n",
    "\n",
    "if index == 1:\n",
    "    left1  = 2^(R-1)\n",
    "    right1 = 2^R - 1\n",
    "    x = vector([ZZ.random_element(left1 , right1 + 1) for _ in range(n)])\n",
    "\n",
    "if index == 2:\n",
    "    left1   = 2^(R-1)\n",
    "    right1  = 2^R - 1\n",
    "    left2   = 2^(R/2 - 1)\n",
    "    right2  = 2^(R/2) - 1\n",
    "    x1 = [ZZ.random_element(left1 , right1 + 1) for _ in range(n/2)]\n",
    "    x2 = [ZZ.random_element(left2 , right2 + 1) for _ in range(n/2)]\n",
    "    x = vector(x1+x2)\n",
    "    \n",
    "if index == 3:\n",
    "    left1   = 2^(R/2-1)\n",
    "    right1  = 2^(R/2) - 1\n",
    "    left2   = 2^(R/4 - 1)\n",
    "    right2  = 2^(R/4) - 1\n",
    "    x1 = [ZZ.random_element(left1 , right1 + 1) for _ in range( int(n/2))]\n",
    "    x2 = [ZZ.random_element(left2 , right2 + 1) for _ in range( int(n/2))]\n",
    "    x = vector(x1+x2)\n",
    "\n",
    "\n",
    "if index == 4:\n",
    "        left1   = 2^(R/2-1)\n",
    "        right1  = 2^(R/2) - 1\n",
    "        left2   = 2^(R/4 - 1)\n",
    "        right2  = 2^(R/4) - 1\n",
    "        left3   = 2^(R/8 - 1)\n",
    "        right3  = 2^(R/8) - 1\n",
    "        x1 = [ZZ.random_element(left1 , right1 + 1) for _ in range(n/3)]\n",
    "        x2 = [ZZ.random_element(left2 , right2 + 1) for _ in range(n/3)]\n",
    "        x3 = [ZZ.random_element(left3 , right3 + 1) for _ in range(n/3)]\n",
    "        x = vector(x1+x2+x3)\n",
    "        \n",
    "    \n",
    "print(\"secret key x:\",x)\n",
    "# we compute also the vector b\n",
    "b = (A*x) # όταν το m=1 απλα υπολογιζουμε το εσωτερικό γινόμενο\n",
    "print(\"b:\",b)"
   ]
  },
  {
   "cell_type": "markdown",
   "metadata": {},
   "source": [
    "**[3]** We shall find a basis of the lattice generated by the solutions of the homogeneous system\n",
    "$A{\\bf x}={\\bf 0}.$\n",
    "<br>\n",
    "<span style=\"color:blue\">ερώτηση </span>: Θελω να μου εξηγησεις γιατι η Smith Form ενός πίνακα μας δίνει την βάση που θέλουμε. Βρες ίσως κάποια βιβλιογραφία."
   ]
  },
  {
   "cell_type": "code",
   "execution_count": 118,
   "metadata": {},
   "outputs": [],
   "source": [
    "#rank of the lattice\n",
    "def rank_of_L(A):\n",
    "    '''\n",
    "    outputs three integers. \n",
    "    [1] the rank of the lattice Ax=0, which is equal to (number of columns of A)-(rank(A)), \n",
    "    This is in fact the dimension of the nullspace(A).\n",
    "    [2] the number of columns k and \n",
    "    [3] the rank r of A\n",
    "    '''\n",
    "    k=A.dimensions()[1] # number of columns\n",
    "    r=A.rank()\n",
    "    return k-r,k,r # rank of lattice, number of columns, rank of the matrix\n",
    "\n",
    "#basis of the lattice L:ΑΧ=0\n",
    "def kernel(A):\n",
    "    # A is n x k matrix\n",
    "    Rank,k,r = rank_of_L(A)\n",
    "    print(\"rank of the lattice:\",Rank ) # αυτό είναι απο το θεώρημα της διάστασης.\n",
    "    Q=A.smith_form()[2] # snf(A)=PAQ\n",
    "    # From [1] https://core.ac.uk/download/pdf/82343294.pdf we get that \n",
    "    # the last k-r columns of Q is a basis for the lattice Ax=0\n",
    "    X=matrix(ZZ,[Q.column(i) for i in range(r,k)])\n",
    "    if k-r<5: # we print the basis if it has a small dimension\n",
    "        print(\"A basis of the lattice is:\")\n",
    "        print(X)\n",
    "    return X"
   ]
  },
  {
   "cell_type": "code",
   "execution_count": 119,
   "metadata": {},
   "outputs": [
    {
     "data": {
      "text/plain": [
       "2"
      ]
     },
     "execution_count": 119,
     "metadata": {},
     "output_type": "execute_result"
    }
   ],
   "source": [
    "index"
   ]
  },
  {
   "cell_type": "code",
   "execution_count": 120,
   "metadata": {},
   "outputs": [],
   "source": [
    "if index==2 or index==3:\n",
    "    k=2\n",
    "if index==4:\n",
    "    k=3"
   ]
  },
  {
   "cell_type": "code",
   "execution_count": 121,
   "metadata": {},
   "outputs": [
    {
     "name": "stdout",
     "output_type": "stream",
     "text": [
      "rank of the lattice: 11\n",
      "rank of the lattice: 11\n"
     ]
    }
   ],
   "source": [
    "#string = 'first_approach'\n",
    "string = 'second_approach'\n",
    "if string=='first_approach':\n",
    "    basis = kernel(A)\n",
    "if string=='second_approach':\n",
    "    if index==2 or index==3:\n",
    "        A1 = matrix(A[0][:n/2])\n",
    "        A2 = matrix(A[0][n/2:])\n",
    "        basis1 = kernel(A1)\n",
    "        basis2 = kernel(A2)\n",
    "    if index==4:\n",
    "        A1 = matrix(A[0][:n/3])\n",
    "        A2 = matrix(A[0][n/3:2*n/3])\n",
    "        A3 = matrix(A[0][2*n/3:])\n",
    "        basis1 = kernel(A1)\n",
    "        basis2 = kernel(A2)\n",
    "        basis3 = kernel(A3)"
   ]
  },
  {
   "cell_type": "markdown",
   "metadata": {},
   "source": [
    "To προηγούμενο σημαίνει ότι οποιαδήποτε λύση του ομογενους συστήματος είναι γραμμικώς συνδυασμός των διανυσμάτων της βάσης (γραμμικη αλγεβρα 1ου εξαμηνου!)\n",
    "<br>\n",
    "https://elearning.auth.gr/pluginfile.php/2165668/mod_resource/content/0/2021-12-04-Note-20-49.pdf"
   ]
  },
  {
   "cell_type": "markdown",
   "metadata": {},
   "source": [
    "Σύμφωνα με την επίθεση του paper https://drive.google.com/drive/folders/1pxn9SWz4Ri1CKcEatAFhcJVvUV9jO1Wv\n",
    "πρέπει να βρουμε μία λύση του μη ομογενούς συστήματος, δηλ. $AX=b$\n",
    "<br>\n",
    "Aυτο το πρόβλημα είναι σχετικα εύκολο. Μπορεί να λυθει με Ευκλειδειο αλγόριθμο. Εμεις, θα βρουμε μια λύση με χρηση του LLL. Μπορείς να δεις το paper που εξηγει την μέθοδο \n",
    "https://github.com/drazioti/Papers/blob/master/paper/C3_soia2014.pdf\n",
    "<br>\n",
    "Άρα το επόμενo βήμα [4] είναι το εξής :"
   ]
  },
  {
   "cell_type": "markdown",
   "metadata": {},
   "source": [
    "**[4]** Find a solution of $AX=b$\n",
    "<br>\n",
    "The following algorihm ( a_solution() ) is working only for $m=1$\n",
    "<br>\n",
    "Πιο κάτω δίνουμε και τον γενικότερο αλγόριθμο"
   ]
  },
  {
   "cell_type": "code",
   "execution_count": 122,
   "metadata": {},
   "outputs": [],
   "source": [
    "'''\n",
    "input   : dimension n, a vector a = [a1,a2,...,an], a target integer b \n",
    "          and a parameter Y which represents a bound for the solution, i.e. \n",
    "          we search for solutions |x_i|<Y. So choose Y large.\n",
    "          \n",
    "output  : a solution of the equation a1x1+a2x2+...+anxn=b, possibly satisfies |xi|<Y\n",
    "'''\n",
    "\n",
    "def a_solution(n,a,b,Y):    \n",
    "    r=0;    \n",
    "    #construction of the matrix\n",
    "    zerom=matrix(QQ,1,[r for i in range(0, n)]); # part of the last row\n",
    "    X=[Y for i in range(0, n)];\n",
    "    L=matrix(QQ,2,[[0 for i in range(0, n)],[a[i] for i in range(0, n)]]);\n",
    "    L=L.transpose();\n",
    "    M = identity_matrix(ZZ, n);\n",
    "    M=matrix(QQ,n,[1/X[i]*M.row(i) for i in range(0,n)]);\n",
    "    Mb=block_matrix([[M,L]]);\n",
    "    zerom1=block_matrix([[zerom,1,-b]]);  # this is the last row\n",
    "    Mb1=Mb.stack(zerom1);    \n",
    "    L=Mb1.LLL();   #use LLL algorithm for basis reduction\n",
    "    L1=[[(L[j][i]-r)*X[i] for i in range(0,n)] for j in range(0,n+1)];#if the last row has 1/2 instead of 0\n",
    "    L2=[vector(L1[i]).dot_product(vector(a))-b for i in range(0,n+1)];\n",
    "    if L2.count(0)>0:\n",
    "        print(\"Euclidean length of the solution:\",float(vector(L1[L2.index(0)]).norm()))\n",
    "        print(\"One solution is:\",L1[L2.index(0)])\n",
    "        return L1[L2.index(0)]\n",
    "    else:\n",
    "        print(\"NULL\")\n",
    "        return \"NULL\"\n",
    "    \n",
    "# ο γενικότερος αλγόριθμος, για πολλές εξισώσεις\n",
    "# Αρχικα φτιαχνουμε την δομη του πίνακα σύμφωνα με το paper \n",
    "# Karen Aardal, Cor A. J. Hurkens and Arjen K. Lenstra, \n",
    "# Solving a System of Linear Diophantine Equations with Lower and Upper Bounds on the Variables.\n",
    "# Στο επόμενο βήμα βρίσκουμε μια λύση του συστηματος Ax=b.\n",
    "# H επιθεση μετα συνεχίζει κανονικά, δηλ. CVP\n",
    "\n",
    "'''\n",
    "input   : dimension n, a matrix mxn A = [aij], a vector d\n",
    "          and two parameters N1, N2.\n",
    "          \n",
    "output  : a solution of the system Ax=d\n",
    "\n",
    "'''\n",
    "\n",
    "\n",
    "def construction_of_matrix(A,d,N1,N2):\n",
    "    # A is matrix, d is a column matrix, N1,N@ two large integers N1<N2\n",
    "    # we define the rows (m) and columns (n)\n",
    "    n,m=A.dimensions()[1] , A.dimensions()[0]\n",
    "    # construction of the matrix\n",
    "    zerom1 = matrix(QQ,1,[0 for i in range(0, n)]).T;     # 0_{nx1}\n",
    "    zerom2 = matrix(QQ,1,[0 for i in range(0, n)]+[N1]);  # [0_{1xn},N1]\n",
    "    In = identity_matrix(ZZ, n);\n",
    "    upper_block = block_matrix([[In,zerom1]]);\n",
    "    medium_row = zerom2\n",
    "    lower_block = block_matrix([[N2*A,-N2*d]]);\n",
    "    final_matrix = block_matrix(3,[ [upper_block], [zerom2], [lower_block]])\n",
    "    return final_matrix.T\n",
    "\n",
    "def a_solution_of_the_system(A,d,N1,N2):\n",
    "    B=construction_of_matrix(A,d,N1,N2)\n",
    "    Blll = B.LLL()\n",
    "    #in order to find the solutions\n",
    "    # you have to find the row that has the entry N1 i.e.\n",
    "    # we are looking for a row of the form (....,N1,...)\n",
    "\n",
    "    nrows = Blll.dimensions()[0]\n",
    "    for i in range(nrows):\n",
    "        if N1 in Blll.row(i):\n",
    "            t = i\n",
    "            solution = Blll.row(t)[:nrows-1]\n",
    "            print(\"solution:\",solution)\n",
    "            \n",
    "            return solution\n",
    "    print(\"error\")\n",
    "    return \"error\"\n",
    "    "
   ]
  },
  {
   "cell_type": "code",
   "execution_count": 123,
   "metadata": {},
   "outputs": [
    {
     "name": "stdout",
     "output_type": "stream",
     "text": [
      "solution: (765220, 758763, 865312, 936347, 883609, 740466, 690959, 826567, 902982, 1042895, 553197, 884686)\n",
      "solution: (0, 0, 0, -1, 0, 0, 0, 0, 0, 1, 1, 0)\n"
     ]
    }
   ],
   "source": [
    "#sol = a_solution(n,A.list(),b[0],2^R)\n",
    "Ν1,Ν2=int(1e10),int(1e30)\n",
    "if string=='first_approach':\n",
    "    sol = a_solution_of_the_system(A,matrix(b).T,Ν1,Ν2)\n",
    "if string=='second_approach':\n",
    "    if index == 2 and m==1:\n",
    "        r1 = ZZ.random_element(2^((R/2)-1),2^(R/2)-1)\n",
    "        sol1 = a_solution_of_the_system(A1,matrix([b[0]-r1]).T,Ν1,Ν2)\n",
    "        sol2 = a_solution_of_the_system(A2,matrix([r1]).T,Ν1,Ν2)\n",
    "    if index == 3 and m==1:\n",
    "        r1 = ZZ.random_element(2^((R/4)-1),2^(R/4)-1)\n",
    "        sol1 = a_solution_of_the_system(A1,matrix([b[0]-r1]).T,Ν1,Ν2)\n",
    "        sol2 = a_solution_of_the_system(A2,matrix([r1]).T,Ν1,Ν2)\n",
    "    if index==4 and m==1:\n",
    "        r1 = ZZ.random_element(2^((R/4)-1),2^(R/4)-1)\n",
    "        r2 = ZZ.random_element(2^((R/4)-1),2^(R/4)-1)\n",
    "        sol1 = a_solution_of_the_system(A1,matrix([b[0]-r1-r2]).T,Ν1,Ν2)\n",
    "        sol2 = a_solution_of_the_system(A2,matrix([r1]).T,Ν1,Ν2)\n",
    "        sol3 = a_solution_of_the_system(A3,matrix([r2]).T,Ν1,Ν2)"
   ]
  },
  {
   "cell_type": "code",
   "execution_count": null,
   "metadata": {},
   "outputs": [],
   "source": []
  },
  {
   "cell_type": "code",
   "execution_count": 125,
   "metadata": {},
   "outputs": [
    {
     "name": "stdout",
     "output_type": "stream",
     "text": [
      "number of equations: 1\n",
      "number of unknowns: 24\n",
      "True\n",
      "True\n"
     ]
    }
   ],
   "source": [
    "# ΕΠΑΛΗΘΕΥΣΗ ότι βρισκω σωστή λύση από τον προηγούμενο αλγόριθμο\n",
    "print(\"number of equations:\",m)\n",
    "print(\"number of unknowns:\",n)\n",
    "# if for some reason you get false you must change N1,N2, for instance increase N2.\n",
    "if string=='first_approach':\n",
    "    print(A*matrix(sol).T==matrix(b).T) # θεωρώ transpose για να γίνει το διάνυσμα στήλη\n",
    "if string=='second_approach':\n",
    "    if index==2 or index==3:\n",
    "        cons1  = b[0]-r1\n",
    "        cons2  = r1\n",
    "        print(A1*matrix(sol1).T==matrix([cons1]).T)\n",
    "        print(A2*matrix(sol2).T==matrix([cons2]).T)\n",
    "    if index==4:\n",
    "        cons1  = b[0]-r1-r2\n",
    "        cons2  = r1\n",
    "        cons3  = r2\n",
    "        print(A1*matrix(sol1).T==matrix([cons1]).T)\n",
    "        print(A2*matrix(sol2).T==matrix([cons2]).T)\n",
    "        print(A3*matrix(sol3).T==matrix([cons3]).T)"
   ]
  },
  {
   "cell_type": "code",
   "execution_count": 126,
   "metadata": {},
   "outputs": [],
   "source": [
    "#[bits(sol1[i]) for i in range(len(sol1))]"
   ]
  },
  {
   "cell_type": "code",
   "execution_count": 127,
   "metadata": {},
   "outputs": [],
   "source": [
    "#[bits(sol2[i]) for i in range(len(sol2))]"
   ]
  },
  {
   "attachments": {
    "image.png": {
     "image/png": "[encoded data removed]"
    }
   },
   "cell_type": "markdown",
   "metadata": {},
   "source": [
    "**[5]** Now, we continue with the lattice attack.\n",
    "Here there are two variants. One to apply the attack withou reduce the dimension and the other ont to \n",
    "reduce the dimension.<br>\n",
    "*First approach*<br>\n",
    "<br>\n",
    "We want the lattice, which we already know a basis from step [3]. The lattice is \n",
    "$$\\{{\\bf x}\\in {\\bf Z}^n : A{\\bf x}^T={\\bf 0}\\}$$\n",
    "(Δηλαδή το σύνολο λύσεων του ομογενούς συστήματος).\n",
    "The target vector is (in the case where ${\\bf x}\\in I_R^{n})$\n",
    "$${\\bf t}=(2^{R-1}+2^{R-2},2^{R-1}+2^{R-2},...,2^{R-1}+2^{R-2})=(t_R,t_R,....,t_R)$$\n",
    "We provide the Babai algorithm which solves CVP approximate\n",
    "<br><br>\n",
    "*Second approach (Divide and Conquer)*<br><br>\n",
    "We split the problem to subproblems of reduced dimension.<br>\n",
    "For instance, if ${\\bf x}\\in {\\mathcal{S}}_2=I_{R}^{n/2}\\times I_{R/2}^{n/2}$<br>\n",
    "Here we have two factors, namely : $J_1=I_{R}^{n/2}$ and $J_2=I_{R/2}^{n/2}$<br>\n",
    "First we solve (i.e. we try to find solutions in $J_1$) and then for $J_2$ <br>\n",
    "We split matrix $A$ ($m\\times n)$ as \n",
    "$A=[A_1|A_2]$ and ${\\bf x}^{T} = [{\\bf x}_1^T|{\\bf x}_2^T],$ <br>\n",
    "where $A_1,A_2$ is $m\\times \\frac{n}{2},$ ${\\bf x}_1^T,{\\bf x}_2^T$ are $\\frac{n}{2}\\times 1.$\n",
    "Further, we split the target vector ${\\bf t} = ({\\bf t}_1||{\\bf t}_2),$ <br>\n",
    "where ${\\bf t}_1, {\\bf t}_2$ have $n/2$ coordinates.<br>\n",
    "We solve $A_1{\\bf x}_1^T={\\bf b}$ and $A_2{\\bf x}_2^T={\\bf b}$<br>\n",
    "using $CVP({\\mathcal{L}}_i,{\\bf t}_i),$ ${\\mathcal{L}}_i=\\{ {\\bf x}\\in {\\mathbb{Z}}^{n/2}: A_i{\\bf x} = {\\bf 0}\\},$ $i=1,2.$\n",
    "\n",
    "![image.png](attachment:image.png)\n"
   ]
  },
  {
   "cell_type": "code",
   "execution_count": null,
   "metadata": {},
   "outputs": [],
   "source": []
  },
  {
   "cell_type": "code",
   "execution_count": 128,
   "metadata": {},
   "outputs": [],
   "source": [
    "# Babai's Code\n",
    "\n",
    "\n",
    "\n",
    "def babai(B,v):\n",
    "    Y=[]\n",
    "    i=0\n",
    "    j=0\n",
    "    row=int(B.nrows())\n",
    "    col=int(B.ncols())\n",
    "    w=vector([0 for i in range(0,len(v))])\n",
    "    Gram=B.gram_schmidt()[0] # Gram_schmidt is a function of Sagemath\n",
    "    w=vector(v)\n",
    "    for j in range(row):        \n",
    "        i=row-j-1\n",
    "        c1=w.dot_product((Gram[i])) # dot product is a function of Sagemath\n",
    "        c2=Gram[i].dot_product(Gram[i])\n",
    "        l=c1/c2\n",
    "        e=floor(l+0.5)*(B.row(i))\n",
    "        Y.append(e)\n",
    "        w=w-(l-floor(l+0.5))*Gram[i]-(floor(l+0.5)*B.row(i))   \n",
    "    u=sum(Y)        \n",
    "    return u\n",
    "\n",
    "def babai(M,t):\n",
    "    '''\n",
    "    Babai's Nearest Plane Algorithm\n",
    "    *Input : a basis of a lattice, given as a matrix M (the rows generates the lattice),                          \n",
    "    the associated Gram-Schmidt basis matrix M_GS and a target vector t. \n",
    "    *Output :  an approximate closest vector to t\n",
    "    '''\n",
    "    M_GS = M.gram_schmidt()[0]\n",
    "    w=vector(t)\n",
    "    t=vector(t)\n",
    "    for i in range(rank(M)-1,-1,-1):\n",
    "        w = w - round((w.dot_product(M_GS[i]))/(M_GS[i].norm())^2)*M[i]\n",
    "    return t - w\n",
    "\n",
    "\n",
    "    \n"
   ]
  },
  {
   "cell_type": "code",
   "execution_count": null,
   "metadata": {},
   "outputs": [],
   "source": []
  },
  {
   "cell_type": "code",
   "execution_count": 129,
   "metadata": {},
   "outputs": [],
   "source": [
    "# target vectors\n",
    "\n",
    "if index==1:\n",
    "    t_R = 2^(R-1)+2^(R-2)                 \n",
    "    target = vector([t_R]*n)\n",
    "\n",
    "if index==2:\n",
    "    t_R  = 2^(R-1)   +  2^(R-2)\n",
    "    t_R2 = 2^(R/2-1) +  2^(R/2-2)\n",
    "    target = vector([t_R]*int(n/2) + [t_R2]*int(n/2) )     \n",
    "\n",
    "if index==3:\n",
    "    t_R2  = 2^(R/2-1)   +  2^(R/2-2)\n",
    "    t_R4 = 2^(R/4-1) +  2^(R/4-2)\n",
    "    target = vector([t_R2]*int(n/2) + [t_R4]*int(n/2) )   \n",
    "    \n",
    "if index==4:\n",
    "    t_R2 = 2^(R/2-1) + 2^(R/2-2)\n",
    "    t_R4 = 2^(R/4-1) + 2^(R/4-2)\n",
    "    t_R8 = 2^(R/8-1) + 2^(R/8-2)\n",
    "    target = vector([t_R2]*int(n/3) + [t_R4]*int(n/3) + [t_R8]*int(n/3)) \n",
    "    "
   ]
  },
  {
   "cell_type": "code",
   "execution_count": 130,
   "metadata": {},
   "outputs": [],
   "source": [
    "if string=='first_approach':\n",
    "    if rank_of_L(A)[0]>1 and m>1: # we want at least two rows to apply LLL reduction to matrix A\n",
    "        B_lll=basis.LLL() # before we execute Babai we reduce the basis with LLL or BKZ\n",
    "    else:\n",
    "        B_lll=A\n",
    "#Alll=A.BKZ(block_size=35) # uncomment if you want to use BKZ\n",
    "\n",
    "if string=='second_approach':\n",
    "    if index==2 or index==3:\n",
    "        if rank_of_L(A1)[0]>1 and m>1: # we want at least two rows to apply LLL reduction to matrix A\n",
    "            B_lll1=basis.LLL(A1) # before we execute Babai we reduce the basis with LLL or BKZ\n",
    "        if rank_of_L(A2)[0]>1 and m>1:\n",
    "            B_lll2=basis.LLL(A2)\n",
    "        if m==1:\n",
    "            B_lll1 = basis1\n",
    "            B_lll2 = basis2\n",
    "    if index==4:\n",
    "        if rank_of_L(A1)[0]>1 and m>1: # we want at least two rows to apply LLL reduction to matrix A\n",
    "            B_lll1=basis.LLL(A1) # before we execute Babai we reduce the basis with LLL or BKZ\n",
    "        if rank_of_L(A2)[0]>1 and m>1:\n",
    "            B_lll2=basis.LLL(A2)\n",
    "        if m==1:\n",
    "            B_lll1 = basis1\n",
    "            B_lll2 = basis2\n",
    "            B_lll3 = basis3\n",
    "        "
   ]
  },
  {
   "cell_type": "code",
   "execution_count": 131,
   "metadata": {},
   "outputs": [],
   "source": [
    "#print(\"target:\",target);\n",
    "#print(\"B lll:\");print(B_lll)"
   ]
  },
  {
   "cell_type": "code",
   "execution_count": 132,
   "metadata": {},
   "outputs": [
    {
     "name": "stdout",
     "output_type": "stream",
     "text": [
      "True\n",
      "True\n"
     ]
    }
   ],
   "source": [
    "# We execute the attack\n",
    "# First we execute approximate CVP using Babai's algorithm\n",
    "if string=='first_approach':\n",
    "    babai_vector=babai(B_lll,target)  \n",
    "    babai_vector\n",
    "if string=='second_approach':\n",
    "    if index==2 or index==3:\n",
    "        target1=target[:n/2]\n",
    "        target2=target[n/2:]\n",
    "        babai_vector1=babai(B_lll1,target1)\n",
    "        babai_vector2=babai(B_lll2,target2)\n",
    "        print((A1*matrix(babai_vector1).T)[0]==0)\n",
    "        print((A2*matrix(babai_vector2).T)[0]==0)\n",
    "    if index==4:\n",
    "        target1=target[:n/3]\n",
    "        target2=target[n/3:2*n/3]\n",
    "        target3=target[2*n/3:]\n",
    "        babai_vector1=babai(B_lll1,target1)\n",
    "        babai_vector2=babai(B_lll2,target2)\n",
    "        babai_vector3=babai(B_lll3,target3)\n",
    "        print((A1*matrix(babai_vector1).T)[0]==0)\n",
    "        print((A2*matrix(babai_vector2).T)[0]==0)\n",
    "        print((A3*matrix(babai_vector3).T)[0]==0)"
   ]
  },
  {
   "cell_type": "code",
   "execution_count": null,
   "metadata": {},
   "outputs": [],
   "source": []
  },
  {
   "cell_type": "markdown",
   "metadata": {},
   "source": [
    "The last step of the attack is to construct vectors of the form\n",
    "$${\\bf v}_j = {\\rm{sol}} + j\\cdot {\\rm babai\\_vector}, j=-10,...,10 $$\n",
    "To -10,10 επιλέχθηκε ευρετικά.\n",
    "<br>\n",
    "Αν το babai_vector είναι το μηδενικό διάνυσμα, αυτό σημαίνει ότι, το μηδενικο διάνυσμα είναι αυτό που είναι πιο\n",
    "κοντά στο target. Σε αυτή την περίπτωση το ${\\bf v}_j={\\rm {sol}}$ για όλα τα $j.$"
   ]
  },
  {
   "cell_type": "code",
   "execution_count": 133,
   "metadata": {},
   "outputs": [],
   "source": [
    "alpha = 20\n",
    "\n",
    "if string=='first_approach': # indepedent from index\n",
    "    Xdn=[]\n",
    "    Xdp=[]\n",
    "    Xd=[]\n",
    "    if babai_vector!=vector([0]*n):\n",
    "        Xdn = [vector(sol) -j*vector(babai_vector) for j in range(alpha)] #the vectors returned by CVP method\n",
    "        Xdp = [vector(sol) + j*vector(babai_vector) for j in range(alpha)] #the vectors returned by CVP method \n",
    "        Xd = Xdn+Xdp\n",
    "    else:\n",
    "        Xd = vector(sol)\n",
    "        alpha = 0\n",
    "    #print(Xd)\n",
    "if string=='second_approach' and k==2:  # indepedent from index\n",
    "\n",
    "    Xdn1=[]\n",
    "    Xdp1=[]\n",
    "    Xd1=[]\n",
    "    \n",
    "    Xdn2=[]\n",
    "    Xdp2=[]\n",
    "    Xd2=[]\n",
    "    if babai_vector1!=vector([0]*n):\n",
    "        Xdn1 = [vector(sol1) - j*vector(babai_vector1) for j in range(alpha)] \n",
    "        Xdp1 = [vector(sol1) + j*vector(babai_vector1) for j in range(alpha)]\n",
    "        Xd1 = Xdn1+Xdp1\n",
    "    if babai_vector2!=vector([0]*n):\n",
    "        Xdn2 = [vector(sol2) - j*vector(babai_vector2) for j in range(alpha)] \n",
    "        Xdp2 = [vector(sol2) + j*vector(babai_vector2) for j in range(alpha)]\n",
    "        Xd2 = Xdn2+Xdp2\n",
    "    if babai_vector1==vector([0]*n):\n",
    "        Xd1 = vector(sol1)\n",
    "        alpha = 0\n",
    "    if babai_vector2==vector([0]*n):\n",
    "        Xd2 = vector(sol2)\n",
    "        alpha = 0\n",
    "        \n",
    "if string=='second_approach' and k==3:  # indepedent from index\n",
    "\n",
    "    Xdn1=[]\n",
    "    Xdp1=[]\n",
    "    Xd1=[]\n",
    "    \n",
    "    Xdn2=[]\n",
    "    Xdp2=[]\n",
    "    Xd2=[]\n",
    "    \n",
    "    Xdn3=[]\n",
    "    Xdp3=[]\n",
    "    Xd3=[]\n",
    "    if babai_vector1!=vector([0]*n):\n",
    "        Xdn1 = [vector(sol1) - j*vector(babai_vector1) for j in range(alpha)] \n",
    "        Xdp1 = [vector(sol1) + j*vector(babai_vector1) for j in range(alpha)]\n",
    "        Xd1 = Xdn1+Xdp1\n",
    "    if babai_vector2!=vector([0]*n):\n",
    "        Xdn2 = [vector(sol2) - j*vector(babai_vector2) for j in range(alpha)] \n",
    "        Xdp2 = [vector(sol2) + j*vector(babai_vector2) for j in range(alpha)]\n",
    "        Xd2 = Xdn2+Xdp2\n",
    "    if babai_vector3!=vector([0]*n):\n",
    "        Xdn3= [vector(sol3) - j*vector(babai_vector3) for j in range(alpha)] \n",
    "        Xdp3= [vector(sol3) + j*vector(babai_vector3) for j in range(alpha)]\n",
    "        Xd3= Xdn3+Xdp3\n",
    "    if babai_vector1==vector([0]*n):\n",
    "        Xd1 = vector(sol1)\n",
    "        alpha = 0\n",
    "    if babai_vector2==vector([0]*n):\n",
    "        Xd2 = vector(sol2)\n",
    "        alpha = 0\n",
    "    if babai_vector3==vector([0]*n):\n",
    "        Xd3 = vector(sol3)\n",
    "        alpha = 0\n",
    "    "
   ]
  },
  {
   "cell_type": "code",
   "execution_count": 134,
   "metadata": {},
   "outputs": [],
   "source": [
    "def number_of_good_entries(list,upper,lower): #the number of entries in the intrval [lower,uppper]\n",
    "        C=0\n",
    "        for i in range(len(list)):\n",
    "            if (list[i]<=upper and list[i]>=lower):\n",
    "                C=C+1      \n",
    "        return C,len(list)-C #number of good and bad entries, respecively"
   ]
  },
  {
   "cell_type": "code",
   "execution_count": 135,
   "metadata": {},
   "outputs": [],
   "source": [
    "# we want to check if our attack found a vector in S1 or S2\n",
    "if string=='first_approach':\n",
    "    if index == 1:\n",
    "        u = 2^R-1\n",
    "        l = 2^(R-1)\n",
    "        for i in range(2*alpha):\n",
    "            C = [number_of_good_entries(list(Xd[i]),u,l)[0]]\n",
    "            if C[0] == n:\n",
    "                print(\"Success!\")\n",
    "                print(\"the solution:\",Xd[i])\n",
    "                break\n",
    "\n",
    "    if index == 2:\n",
    "        # R bits\n",
    "        u1 = 2^R-1\n",
    "        l1 = 2^(R-1)\n",
    "        # R/2 bits\n",
    "        u2 = 2^(R/2 - 1)\n",
    "        l2 =  2^(R/2) - 1\n",
    "        for i in range(2*alpha):\n",
    "            C1 = [number_of_good_entries(list(Xd[i][:n/2]),u1,l1)[0]]\n",
    "            C2 = [number_of_good_entries(list(Xd[i][n/2:]),u2,l2)[0]]\n",
    "            print(Xd[i][n/2:])\n",
    "            if C1[0] == n/2 and C2[0]==n/2:\n",
    "                print(\"Success!\")\n",
    "                print(\"the solution:\",Xd[i])\n",
    "                break\n",
    "\n",
    "    if index == 3:\n",
    "        # R bits\n",
    "        u1 = 2^R/2-1\n",
    "        l1 = 2^((R/2)-1)\n",
    "        # R/2 bits\n",
    "        u2 = 2^(R/4) - 1\n",
    "        l2 = 2^((R/4) - 1)\n",
    "        if alpha!=0:\n",
    "            for i in range(2*alpha):\n",
    "                C1 = [number_of_good_entries(list(Xd[i][:n/2]),u1,l1)[0]]\n",
    "                C2 = [number_of_good_entries(list(Xd[i][n/2:]),u2,l2)[0]]\n",
    "                #print(Xd[i][n/2:])\n",
    "                if C1[0] == n/2 and C2[0]==n/2:\n",
    "                    print(\"Success!\")\n",
    "                    print(\"the solution:\",Xd[i])\n",
    "                    break\n",
    "        else:\n",
    "            C1 = [number_of_good_entries(list(Xd[:n/2]),u1,l1)[0]]\n",
    "            C2 = [number_of_good_entries(list(Xd[n/2:]),u2,l2)[0]]\n",
    "            #print(Xd[i][n/2:])\n",
    "            if C1[0] == n/2 and C2[0]==n/2:\n",
    "                print(\"Success!\")\n",
    "                print(\"the solution:\",Xd)\n",
    "\n",
    "    #C = [number_of_good_entries(list(Xd[i]),u,l)[0] for i in range(2*alpha)] \n",
    "    #if max(C)==n: # δηλ. αν βρήκα n συντεταγμένες μέσα στο I_R επιστρέφω \"επιτυχία\"\n",
    "    #    print(\"Success!\")\n"
   ]
  },
  {
   "cell_type": "code",
   "execution_count": 139,
   "metadata": {},
   "outputs": [
    {
     "name": "stdout",
     "output_type": "stream",
     "text": [
      "max hits from first equation: 12 max hits from second equation: 3\n",
      "62.5000000000000\n",
      "True\n"
     ]
    }
   ],
   "source": [
    "# we want to check if our attack found a vector in S1 or S2 or S3\n",
    "if string=='second_approach':\n",
    "    M1=[]\n",
    "    M2=[]\n",
    "    M3=[]\n",
    "    if index == 2: # index = 2 --> S2\n",
    "        u1 = 2^R-1\n",
    "        l1 = 2^(R-1)\n",
    "        u2 = 2^(R/2)-1\n",
    "        l2 = 2^((R/2)-1)\n",
    "        if alpha==0: # this is the case where babai returned the zero vector\n",
    "            temp1 = number_of_good_entries(list(Xd1),u1,l1)\n",
    "            C1 = temp1[0]\n",
    "            M1.append(C1)\n",
    "            temp2 = number_of_good_entries(list(Xd2),u2,l2)\n",
    "            C2 = temp2[0]\n",
    "            M2.append(C2)\n",
    "        else:\n",
    "            for i in range(2*alpha):\n",
    "                temp1 = number_of_good_entries(list(Xd1[i]),u1,l1)\n",
    "                C1 = temp1[0]\n",
    "                M1.append(C1)\n",
    "                temp2 = number_of_good_entries(list(Xd2[i]),u2,l2)\n",
    "                C2 = temp2[0]\n",
    "                M2.append(C2)\n",
    "        print(\"max hits from first equation:\",max(M1),\"max hits from second equation:\",max(M2))\n",
    "        print( ( max(M1) + max(M2) ) / n * 100.)\n",
    "        t1 = M1.index(max(M1))\n",
    "        x1 = Xd1[t1]\n",
    "        t2 = M2.index(max(M2))\n",
    "        x2 = Xd2[t2]\n",
    "        x=list(x1)+list(x2)\n",
    "        print(A*matrix(x).T==matrix([b[0]]).T) # it is indeed a solution\n",
    "        \n",
    "    if index == 3: # index = 3 --> S3\n",
    "        u1 = 2^(R/2)-1\n",
    "        l1 = 2^((R/2)-1)\n",
    "        u2 = 2^(R/4)-1\n",
    "        l2 = 2^((R/4)-1)\n",
    "        if alpha==0: # this is the case where babai returned the zero vector\n",
    "            temp1 = number_of_good_entries(list(Xd1),u1,l1)\n",
    "            C1 = temp1[0]\n",
    "            M1.append(C1)\n",
    "            temp2 = number_of_good_entries(list(Xd2),u2,l2)\n",
    "            C2 = temp2[0]\n",
    "            M2.append(C2)\n",
    "        else:\n",
    "            for i in range(2*alpha):\n",
    "                temp1 = number_of_good_entries(list(Xd1[i]),u1,l1)\n",
    "                C1 = temp1[0]\n",
    "                M1.append(C1)\n",
    "                temp2 = number_of_good_entries(list(Xd2[i]),u2,l2)\n",
    "                C2 = temp2[0]\n",
    "                M2.append(C2)        \n",
    "        print(\"max hits from first equation:\",max(M1),\"max hits from second equation:\",max(M2))\n",
    "        print( ( max(M1) + max(M2) ) / n * 100.)\n",
    "        t1 = M1.index(max(M1))\n",
    "        x1 = Xd1[t1]\n",
    "        t2 = M2.index(max(M2))\n",
    "        x2 = Xd2[t2]\n",
    "        x=list(x1)+list(x2)\n",
    "        print(A*matrix(x).T==matrix([b[0]]).T) # it is indeed a solution\n",
    "        \n",
    "            \n",
    "    if index == 4: # index = 4 --> S4\n",
    "        u1 = 2^(R/2)-1\n",
    "        l1 = 2^((R/2)-1)\n",
    "        u2 = 2^(R/4)-1\n",
    "        l2 = 2^((R/4)-1)\n",
    "        u3 = 2^(R/8)-1\n",
    "        l3= 2^((R/8)-1)\n",
    "        \n",
    "        if alpha==0: # this is the case where babai returned the zero vector\n",
    "            temp1 = number_of_good_entries(list(Xd1),u1,l1)\n",
    "            C1 = temp1[0]\n",
    "            M1.append(C1)\n",
    "            temp2 = number_of_good_entries(list(Xd2),u2,l2)\n",
    "            C2 = temp2[0]\n",
    "            M2.append(C2)\n",
    "        else:\n",
    "            for i in range(2*alpha):\n",
    "                temp1 = number_of_good_entries(list(Xd1[i]),u1,l1)\n",
    "                C1 = temp1[0]\n",
    "                M1.append(C1)\n",
    "                temp2 = number_of_good_entries(list(Xd2[i]),u2,l2)\n",
    "                C2 = temp2[0]\n",
    "                M2.append(C2)\n",
    "                temp3 = number_of_good_entries(list(Xd3[i]),u3,l3)\n",
    "                C3 = temp3[0]\n",
    "                M3.append(C3)\n",
    "        print(\"max hits from first equation:\",max(M1),\"max hits from second equation:\",max(M2),max(M3))\n",
    "        print( ( max(M1) + max(M2) + max(M3) ) / n * 100.)\n",
    "        t1 = M1.index(max(M1))\n",
    "        x1 = Xd1[t1]\n",
    "        t2 = M2.index(max(M2))\n",
    "        x2 = Xd2[t2]\n",
    "        t3 = M3.index(max(M3))\n",
    "        x3 = Xd3[t3]\n",
    "        x=list(x1)+list(x2)+list(x3)\n",
    "        print(A*matrix(x).T==matrix([b[0]]).T) # it is indeed a solution"
   ]
  },
  {
   "cell_type": "code",
   "execution_count": 137,
   "metadata": {},
   "outputs": [
    {
     "data": {
      "text/plain": [
       "True"
      ]
     },
     "execution_count": 137,
     "metadata": {},
     "output_type": "execute_result"
    }
   ],
   "source": [
    "A*matrix(x).T==matrix([b[0]]).T # it is indeed a solution"
   ]
  },
  {
   "cell_type": "markdown",
   "metadata": {},
   "source": [
    "Παρακάτω στην ενότητα \"Ιmprovement of step 3\" δίνω τον αλγόριθμο από το paper \n",
    "<br>\n",
    "Karen Aardal, Cor A. J. Hurkens and Arjen K. Lenstra, Solving a System of Linear Diophantine Equations with Lower and Upper Bounds on the Variables, Mathematics of Operations Research, Vol. 25, No.  3 (Aug., 2000), p. 427--442 (16 pages).\t\n",
    "<br>\n",
    "Στο προηγούμενο paper οι συγγραφεις όταν γράφουν ότι ένα lattice παράγεται από τον πίνακα Α, εννοούνε ότι παράγεται από τις σηλες του πίνακα και όχι από τις γραμμές. Στον παρακάτω κώδικα, έχουμε θεωρήσει τον ανάστροφο επειδη το sagemath όταν κάνει LLL σε έναν πίνακα, κάνει στις γραμμές του. "
   ]
  },
  {
   "cell_type": "markdown",
   "metadata": {},
   "source": [
    "# <span style=\"color:purple\">Ενοποιημένος Κώδικας "
   ]
  },
  {
   "cell_type": "code",
   "execution_count": 1,
   "metadata": {},
   "outputs": [],
   "source": [
    "reset()\n",
    "\n",
    "# some auxiliary functions\n",
    "def bits(n):\n",
    "    return floor(log( max ( abs(n), 1) ,2))+1\n",
    "\n",
    "def draz(n,a,a0,par):\n",
    "    '''\n",
    "    we use this code only if m=1\n",
    "    '''\n",
    "    \n",
    "    r=0;\n",
    "    zerom=matrix(QQ,1,[r for i in range(0, n)]); # part of the last row\n",
    "    X=[par for i in range(0, n)];\n",
    "    L=matrix(QQ,2,[[0 for i in range(0, n)],[a[i] for i in range(0, n)]]);\n",
    "    L=L.transpose();\n",
    "    M = identity_matrix(ZZ, n);\n",
    "    M=matrix(QQ,n,[1/X[i]*M.row(i) for i in range(0,n)]);\n",
    "    Mb=block_matrix([[M,L]]);\n",
    "    zerom1=block_matrix([[zerom,1,-a0]]);  # this is the last row\n",
    "    Mb1=Mb.stack(zerom1);#show(Mb1);\n",
    "    #print(Mb1)\n",
    "    L=Mb1.LLL();\n",
    "    L1=[[(L[j][i]-r)*X[i] for i in range(0,n)] for j in range(0,n+1)];#if the last row has 1/2 instead of 0\n",
    "    L2=[vector(L1[i]).dot_product(vector(a))-a0 for i in range(0,n+1)];\n",
    "    if L2.count(0)>0:\n",
    "        sol = L1[L2.index(0)]\n",
    "        return sol,vector(sol).norm().n()\n",
    "    else:\n",
    "        return \"NULL\"   \n",
    "\n",
    "###\n",
    "# main code\n",
    "\n",
    "def gen_A_and_x(R,n,m,index):\n",
    "    '''\n",
    "    R : bits\n",
    "    n : dimension\n",
    "    m : number of equations\n",
    "    index = 1,2 or 3\n",
    "    '''\n",
    "\n",
    "        \n",
    "    if index >6 or index<0:\n",
    "        print(\"1<=index <=6\")\n",
    "        return _,_,_  \n",
    "    if n%2==1:\n",
    "        print(\"n must be even\")\n",
    "        return _,_,_\n",
    "    if R%2==1:\n",
    "        print(\"R must be even\")\n",
    "        return _,_,_\n",
    "    if R%4 != 0 and index==3:\n",
    "        print(\"R must be divisible by 4\")\n",
    "        return _,_,_\n",
    "    if index==4:\n",
    "        if R%8 != 0:\n",
    "            print(\"R must be divisible by 8\")\n",
    "            return _,_,_\n",
    "        if n % 3 != 0:\n",
    "            print(\"n must be divisible by 3\")\n",
    "            return _,_,_\n",
    "    if index==5:\n",
    "        if R%8 != 0:\n",
    "            print(\"R must be divisible by 8\")\n",
    "            return _,_,_\n",
    "        if n % 4 != 0:\n",
    "            print(\"n must be divisible by 4\")\n",
    "            return _,_,_\n",
    "    if index==6:\n",
    "        if R%16 != 0:\n",
    "            print(\"R must be divisible by 16\")\n",
    "            return _,_,_\n",
    "        if n % 5 != 0:\n",
    "            print(\"n must be divisible by 5\")\n",
    "            return _,_,_\n",
    "    \n",
    "    # generation of a matrix with elements from I_{R/2}\n",
    "    left  = 2^(R/2-1)\n",
    "    right = 2^(R/2) - 1\n",
    "    \n",
    "    # generation of a matrix with elements from I_{R}\n",
    "    left  = 2^(R-1)\n",
    "    right = 2^(R) - 1\n",
    "        \n",
    "    # generation of a matrix with elements from I_{R/8}\n",
    "    left  = 2^(R/8-1)\n",
    "    right = 2^(R/8) - 1\n",
    "\n",
    "\n",
    "    # Now, we generate a matrix with (n-1) rows, and random integer elements from the interval [left, right]\n",
    "    A = matrix( [vector([ZZ.random_element(left,right+1) for _ in range(n)]) for _  in range(m)] )\n",
    "    if index == 1:\n",
    "        left1  = 2^(R-1)\n",
    "        right1 = 2^R - 1\n",
    "        x = vector([ZZ.random_element(left1 , right1 + 1) for _ in range(n)])\n",
    "\n",
    "    if index == 2:\n",
    "        left1   = 2^(R-1)\n",
    "        right1  = 2^R - 1\n",
    "        left2   = 2^(R/2 - 1)\n",
    "        right2  = 2^(R/2) - 1\n",
    "        x1 = [ZZ.random_element(left1 , right1 + 1) for _ in range(n/2)]\n",
    "        x2 = [ZZ.random_element(left2 , right2 + 1) for _ in range(n/2)]\n",
    "        x = vector(x1+x2)\n",
    "    \n",
    "    if index == 3:\n",
    "        left1   = 2^(R/2-1)\n",
    "        right1  = 2^(R/2) - 1\n",
    "        left2   = 2^(R/4 - 1)\n",
    "        right2  = 2^(R/4) - 1\n",
    "        x1 = [ZZ.random_element(left1 , right1 + 1) for _ in range(n/2)]\n",
    "        x2 = [ZZ.random_element(left2 , right2 + 1) for _ in range(n/2)]\n",
    "        x = vector(x1+x2)\n",
    "        \n",
    "    if index == 4:\n",
    "        left1   = 2^(R/2-1)\n",
    "        right1  = 2^(R/2) - 1\n",
    "        left2   = 2^(R/4 - 1)\n",
    "        right2  = 2^(R/4) - 1\n",
    "        left3   = 2^(R/8 - 1)\n",
    "        right3  = 2^(R/8) - 1\n",
    "        x1 = [ZZ.random_element(left1 , right1 + 1) for _ in range(n/3)]\n",
    "        x2 = [ZZ.random_element(left2 , right2 + 1) for _ in range(n/3)]\n",
    "        x3 = [ZZ.random_element(left3 , right3 + 1) for _ in range(n/3)]\n",
    "        x = vector(x1+x2+x3)\n",
    "        \n",
    "    if index == 5:\n",
    "        left1   = 2^(R-1)\n",
    "        right1  = 2^(R) - 1\n",
    "        left2   = 2^(R/2 - 1)\n",
    "        right2  = 2^(R/2) - 1\n",
    "        left3   = 2^(R/4 - 1)\n",
    "        right3  = 2^(R/4) - 1\n",
    "        left4   = 2^(R/8 - 1)\n",
    "        right4  = 2^(R/8) - 1\n",
    "        x1 = [ZZ.random_element(left1 , right1 + 1) for _ in range(n/4)]\n",
    "        x2 = [ZZ.random_element(left2 , right2 + 1) for _ in range(n/4)]\n",
    "        x3 = [ZZ.random_element(left3 , right3 + 1) for _ in range(n/4)]\n",
    "        x4 = [ZZ.random_element(left4 , right4 + 1) for _ in range(n/4)]\n",
    "        x = vector(x1+x2+x3+x4)\n",
    "\n",
    "    if index == 6:\n",
    "        left1   = 2^(R-1)\n",
    "        right1  = 2^(R) - 1\n",
    "        left2   = 2^(R/2 - 1)\n",
    "        right2  = 2^(R/2) - 1\n",
    "        left3   = 2^(R/4 - 1)\n",
    "        right3  = 2^(R/4) - 1\n",
    "        left4   = 2^(R/8 - 1)\n",
    "        right4  = 2^(R/8) - 1\n",
    "        left5   = 2^(R/16 - 1)\n",
    "        right5  = 2^(R/16) - 1\n",
    "        x1 = [ZZ.random_element(left1 , right1 + 1) for _ in range(n/5)]\n",
    "        x2 = [ZZ.random_element(left2 , right2 + 1) for _ in range(n/5)]\n",
    "        x3 = [ZZ.random_element(left3 , right3 + 1) for _ in range(n/5)]\n",
    "        x4 = [ZZ.random_element(left4 , right4 + 1) for _ in range(n/5)]\n",
    "        x5 = [ZZ.random_element(left5 , right5 + 1) for _ in range(n/5)]\n",
    "        x = vector(x1+x2+x3+x4+x5)\n",
    "    #print(\"secret key x:\",x)\n",
    "    # we compute also the vector b\n",
    "    b = (A*x) # όταν το m=1 απλα υπολογιζουμε το εσωτερικό γινόμενο\n",
    "    #print(\"b:\",b)\n",
    "    return A,x,b\n",
    "\n",
    "#rank of the lattice\n",
    "def rank_of_L(A):\n",
    "    '''\n",
    "    outputs three integers. \n",
    "    [1] the rank of the lattice Ax=0, which is equal to (number of columns of A)-(rank(A)), \n",
    "    This is in fact the dimension of the nullspace(A).\n",
    "    [2] the number of columns k and \n",
    "    [3] the rank r of A\n",
    "    '''\n",
    "    k=A.dimensions()[1] # number of columns\n",
    "    r=A.rank()\n",
    "    return k-r,k,r\n",
    "\n",
    "#basis of the lattice L:ΑΧ=0\n",
    "def kernel(B):\n",
    "    A = matrix(ZZ,B)\n",
    "    Rank,k,r = rank_of_L(A)\n",
    "    #print(\"rank of the lattice:\",Rank ) # αυτό είναι απο το θεώρημα της διάστασης.\n",
    "    Q=A.smith_form()[2]\n",
    "    X=matrix(ZZ,[Q.column(i) for i in range(r,k)])\n",
    "    return X\n",
    "\n",
    "'''\n",
    "input   : dimension n, a vector a = [a1,a2,...,an], a target integer b \n",
    "          and a parameter Y which represents a bound for the solution, i.e. \n",
    "          we search for solutions |x_i|<Y. So choose Y large.\n",
    "          \n",
    "output  : a solution of the equation a1x1+a2x2+...+anxn=b, possibly satisfies |xi|<Y\n",
    "\n",
    "'''\n",
    "def a_solution(n,a,b,Y):    \n",
    "    r=0;    \n",
    "    #construction of the matrix\n",
    "    zerom=matrix(QQ,1,[r for i in range(0, n)]); # part of the last row\n",
    "    X=[Y for i in range(0, n)];\n",
    "    L=matrix(QQ,2,[[0 for i in range(0, n)],[a[i] for i in range(0, n)]]);\n",
    "    L=L.transpose();\n",
    "    M = identity_matrix(ZZ, n);\n",
    "    M=matrix(QQ,n,[1/X[i]*M.row(i) for i in range(0,n)]);\n",
    "    Mb=block_matrix([[M,L]]);\n",
    "    zerom1=block_matrix([[zerom,1,-b]]);  # this is the last row\n",
    "    Mb1=Mb.stack(zerom1);\n",
    "    \n",
    "    L=Mb1.LLL();   #use LLL algorithm for basis reduction\n",
    "    L1=[[(L[j][i]-r)*X[i] for i in range(0,n)] for j in range(0,n+1)];#if the last row has 1/2 instead of 0\n",
    "    L2=[vector(L1[i]).dot_product(vector(a))-b for i in range(0,n+1)];\n",
    "    if L2.count(0)>0:\n",
    "        print(\"Euclidean length of the solution:\",float(vector(L1[L2.index(0)]).norm()))\n",
    "        print(\"One solution is:\",L1[L2.index(0)])\n",
    "        return L1[L2.index(0)]\n",
    "    else:\n",
    "        print(\"NULL\")\n",
    "        return \"NULL\"\n",
    "\n",
    "\n",
    "def construction_of_matrix(A,d,N1,N2):\n",
    "\n",
    "    '''\n",
    "    input   : dimension n, a matrix mxn A = [aij], a column vector d\n",
    "              and two parameters N1, N2 with N1<N2\n",
    "\n",
    "    output  : a solution of the system Ax=d\n",
    "\n",
    "    '''\n",
    "\n",
    "    # we define the rows (m) and columns (n)\n",
    "    n,m=A.dimensions()[1] , A.dimensions()[0]\n",
    "    # construction of the matrix\n",
    "    zerom1 = matrix(QQ,1,[0 for i in range(0, n)]).T;     # 0_{nx1}\n",
    "    zerom2 = matrix(QQ,1,[0 for i in range(0, n)]+[N1]);  # [0_{1xn},N1]\n",
    "    In = identity_matrix(ZZ, n);\n",
    "    upper_block = block_matrix([[In,zerom1]]);\n",
    "    medium_row = zerom2\n",
    "    lower_block = block_matrix([[N2*A,-N2*d]]);\n",
    "    final_matrix = block_matrix(3,[ [upper_block], [zerom2], [lower_block]])\n",
    "    return final_matrix.T\n",
    "\n",
    "\n",
    "def a_solution_of_the_system(A,d,N1,N2):\n",
    "    if A==_:\n",
    "        return\n",
    "    B=construction_of_matrix(A,d,N1,N2)\n",
    "    Blll = B.LLL()\n",
    "    #in order to find the solutions\n",
    "    # you have to find the row that has the entry N1 i.e.\n",
    "    # we are looking for a row of the form (....,N1,...)\n",
    "\n",
    "    nrows = Blll.dimensions()[0]\n",
    "    for i in range(nrows):\n",
    "        if N1 in Blll.row(i):\n",
    "            t = i\n",
    "            solution = Blll.row(t)[:n]\n",
    "            #print(\"solution:\",solution)\n",
    "            return solution\n",
    "    print(\"error\")\n",
    "    return \"error\"\n",
    "\n",
    "\n",
    "\n",
    "def babai(B,v):\n",
    "    Y=[]\n",
    "    i=0\n",
    "    j=0\n",
    "    row=int(B.nrows())\n",
    "    col=int(B.ncols())\n",
    "    w=vector([0 for i in range(0,len(v))])\n",
    "    Gram=B.gram_schmidt()[0] # Gram_schmidt is a function of Sagemath\n",
    "    w=vector(v)\n",
    "    for j in range(row):        \n",
    "        i=row-j-1\n",
    "        c1=w.dot_product((Gram[i])) # dot product is a function of Sagemath\n",
    "        c2=Gram[i].dot_product(Gram[i])\n",
    "        l=c1/c2\n",
    "        e=floor(l+0.5)*(B.row(i))\n",
    "        Y.append(e)\n",
    "        w=w-(l-floor(l+0.5))*Gram[i]-(floor(l+0.5)*B.row(i))   \n",
    "    u=sum(Y)        \n",
    "    return u\n",
    "\n",
    "def Xd_list(alpha,babai_vector,sol):\n",
    "    '''\n",
    "    input  : an integer alpha, usually 10 and the output of babai(.,.)\n",
    "    output : a list that contains the vectors, sol +j*babai_vector, for j=-alpha,...,alpha \n",
    "    '''\n",
    "    Xdn=[]\n",
    "    Xdp=[]\n",
    "    Xd=[]\n",
    "    if babai_vector!=vector([0]*n):\n",
    "        Xdn = [vector(sol) - j*vector(babai_vector) for j in range(alpha)] #the vectors returned by CVP method\n",
    "        Xdp = [vector(sol) + j*vector(babai_vector) for j in range(alpha)] #the vectors returned by CVP method \n",
    "        Xd = Xdn+Xdp\n",
    "    else: # i.e. in the case where babai provides the zero vector\n",
    "        Xd = vector(sol)\n",
    "        alpha = 0\n",
    "    return Xd,alpha\n",
    "\n",
    "def number_of_good_entries(list,upper,lower): #the number of entries in the intrval [lower,uppper]\n",
    "        C=0\n",
    "        for i in range(len(list)):\n",
    "            if (list[i]<=upper and list[i]>=lower):\n",
    "                C=C+1      \n",
    "        return C,len(list)-C #number of good and bad entries  \n",
    "\n",
    "def number_of_good_entries2(list,upper,lower,upper1,lower1): \n",
    "    #the number of entries in the interval [lower1,uppper1] for the first n/2 coordinates of 'list'\n",
    "    #and in [lower2,upper2] for the rest n/2 coordinates of the element of 'list'.\n",
    "        C=0\n",
    "        for i in range(len(list)):\n",
    "            if (list[i]<=upper and list[i]>=lower) or (list[i]<=upper1 and list[i]>=lower1):\n",
    "                C=C+1      \n",
    "        return C,len(list)-C #number of good and bad entries \n",
    "    \n",
    "def number_of_good_entries3(list,upper,lower,upper1,lower1,upper2,lower2): \n",
    "    #the number of entries in the interval [lower1,uppper1] for the first n/2 coordinates of 'list'\n",
    "    #and in [lower2,upper2] for the rest n/2 coordinates of the element of 'list'.\n",
    "        C=0\n",
    "        for i in range(len(list)):\n",
    "            if (list[i]<=upper and list[i]>=lower) or (list[i]<=upper1 and list[i]>=lower1) or (list[i]<=upper2 and list[i]>=lower2):\n",
    "                C=C+1      \n",
    "        return C,len(list)-C #number of good and bad entries \n",
    "    \n",
    "def number_of_good_entries4(list,upper,lower,upper1,lower1,upper2,lower2,upper3,lower3): \n",
    "    #the number of entries in the interval [lower1,uppper1] for the first n/2 coordinates of 'list'\n",
    "    #and in [lower2,upper2] for the rest n/2 coordinates of the element of 'list'.\n",
    "        C=0\n",
    "        for i in range(len(list)):\n",
    "            if (list[i]<=upper and list[i]>=lower)\\\n",
    "            or (list[i]<=upper1 and list[i]>=lower1)\\\n",
    "            or (list[i]<=upper2 and list[i]>=lower2)\\\n",
    "            or (list[i]<=upper3 and list[i]>=lower3):\n",
    "                C=C+1      \n",
    "        return C,len(list)-C #number of good and bad entries \n",
    "    \n",
    "def number_of_good_entries5(list,upper,lower,upper1,lower1,upper2,lower2,upper3,lower3,upper4,lower4): \n",
    "    #the number of entries in the interval [lower1,uppper1] for the first n/2 coordinates of 'list'\n",
    "    #and in [lower2,upper2] for the rest n/2 coordinates of the element of 'list'.\n",
    "        C=0\n",
    "        for i in range(len(list)):\n",
    "            if (list[i]<=upper and list[i]>=lower)\\\n",
    "            or (list[i]<=upper1 and list[i]>=lower1)\\\n",
    "            or (list[i]<=upper2 and list[i]>=lower2)\\\n",
    "            or (list[i]<=upper3 and list[i]>=lower3)\\\n",
    "            or (list[i]<=upper4 and list[i]>=lower4):\n",
    "                C=C+1      \n",
    "        return C,len(list)-C #number of good and bad entries "
   ]
  },
  {
   "cell_type": "code",
   "execution_count": 2,
   "metadata": {},
   "outputs": [],
   "source": [
    "# we want to check if our attack finds a vector in S1 or S2\n",
    "# some auxiliary functions\n",
    "def bits(n):\n",
    "    return floor(log( max ( abs(n), 1) ,2))+1\n",
    "\n",
    "def rank_of_matrix(C):\n",
    "    B=C.echelon_form()\n",
    "    zero_list = [0]*B.dimensions()[1]\n",
    "    num_rows = B.dimensions()[0]\n",
    "    upper = 0\n",
    "    lower = num_rows\n",
    "    while(abs(lower-upper)!=1):\n",
    "        mean = floor((upper+lower)/2)\n",
    "        if B[mean] != vector(zero_list):\n",
    "            upper=  mean\n",
    "        else:\n",
    "            if B[mean+1] == vector(zero_list):\n",
    "                lower = mean\n",
    "    return max(lower,upper)\n",
    "\n",
    "\n",
    "def generate_idempotent(N,k):\n",
    "    # N is the dimension of the matrix\n",
    "    # k is used to get an upper bound of the entries : 2^k\n",
    "    from sage.matrix.constructor import random_subspaces_matrix\n",
    "    from sage.matrix.constructor import random_unimodular_matrix\n",
    "    matrix_space = sage.matrix.matrix_space.MatrixSpace(ZZ,N)\n",
    "    M = matrix(ZZ,N)\n",
    "    D = identity_matrix(N)\n",
    "    while D==0 or D==1:\n",
    "        D = diagonal_matrix([ZZ.random_element(0,2) for _ in range(N)])\n",
    "    #A = random_matrix(ZZ, N,N, algorithm='echelonizable', rank=N) # unimodular\n",
    "    A = random_unimodular_matrix(matrix_space, upper_bound = 2**k)\n",
    "    M = A*D*A^(-1)\n",
    "    #print(D)\n",
    "    print(\"max/min bits on entries:\",max_min_bits(M))\n",
    "    return M\n",
    "\n",
    "def max_min_bits(A):\n",
    "    # A is a rectangular matrix\n",
    "    # return the max(bits(A[i,j])) and min(bits(A[i,j]))\n",
    "    n = A.dimensions()[0]\n",
    "    L = [ bits(A[i,j]) for i in range(n) for j in range(n)]\n",
    "    return max(L),min(L)\n",
    "\n",
    "def attack(A,sol,R,n,index,alpha1):\n",
    "        \n",
    "    if index >6 or index<0:\n",
    "        return \"Error\"  \n",
    "    if n%2==1:\n",
    "        return \"n must be even\"\n",
    "    if R%2==1:\n",
    "        return \"R must be even\"\n",
    "    if R%4 != 0 and index==3:\n",
    "        return \"R must be divisible by 4\"\n",
    "    \n",
    "    basis = kernel(A)\n",
    "    if index==1:\n",
    "        t_R = 2^(R-1)+2^(R-2)\n",
    "        target = vector([t_R]*n)\n",
    "    \n",
    "    if index==2:\n",
    "        t_R  = 2^(R-1)   +  2^(R-2)\n",
    "        t_R2 = 2^(R/2-1) +  2^(R/2-2)\n",
    "        target = vector([t_R]*int(n/2) + [t_R2]*int(n/2) )\n",
    "    \n",
    "    if index==3:\n",
    "        t_R2 = 2^(R/2-1) + 2^(R/2-2)\n",
    "        t_R4 = 2^(R/4-1) + 2^(R/4-2)\n",
    "        target = vector([t_R2]*int(n/2) + [t_R4]*int(n/2) )  \n",
    "        #print(\"target:\",target)\n",
    "        \n",
    "    if index==4:\n",
    "        t_R2 = 2^(R/2-1) + 2^(R/2-2)\n",
    "        t_R4 = 2^(R/4-1) + 2^(R/4-2)\n",
    "        t_R8 = 2^(R/8-1) + 2^(R/8-2)\n",
    "        target = vector([t_R2]*int(n/3) + [t_R4]*int(n/3) + [t_R8]*int(n/3)) \n",
    "    \n",
    "    if index==5:\n",
    "        t_R  = 2^(R-1)   +  2^(R-2)\n",
    "        t_R2 = 2^(R/2-1) + 2^(R/2-2)\n",
    "        t_R4 = 2^(R/4-1) + 2^(R/4-2)\n",
    "        t_R8 = 2^(R/8-1) + 2^(R/8-2)\n",
    "        target = vector( [t_R]*int(n/4) + [t_R2]*int(n/4) + [t_R4]*int(n/4) + [t_R8]*int(n/4)) \n",
    "        \n",
    "    if index==6:\n",
    "        t_R  = 2^(R-1)   +  2^(R-2)\n",
    "        t_R2 = 2^(R/2-1) + 2^(R/2-2)\n",
    "        t_R4 = 2^(R/4-1) + 2^(R/4-2)\n",
    "        t_R8 = 2^(R/8-1) + 2^(R/8-2)\n",
    "        t_R16 = 2^(R/16-1) + 2^(R/16-2)\n",
    "        target = vector( [t_R]*int(n/5) + [t_R2]*int(n/5) + [t_R4]*int(n/5) + [t_R8]*int(n/5) + [t_R16]*int(n/5)) \n",
    "\n",
    "    if rank_of_L(A)[0]>1: # we want at least two rows to apply LLL reduction to matrix A\n",
    "        B_lll=basis.LLL() # before we execute Babai we reduce the basis with LLL or BKZ\n",
    "    else:\n",
    "        B_lll=A # λαθος Β_ll=basis\n",
    "    #Alll=A.BKZ(block_size=35) # uncomment if you want to use BKZ\n",
    "    \n",
    "    # We execute the attack\n",
    "    # First we execute approximate CVP using Babai's algorithm\n",
    "    babai_vector=babai(B_lll,target)          \n",
    "    Xd,alpha=Xd_list(alpha1,babai_vector,sol)\n",
    "    \n",
    "    if index == 1:\n",
    "        u = 2^R-1\n",
    "        l = 2^(R-1)\n",
    "        \n",
    "        if alpha==0: # this is the case where babai returned the zero vector\n",
    "            temp = number_of_good_entries(list(Xd),u,l)\n",
    "            C = temp[0]\n",
    "            return C\n",
    "            \n",
    "        M = []\n",
    "        for i in range(2*alpha):\n",
    "            temp = number_of_good_entries(list(Xd[i]),u,l)\n",
    "            C = temp[0]\n",
    "            M.append(C)\n",
    "        return max(M)\n",
    "\n",
    "    if index == 2:\n",
    "        # R bits\n",
    "        u1 = 2^R-1\n",
    "        l1 = 2^(R-1)\n",
    "        # R/2 bits\n",
    "        u2 =  2^(R/2) - 1\n",
    "        l2 = 2^(R/2 - 1)\n",
    "        \n",
    "        if alpha==0: # this is the case where babai returned the zero vector\n",
    "            temp = number_of_good_entries2(list(Xd),u1,l1,u2,l2)\n",
    "            C = temp[0]\n",
    "            return C\n",
    "        \n",
    "        M = []\n",
    "        for i in range(2*alpha):\n",
    "            temp = number_of_good_entries2(list(Xd[i]),u1,l1,u2,l2)\n",
    "            C = temp[0]\n",
    "            M.append(C)\n",
    "        return max(M)\n",
    "    \n",
    "    if index == 3:\n",
    "        # R bits\n",
    "        u1 = 2^(R/2)-1\n",
    "        l1 = 2^(R/2-1)\n",
    "        # R/2 bits\n",
    "        u2 =  2^(R/4) - 1\n",
    "        l2 = 2^(R/4 - 1)\n",
    "        #print(u1,l1,\",\",u2,l2)\n",
    "        if alpha==0: # this is the case where babai returned the zero vector\n",
    "            temp = number_of_good_entries2(list(Xd),u1,l1,u2,l2)\n",
    "            C = temp[0]\n",
    "            return C\n",
    "        \n",
    "        M=[]\n",
    "        for i in range(2*alpha):\n",
    "            temp = number_of_good_entries2(list(Xd[i]),u1,l1,u2,l2)\n",
    "            C = temp[0]\n",
    "            #print(Xd[i],Xd[i][:n/2],C)\n",
    "            #print(temp,C)\n",
    "            M.append(C)\n",
    "        return max(M)\n",
    "            #if C == n:\n",
    "            #    return(\"Success!\")\n",
    "    \n",
    "    if index == 4:\n",
    "        # R/2 bits\n",
    "        u1 = 2^(R/2)-1\n",
    "        l1 = 2^(R/2-1)\n",
    "        # R/4 bits\n",
    "        u2 =  2^(R/4) - 1\n",
    "        l2 = 2^(R/4 - 1)\n",
    "        # R/8 bits\n",
    "        u3 =  2^(R/8) - 1\n",
    "        l3 = 2^(R/8 - 1)\n",
    "        \n",
    "        if alpha==0: # this is the case where babai returned the zero vector\n",
    "            temp = number_of_good_entries3(list(Xd),u1,l1,u2,l2,u3,l3)\n",
    "            C = temp[0]\n",
    "            return C\n",
    "        \n",
    "        M=[]\n",
    "        for i in range(2*alpha):\n",
    "            temp = number_of_good_entries3(list(Xd[i]),u1,l1,u2,l2,u3,l3)\n",
    "            C = temp[0]\n",
    "            M.append(C)\n",
    "        return max(M)\n",
    "\n",
    "    if index == 5:\n",
    "        # R bits\n",
    "        u1 = 2^R-1\n",
    "        l1 = 2^(R-1)\n",
    "        # R/2 bits\n",
    "        u2 =  2^(R/2) - 1\n",
    "        l2 = 2^(R/2 - 1)\n",
    "        # R/4 bits\n",
    "        u3 =  2^(R/4) - 1\n",
    "        l3 = 2^(R/4 - 1)\n",
    "        # R/8 bits\n",
    "        u4 =  2^(R/8) - 1\n",
    "        l4 = 2^(R/8 - 1)\n",
    "        \n",
    "        if alpha==0: # this is the case where babai returned the zero vector\n",
    "            temp = number_of_good_entries4(list(Xd),u1,l1,u2,l2,u3,l3,u4,l4)\n",
    "            C = temp[0]\n",
    "            return C\n",
    "        \n",
    "        M=[]\n",
    "        for i in range(2*alpha):\n",
    "            temp = number_of_good_entries4(list(Xd[i]),u1,l1,u2,l2,u3,l3,u4,l4)\n",
    "            C = temp[0]\n",
    "            M.append(C)\n",
    "        return max(M)\n",
    "\n",
    "    if index == 6:\n",
    "        # R bits\n",
    "        u1 = 2^R-1\n",
    "        l1 = 2^(R-1)\n",
    "        # R/2 bits\n",
    "        u2 =  2^(R/2) - 1\n",
    "        l2 = 2^(R/2 - 1)\n",
    "        # R/4 bits\n",
    "        u3 =  2^(R/4) - 1\n",
    "        l3 = 2^(R/4 - 1)\n",
    "        # R/8 bits\n",
    "        u4 =  2^(R/8) - 1\n",
    "        l4 = 2^(R/8 - 1)\n",
    "        # R/16 bits\n",
    "        u5 =  2^(R/16) - 1\n",
    "        l5 = 2^(R/16 - 1)\n",
    "        if alpha==0: # this is the case where babai returned the zero vector\n",
    "            temp = number_of_good_entries5(list(Xd),u1,l1,u2,l2,u3,l3,u4,l4,u5,l5)\n",
    "            C = temp[0]\n",
    "            return C\n",
    "        \n",
    "        M=[]\n",
    "        for i in range(2*alpha):\n",
    "            temp = number_of_good_entries5(list(Xd[i]),u1,l1,u2,l2,u3,l3,u4,l4,u5,l5)\n",
    "            C = temp[0]\n",
    "            M.append(C)\n",
    "        return max(M)"
   ]
  },
  {
   "cell_type": "code",
   "execution_count": 3,
   "metadata": {},
   "outputs": [],
   "source": [
    "def gen_idempotent_A_x(R,n,index):\n",
    "    '''\n",
    "    n : dimension of the matrix A\n",
    "    R : we estimate that the entries of the output will be ~2*K bits\n",
    "    index = 1,2,3,4,5,6\n",
    "    ''' \n",
    "    if index >6 or index<0:\n",
    "        print(\"1<=index <=6\")\n",
    "        return _,_,_  \n",
    "    if n%2==1:\n",
    "        print(\"n must be even\")\n",
    "        return _,_,_\n",
    "    if R%2==1:\n",
    "        print(\"R must be even\")\n",
    "        return _,_,_\n",
    "    if R%4 != 0 and index==3:\n",
    "        print(\"R must be divisible by 4\")\n",
    "        return _,_,_\n",
    "    if index==4:\n",
    "        if R%8 != 0:\n",
    "            print(\"R must be divisible by 8\")\n",
    "            return _,_,_\n",
    "        if n % 3 != 0:\n",
    "            print(\"n must be divisible by 3\")\n",
    "            return _,_,_\n",
    "    if index==5:\n",
    "        if R%8 != 0:\n",
    "            print(\"R must be divisible by 8\")\n",
    "            return _,_,_\n",
    "        if n % 4 != 0:\n",
    "            print(\"n must be divisible by 4\")\n",
    "            return _,_,_\n",
    "    if index==6:\n",
    "        if R%16 != 0:\n",
    "            print(\"R must be divisible by 16\")\n",
    "            return _,_,_\n",
    "        if n % 5 != 0:\n",
    "            print(\"n must be divisible by 5\")\n",
    "            return _,_,_\n",
    "    \n",
    "    # generation of a matrix with elements from I_{R/2}\n",
    "    left  = 2^(R/2-1)\n",
    "    right = 2^(R/2) - 1\n",
    "    \n",
    "    # generation of a matrix with elements from I_{R}\n",
    "    left  = 2^(R-1)\n",
    "    right = 2^(R) - 1\n",
    "        \n",
    "    # generation of a matrix with elements from I_{R/8}\n",
    "    left  = 2^(R/8-1)\n",
    "    right = 2^(R/8) - 1\n",
    "    \n",
    "    \n",
    "\n",
    "    # Now, we generate an idempotent matrix\n",
    "    #A = matrix( [vector([ZZ.random_element(left,right+Integer(1)) for _ in range(n)]) for _  in range(m)] )\n",
    "    A = generate_idempotent(n,R)\n",
    "    if index == 1:\n",
    "        left1  = 2^(R-1)\n",
    "        right1 = 2^R - 1\n",
    "        x = vector([ZZ.random_element(left1 , right1 + 1) for _ in range(n)])\n",
    "\n",
    "    if index == 2:\n",
    "        left1   = 2^(R-1)\n",
    "        right1  = 2^R - 1\n",
    "        left2   = 2^(R/2 - 1)\n",
    "        right2  = 2^(R/2) - 1\n",
    "        x1 = [ZZ.random_element(left1 , right1 + 1) for _ in range(n/2)]\n",
    "        x2 = [ZZ.random_element(left2 , right2 + 1) for _ in range(n/2)]\n",
    "        x = vector(x1+x2)\n",
    "    \n",
    "    if index == 3:\n",
    "        left1   = 2^(R/2-1)\n",
    "        right1  = 2^(R/2) - 1\n",
    "        left2   = 2^(R/4 - 1)\n",
    "        right2  = 2^(R/4) - 1\n",
    "        x1 = [ZZ.random_element(left1 , right1 + 1) for _ in range(n/2)]\n",
    "        x2 = [ZZ.random_element(left2 , right2 + 1) for _ in range(n/2)]\n",
    "        x = vector(x1+x2)\n",
    "        \n",
    "    if index == 4:\n",
    "        left1   = 2^(R/2-1)\n",
    "        right1  = 2^(R/2) - 1\n",
    "        left2   = 2^(R/4 - 1)\n",
    "        right2  = 2^(R/4) - 1\n",
    "        left3   = 2^(R/8 - 1)\n",
    "        right3  = 2^(R/8) - 1\n",
    "        x1 = [ZZ.random_element(left1 , right1 + 1) for _ in range(n/3)]\n",
    "        x2 = [ZZ.random_element(left2 , right2 + 1) for _ in range(n/3)]\n",
    "        x3 = [ZZ.random_element(left3 , right3 + 1) for _ in range(n/3)]\n",
    "        x = vector(x1+x2+x3)\n",
    "        \n",
    "    if index == 5:\n",
    "        left1   = 2^(R-1)\n",
    "        right1  = 2^(R) - 1\n",
    "        left2   = 2^(R/2 - 1)\n",
    "        right2  = 2^(R/2) - 1\n",
    "        left3   = 2^(R/4 - 1)\n",
    "        right3  = 2^(R/4) - 1\n",
    "        left4   = 2^(R/8 - 1)\n",
    "        right4  = 2^(R/8) - 1\n",
    "        x1 = [ZZ.random_element(left1 , right1 + 1) for _ in range(n/4)]\n",
    "        x2 = [ZZ.random_element(left2 , right2 + 1) for _ in range(n/4)]\n",
    "        x3 = [ZZ.random_element(left3 , right3 + 1) for _ in range(n/4)]\n",
    "        x4 = [ZZ.random_element(left4 , right4 + 1) for _ in range(n/4)]\n",
    "        x = vector(x1+x2+x3+x4)\n",
    "\n",
    "    if index == 6:\n",
    "        left1   = 2^(R-1)\n",
    "        right1  = 2^(R) - 1\n",
    "        left2   = 2^(R/2 - 1)\n",
    "        right2  = 2^(R/2) - 1\n",
    "        left3   = 2^(R/4 - 1)\n",
    "        right3  = 2^(R/4) - 1\n",
    "        left4   = 2^(R/8 - 1)\n",
    "        right4  = 2^(R/8) - 1\n",
    "        left5   = 2^(R/16 - 1)\n",
    "        right5  = 2^(R/16) - 1\n",
    "        x1 = [ZZ.random_element(left1 , right1 + 1) for _ in range(n/5)]\n",
    "        x2 = [ZZ.random_element(left2 , right2 + 1) for _ in range(n/5)]\n",
    "        x3 = [ZZ.random_element(left3 , right3 + 1) for _ in range(n/5)]\n",
    "        x4 = [ZZ.random_element(left4 , right4 + 1) for _ in range(n/5)]\n",
    "        x5 = [ZZ.random_element(left5 , right5 + 1) for _ in range(n/5)]\n",
    "        x = vector(x1+x2+x3+x4+x5)\n",
    "    #print(\"secret key x:\",x)\n",
    "    # we compute also the vector b\n",
    "    b = (A*x) # όταν το m=1 απλα υπολογιζουμε το εσωτερικό γινόμενο\n",
    "    #print(\"b:\",b)\n",
    "    print(\"rank:\", rank_of_matrix(A) )\n",
    "    return A,x,b"
   ]
  },
  {
   "cell_type": "code",
   "execution_count": 4,
   "metadata": {},
   "outputs": [],
   "source": [
    "def attack_instances(R,n,m,index,count,method):\n",
    "    '''\n",
    "    R,n,m,index : defined as previous\n",
    "    count       : number of instances \n",
    "    method      : is a string, 'idempotent' or 'random'    \n",
    "    '''\n",
    "    \n",
    "    import numpy as np\n",
    "    H = []\n",
    "    if method == 'idempotent':\n",
    "        if n!=m:\n",
    "            print(\"n,m must be equal in this specific case\")\n",
    "            return\n",
    "        for i in range(count):\n",
    "            print(i+1,\".\",\"generating idempotent matrix...\")\n",
    "            A,x,b= gen_idempotent_A_x(R,n,index)\n",
    "            Ν1,Ν2=int(2^R),int(2^(R+2))\n",
    "            alpha1 = 50\n",
    "            sol = a_solution_of_the_system(A,matrix(b).T,Ν1,Ν2)\n",
    "            hits = attack(A,sol,R,n,index,alpha1)\n",
    "            H.append(hits)\n",
    "            \n",
    "    if method == 'random':\n",
    "        for i in range(count):\n",
    "            A,x,b = gen_A_and_x(R,n,m,index)\n",
    "            Ν1,Ν2=int(2^R),int(2^(R+2))\n",
    "            alpha1 = 50\n",
    "            sol = a_solution_of_the_system(A,matrix(b).T,Ν1,Ν2)\n",
    "            hits = attack(A,sol,R,n,index,alpha1)\n",
    "            H.append(hits)\n",
    "    print       \n",
    "    print(\"unknowns=\",n)\n",
    "    print(\"equations=\",m)\n",
    "    print(\"number of instances considered:\",count)\n",
    "    print(\"average number of good hits:\",\"{:.2f}\".format(round(np.mean(H),2)),\",\",\"percentage :\",float(100*np.mean(H)/n))\n",
    "    print(\"the minumum of succeded hits:\",min(H))\n",
    "    print(\"the maximum :\",max(H),\",\",\"percentage :\",float(100*max(H)/n))\n",
    "    if max(H)==n:\n",
    "        print(\"+++ We found at least one solution +++\")\n",
    "    \n",
    "    return \n"
   ]
  },
  {
   "cell_type": "code",
   "execution_count": 268,
   "metadata": {},
   "outputs": [
    {
     "name": "stdout",
     "output_type": "stream",
     "text": [
      "1 . generating idempotent matrix...\n",
      "max/min bits on entries: (86, 33)\n",
      "rank: 21\n",
      "2 . generating idempotent matrix...\n",
      "max/min bits on entries: (98, 36)\n",
      "rank: 16\n",
      "unknowns= 42\n",
      "equations= 42\n",
      "number of instances considered: 2\n",
      "average number of good hits: 21.00 , percentage : 50.0\n",
      "the minumum of succeded hits: 21\n",
      "the maximum : 21 , percentage : 50.0\n"
     ]
    }
   ],
   "source": [
    "R,n,m,index,method = 40,42,42,3,'idempotent'\n",
    "count = 2\n",
    "attack_instances(R,n,m,index,count,method)"
   ]
  },
  {
   "cell_type": "markdown",
   "metadata": {},
   "source": [
    "# <span style=\"color:red\">ΠΑΡΑΡΤΗΜΑΤΑ"
   ]
  },
  {
   "cell_type": "markdown",
   "metadata": {},
   "source": [
    "# [1] Improvement of step 3\n",
    "First, we need a more general algorithm for step **3**. I.e. an algorithm that works also for $m>1$.\n",
    "<br>\n",
    "Step **[3++]** is the more general algorithm, i.e. for more than one equation."
   ]
  },
  {
   "cell_type": "code",
   "execution_count": 45,
   "metadata": {},
   "outputs": [],
   "source": [
    "reset() # after reset we forget any variable we have used\n",
    "def construction_of_matrix(A,d,N1,N2):\n",
    "    # we define the rows (m) and columns (n)\n",
    "    n,m=A.dimensions()[1] , A.dimensions()[0]\n",
    "    # construction of the matrix\n",
    "    zerom1 = matrix(QQ,1,[0 for i in range(0, n)]).T;     # 0_{nx1}\n",
    "    zerom2 = matrix(QQ,1,[0 for i in range(0, n)]+[N1]);  # [0_{1xn},N1]\n",
    "    In = identity_matrix(ZZ, n);\n",
    "    upper_block = block_matrix([[In,zerom1]]);\n",
    "    medium_row = zerom2\n",
    "    lower_block = block_matrix([[N2*A,-N2*d]]);\n",
    "    final_matrix = block_matrix(3,[ [upper_block], [zerom2], [lower_block]])\n",
    "    return final_matrix.T\n",
    "\n",
    "def a_solution_of_the_system(A,d,N1,N2):\n",
    "    B=construction_of_matrix(A,d,N1,N2)\n",
    "    Blll = B.LLL()\n",
    "    t = n-m+1\n",
    "    print(Blll)\n",
    "    solution = Blll.row(t-1)[:n]\n",
    "    print(\"solution:\",solution)\n",
    "    return solution\n",
    "    "
   ]
  },
  {
   "cell_type": "code",
   "execution_count": 46,
   "metadata": {},
   "outputs": [
    {
     "name": "stdout",
     "output_type": "stream",
     "text": [
      "matrix:\n",
      "[2 7 1]\n",
      "[1 1 1] \n",
      "\n",
      "d: (57, 14) \n",
      "\n",
      "[    -6      1      5      0      0      0]\n",
      "[     7      6      1     10      0      0]\n",
      "[    -1      0      1      0 -10000      0]\n",
      "[    -1      0      2      0      0  10000]\n",
      "solution: (7, 6, 1)\n"
     ]
    }
   ],
   "source": [
    "A = matrix([ [2,7,1] , [1,1,1] ])\n",
    "print(\"matrix:\")\n",
    "print(A,\"\\n\")\n",
    "d = matrix( [57,14] ).T\n",
    "print(\"d:\",vector(d),\"\\n\")\n",
    "N1,N2=10,10000\n",
    "n,m=A.dimensions()[1] , A.dimensions()[0]\n",
    "B=construction_of_matrix(A,d,10,10000)\n",
    "solution = a_solution_of_the_system(A,d,N1,N2)"
   ]
  },
  {
   "cell_type": "code",
   "execution_count": 47,
   "metadata": {},
   "outputs": [
    {
     "data": {
      "text/plain": [
       "[57]\n",
       "[14]"
      ]
     },
     "execution_count": 47,
     "metadata": {},
     "output_type": "execute_result"
    }
   ],
   "source": [
    "# Επαλήθευση\n",
    "A*matrix(solution).T"
   ]
  },
  {
   "cell_type": "markdown",
   "metadata": {},
   "source": [
    "Το παρακάτω παράδειγμα είναι απο το (προηγούμενο) paper"
   ]
  },
  {
   "cell_type": "code",
   "execution_count": 48,
   "metadata": {},
   "outputs": [],
   "source": [
    "A = matrix([ [6,1,3,3,0,0],[0,0,0,0,2,1],[0,0,4,1,0,2]  ] )\n",
    "d = matrix([17,11,27]).T\n",
    "N1,N2=10,10000\n",
    "n,m=A.dimensions()[1] , A.dimensions()[0]"
   ]
  },
  {
   "cell_type": "code",
   "execution_count": 49,
   "metadata": {},
   "outputs": [
    {
     "data": {
      "text/plain": [
       "[6 1 3 3 0 0]\n",
       "[0 0 0 0 2 1]\n",
       "[0 0 4 1 0 2]"
      ]
     },
     "execution_count": 49,
     "metadata": {},
     "output_type": "execute_result"
    }
   ],
   "source": [
    "A"
   ]
  },
  {
   "cell_type": "code",
   "execution_count": 50,
   "metadata": {},
   "outputs": [
    {
     "data": {
      "text/plain": [
       "[      1       0       0       0       0       0|      0|  60000       0       0]\n",
       "[      0       1       0       0       0       0|      0|  10000       0       0]\n",
       "[      0       0       1       0       0       0|      0|  30000       0   40000]\n",
       "[      0       0       0       1       0       0|      0|  30000       0   10000]\n",
       "[      0       0       0       0       1       0|      0|      0   20000       0]\n",
       "[      0       0       0       0       0       1|      0|      0   10000   20000]\n",
       "[      0       0       0       0       0       0|     10|-170000 -110000 -270000]"
      ]
     },
     "execution_count": 50,
     "metadata": {},
     "output_type": "execute_result"
    }
   ],
   "source": [
    "B=construction_of_matrix(A,d,N1,N2)\n",
    "B"
   ]
  },
  {
   "cell_type": "code",
   "execution_count": 51,
   "metadata": {},
   "outputs": [
    {
     "name": "stdout",
     "output_type": "stream",
     "text": [
      "[   0   -3    1    0    1   -2    0    0    0    0]\n",
      "[   1   -3   -1    0   -1    2    0    0    0    0]\n",
      "[   1    0    2   -4    1   -2    0    0    0    0]\n",
      "[   0   -1    5    1    4    3   10    0    0    0]\n",
      "[   0    1    0    0    0    0    0 1000    0    0]\n",
      "[   0    0   -1    1   -1    2    0    0    0 1000]\n",
      "[   1    0    0   -2    0    1    0    0 1000    0]\n",
      "solution: (0, -1, 5, 1, 4, 3)\n"
     ]
    }
   ],
   "source": [
    "solution = a_solution_of_the_system(A,d,10,1000)"
   ]
  },
  {
   "cell_type": "code",
   "execution_count": 52,
   "metadata": {},
   "outputs": [
    {
     "data": {
      "text/plain": [
       "[17]\n",
       "[11]\n",
       "[27]"
      ]
     },
     "execution_count": 52,
     "metadata": {},
     "output_type": "execute_result"
    }
   ],
   "source": [
    "# Επαλήθευση\n",
    "A*matrix(solution).T"
   ]
  },
  {
   "cell_type": "markdown",
   "metadata": {},
   "source": [
    "## [2] Πως να χρησιμοποιήσω το fpylll από το SageMath\n",
    "(αγνοησε το προς το παρών)"
   ]
  },
  {
   "cell_type": "code",
   "execution_count": 73,
   "metadata": {},
   "outputs": [],
   "source": [
    "reset()\n",
    "\n",
    "from fpylll.util import set_random_seed,ball_log_vol,gaussian_heuristic\n",
    "from fpylll.fplll.gso import MatGSO\n",
    "import numpy as np\n",
    "from fpylll import IntegerMatrix,LLL\n",
    "import gmpy2\n",
    "from fpylll import GSO\n",
    "\n",
    "\n",
    "def fptosage(A):\n",
    "    n = A.nrows\n",
    "    C = matrix(n)\n",
    "    for i in range(n):\n",
    "        C[i] = list(A[i])\n",
    "    return C\n",
    "\n",
    "def sagemat2fp(A):\n",
    "    from fpylll import IntegerMatrix\n",
    "    r,c=A.dimensions()[0],A.dimensions()[1]\n",
    "    L = IntegerMatrix(r,c)\n",
    "    for i in range(r):\n",
    "        for j in range(c):\n",
    "            L[i,j] = int(A[i,j])\n",
    "    return L\n",
    "\n",
    "# converts from type fpylll.integetMatrix to numpy.array\n",
    "def fp2mat(A):\n",
    "    L = np.zeros(shape=(A.nrows, A.ncols))\n",
    "    for i in range(A.nrows):\n",
    "        for j in range(A.ncols):\n",
    "            L[i, j] = int(A[i, j])\n",
    "            L = np.array(L).astype(int)\n",
    "    return L\n"
   ]
  },
  {
   "cell_type": "code",
   "execution_count": 74,
   "metadata": {},
   "outputs": [
    {
     "data": {
      "text/html": [
       "<html>\\[\\newcommand{\\Bold}[1]{\\mathbf{#1}}\\left(\\begin{array}{rrr}\n",
       "10987239847 & -2234234 & 34535 \\\\\n",
       "3452344 & 234234 & 345345 \\\\\n",
       "23434 & 454 & 4565\n",
       "\\end{array}\\right)\\]</html>"
      ],
      "text/latex": [
       "$$\\newcommand{\\Bold}[1]{\\mathbf{#1}}\\left(\\begin{array}{rrr}\n",
       "10987239847 & -2234234 & 34535 \\\\\n",
       "3452344 & 234234 & 345345 \\\\\n",
       "23434 & 454 & 4565\n",
       "\\end{array}\\right)$$"
      ],
      "text/plain": [
       "[10987239847    -2234234       34535]\n",
       "[    3452344      234234      345345]\n",
       "[      23434         454        4565]"
      ]
     },
     "metadata": {},
     "output_type": "display_data"
    }
   ],
   "source": [
    "A = matrix([ [10987239847,-2234234,34535],[3452344,234234,345345],[23434,454,4565] ])\n",
    "show(A)"
   ]
  },
  {
   "cell_type": "code",
   "execution_count": 75,
   "metadata": {},
   "outputs": [
    {
     "data": {
      "text/html": [
       "<html>\\[\\newcommand{\\Bold}[1]{\\mathbf{#1}}\\begin{array}{l}\n",
       "\\verb|[|\\phantom{\\verb!x!}\\verb|10987239847|\\phantom{\\verb!x!}\\verb|-2234234|\\phantom{\\verb!xx!}\\verb|34535|\\phantom{\\verb!x!}\\verb|]|\\\\\n",
       "\\verb|[|\\phantom{\\verb!xxxxx!}\\verb|3452344|\\phantom{\\verb!xxx!}\\verb|234234|\\phantom{\\verb!x!}\\verb|345345|\\phantom{\\verb!x!}\\verb|]|\\\\\n",
       "\\verb|[|\\phantom{\\verb!xxxxxxx!}\\verb|23434|\\phantom{\\verb!xxxxxx!}\\verb|454|\\phantom{\\verb!xxx!}\\verb|4565|\\phantom{\\verb!x!}\\verb|]|\n",
       "\\end{array}\\]</html>"
      ],
      "text/latex": [
       "$$\\newcommand{\\Bold}[1]{\\mathbf{#1}}\\begin{array}{l}\n",
       "\\verb|[|\\phantom{\\verb!x!}\\verb|10987239847|\\phantom{\\verb!x!}\\verb|-2234234|\\phantom{\\verb!xx!}\\verb|34535|\\phantom{\\verb!x!}\\verb|]|\\\\\n",
       "\\verb|[|\\phantom{\\verb!xxxxx!}\\verb|3452344|\\phantom{\\verb!xxx!}\\verb|234234|\\phantom{\\verb!x!}\\verb|345345|\\phantom{\\verb!x!}\\verb|]|\\\\\n",
       "\\verb|[|\\phantom{\\verb!xxxxxxx!}\\verb|23434|\\phantom{\\verb!xxxxxx!}\\verb|454|\\phantom{\\verb!xxx!}\\verb|4565|\\phantom{\\verb!x!}\\verb|]|\n",
       "\\end{array}$$"
      ],
      "text/plain": [
       "<IntegerMatrix(3, 3) at 0x7f70b8e9a450>"
      ]
     },
     "metadata": {},
     "output_type": "display_data"
    }
   ],
   "source": [
    "B = sagemat2fp(A)\n",
    "show(B)"
   ]
  },
  {
   "cell_type": "code",
   "execution_count": 76,
   "metadata": {},
   "outputs": [
    {
     "data": {
      "text/html": [
       "<html>\\[\\newcommand{\\Bold}[1]{\\mathbf{#1}}\\begin{array}{l}\n",
       "\\verb|[|\\phantom{\\verb!xxxxx!}\\verb|23434|\\phantom{\\verb!xxxxxxxxx!}\\verb|454|\\phantom{\\verb!xxxxxxx!}\\verb|4565|\\phantom{\\verb!x!}\\verb|]|\\\\\n",
       "\\verb|[|\\phantom{\\verb!xxxxx!}\\verb|54414|\\phantom{\\verb!xxxxxx!}\\verb|168404|\\phantom{\\verb!xxxx!}\\verb|-316580|\\phantom{\\verb!x!}\\verb|]|\\\\\n",
       "\\verb|[|\\phantom{\\verb!x!}\\verb|122176817|\\phantom{\\verb!x!}\\verb|-1026718644|\\phantom{\\verb!x!}\\verb|-525102660|\\phantom{\\verb!x!}\\verb|]|\n",
       "\\end{array}\\]</html>"
      ],
      "text/latex": [
       "$$\\newcommand{\\Bold}[1]{\\mathbf{#1}}\\begin{array}{l}\n",
       "\\verb|[|\\phantom{\\verb!xxxxx!}\\verb|23434|\\phantom{\\verb!xxxxxxxxx!}\\verb|454|\\phantom{\\verb!xxxxxxx!}\\verb|4565|\\phantom{\\verb!x!}\\verb|]|\\\\\n",
       "\\verb|[|\\phantom{\\verb!xxxxx!}\\verb|54414|\\phantom{\\verb!xxxxxx!}\\verb|168404|\\phantom{\\verb!xxxx!}\\verb|-316580|\\phantom{\\verb!x!}\\verb|]|\\\\\n",
       "\\verb|[|\\phantom{\\verb!x!}\\verb|122176817|\\phantom{\\verb!x!}\\verb|-1026718644|\\phantom{\\verb!x!}\\verb|-525102660|\\phantom{\\verb!x!}\\verb|]|\n",
       "\\end{array}$$"
      ],
      "text/plain": [
       "<IntegerMatrix(3, 3) at 0x7f70b8e9a450>"
      ]
     },
     "metadata": {},
     "output_type": "display_data"
    }
   ],
   "source": [
    "LLL.reduction(B, delta =0.99 )\n",
    "show(B)"
   ]
  },
  {
   "cell_type": "code",
   "execution_count": 77,
   "metadata": {},
   "outputs": [
    {
     "data": {
      "text/plain": [
       "True"
      ]
     },
     "execution_count": 77,
     "metadata": {},
     "output_type": "execute_result"
    }
   ],
   "source": [
    "M_GSO = GSO.Mat(B)\n",
    "M_GSO.update_gso()"
   ]
  },
  {
   "cell_type": "code",
   "execution_count": 78,
   "metadata": {},
   "outputs": [],
   "source": [
    "L = M_GSO.babai([1234234324,2234234223432456,-23433])"
   ]
  },
  {
   "cell_type": "code",
   "execution_count": 79,
   "metadata": {},
   "outputs": [
    {
     "data": {
      "text/plain": [
       "(2248310127, 2861658398, -1705724)"
      ]
     },
     "execution_count": 79,
     "metadata": {},
     "output_type": "execute_result"
    }
   ],
   "source": [
    "L"
   ]
  },
  {
   "cell_type": "code",
   "execution_count": 80,
   "metadata": {},
   "outputs": [],
   "source": [
    "\n",
    "def LLL_reduction_of_M_NTRU(init_M_NTRU):        \n",
    "    def fptosage(A):\n",
    "        n = A.nrows\n",
    "        C = matrix(n)\n",
    "        for i in range(n):\n",
    "            C[i] = list(A[i])\n",
    "        return C\n",
    "    import time\n",
    "    from fpylll import IntegerMatrix,LLL\n",
    "    start = time.time()\n",
    "    M_NTRU_fplll = IntegerMatrix.from_matrix(init_M_NTRU)\n",
    "    LLL.reduction(M_NTRU_fplll, delta =0.99 )\n",
    "    M_NTRU = fptosage(M_NTRU_fplll)\n",
    "    print(\"LLL is done\")\n",
    "    print(\"time for LLL:\"),time.time()-start\n",
    "    return M_NTRU,M_NTRU_fplll "
   ]
  },
  {
   "cell_type": "code",
   "execution_count": null,
   "metadata": {},
   "outputs": [],
   "source": []
  },
  {
   "cell_type": "code",
   "execution_count": 81,
   "metadata": {},
   "outputs": [],
   "source": [
    "\n",
    "def volume_of_unit_sphere(n): # volume of n-sphere of radius 1\n",
    "    return np.exp(ball_log_vol(n))\n",
    "\n",
    "def volume_of_sphere(R,n):  # volume of n-sphere of radius R\n",
    "    return R**n * volume_of_unit_sphere(n)\n",
    "\n",
    "def gh(gram_matrix,par): #norm of the shortest vector given by GH \n",
    "    return par * np.sqrt(gaussian_heuristic(gram_matrix))\n",
    "\n",
    "def limits(gram):\n",
    "    return [gh(gram,0.95),gh(gram,1.05)]\n",
    "\n",
    "def volume_of_lattice(A): #only sagemath. A is the basis matrix.\n",
    "    return det(A*A.T).sqrt().n()\n",
    "    \n",
    "    \n",
    "def volume_of_lattice_ver2(gram): \n",
    "    #returns the volume of a lattice as float not integer (use sagemath instead)\n",
    "    grampfr=[]\n",
    "    for i in range(len(gram)):\n",
    "        grampfr.append(gmpy2.mpfr(gram[i]))\n",
    "    log_volume = sum(gmpy2.log(grampfr_)/2 for grampfr_ in grampfr)\n",
    "    return gmpy2.exp(log_volume)\n",
    "\n",
    "def hf(gram): #Hermite's Factor of a lattice (for the vector ||b1||)\n",
    "    from fpylll.tools.quality import basis_quality\n",
    "    dim = len(gram)\n",
    "    r0 = gram[0]\n",
    "    log_volume = sum(np.log(r_)/2 for r_ in gram)\n",
    "    return np.exp((np.log(r0)/2.0 - log_volume/dim)/dim)\n",
    "\n"
   ]
  },
  {
   "cell_type": "code",
   "execution_count": 82,
   "metadata": {},
   "outputs": [],
   "source": [
    "def construction_of_matrix(A,d,N1,N2):\n",
    "    # we define the rows (m) and columns (n)\n",
    "    n,m=A.dimensions()[1] , A.dimensions()[0]\n",
    "    # construction of the matrix\n",
    "    zerom1 = matrix(QQ,1,[0 for i in range(0, n)]).T;     # 0_{nx1}\n",
    "    zerom2 = matrix(QQ,1,[0 for i in range(0, n)]+[N1]);  # [0_{1xn},N1]\n",
    "    In = identity_matrix(ZZ, n);\n",
    "    upper_block = block_matrix([[In,zerom1]]);\n",
    "    medium_row = zerom2\n",
    "    lower_block = block_matrix([[N2*A,-N2*d]]);\n",
    "    final_matrix = block_matrix(3,[ [upper_block], [zerom2], [lower_block]])\n",
    "    return final_matrix.T"
   ]
  },
  {
   "cell_type": "code",
   "execution_count": 83,
   "metadata": {},
   "outputs": [
    {
     "name": "stdout",
     "output_type": "stream",
     "text": [
      "matrix:\n",
      "[2 7 1]\n",
      "[1 1 2]\n",
      "[1 2 3] \n",
      "\n",
      "d: (57, 14, 1) \n",
      "\n",
      "[  1   0   0|  0|  2   1   1]\n",
      "[  0   1   0|  0|  7   1   2]\n",
      "[  0   0   1|  0|  1   2   3]\n",
      "[  0   0   0|  1|-57 -14  -1]\n"
     ]
    },
    {
     "data": {
      "text/plain": [
       "mpfr('409.40933062156768')"
      ]
     },
     "execution_count": 83,
     "metadata": {},
     "output_type": "execute_result"
    }
   ],
   "source": [
    "import copy\n",
    "A = matrix([ [2,7,1] , [1,1,2], [1,2,3] ])\n",
    "print(\"matrix:\")\n",
    "print(A,\"\\n\")\n",
    "d = matrix( [57,14,1] ).T\n",
    "print(\"d:\",vector(d),\"\\n\")\n",
    "N1,N2=1,1\n",
    "B=construction_of_matrix(A,d,N1,N2)\n",
    "print(B)\n",
    "C=copy.copy(B)\n",
    "n = B.dimensions()[0]\n",
    "B=sagemat2fp(B)\n",
    "B=LLL.reduction(B)\n",
    "M = GSO.Mat(B)\n",
    "M.update_gso()\n",
    "gram = np.array([M.get_r(k,k) for k in range(n)])\n",
    "\n",
    "volume_of_lattice_ver2(gram)"
   ]
  },
  {
   "cell_type": "markdown",
   "metadata": {},
   "source": [
    "## [3] Γιατι η Smith form είναι κατάλληλη για την εύρεση βάσης στο lattice ΑΧ=0;\n"
   ]
  },
  {
   "cell_type": "code",
   "execution_count": 29,
   "metadata": {},
   "outputs": [],
   "source": [
    "#basis of the lattice L:ΑΧ=0\n",
    "def kernel(A):\n",
    "    k=A.dimensions()[1] # number of columns\n",
    "    r=A.rank()\n",
    "    print(\"rank of the lattice:\", k-r) # αυτό είναι απο το θεώρημα της διάστασης.\n",
    "    D = A.smith_form()[0]\n",
    "    U = A.smith_form()[1]\n",
    "    V = A.smith_form()[2]\n",
    "    print(U)\n",
    "    print(D)\n",
    "    print(V)\n",
    "    Q=A.smith_form()[2]\n",
    "    X=matrix(ZZ,[Q.column(i) for i in range(r,k)])\n",
    "    if k-r<5: # we print the basis if it has a small dimension\n",
    "        print(\"A basis of the lattice is:\")\n",
    "        print(X)\n",
    "    return X,U,V,D"
   ]
  },
  {
   "cell_type": "code",
   "execution_count": 30,
   "metadata": {},
   "outputs": [],
   "source": [
    "A=matrix([   [1,2,3,2],[3,-2,3,1],[2,7,-9,1] ])"
   ]
  },
  {
   "cell_type": "code",
   "execution_count": 31,
   "metadata": {},
   "outputs": [
    {
     "name": "stdout",
     "output_type": "stream",
     "text": [
      "rank of the lattice: 1\n",
      "[ 0  1  0]\n",
      "[ 1  0  0]\n",
      "[-2  0  1]\n",
      "[1 0 0 0]\n",
      "[0 1 0 0]\n",
      "[0 0 3 0]\n",
      "[-47  22  -3  15]\n",
      "[-60  28  -4  19]\n",
      "[-41  19  -3  13]\n",
      "[145 -67  10 -46]\n",
      "A basis of the lattice is:\n",
      "[ 15  19  13 -46]\n"
     ]
    }
   ],
   "source": [
    "X,U,V,D=kernel(A)"
   ]
  },
  {
   "cell_type": "code",
   "execution_count": 58,
   "metadata": {},
   "outputs": [
    {
     "data": {
      "text/plain": [
       "[ 1  2  3  2]\n",
       "[ 3 -2  3  1]\n",
       "[ 2  7 -9  1]"
      ]
     },
     "execution_count": 58,
     "metadata": {},
     "output_type": "execute_result"
    }
   ],
   "source": [
    "A"
   ]
  },
  {
   "cell_type": "code",
   "execution_count": 71,
   "metadata": {},
   "outputs": [
    {
     "data": {
      "text/plain": [
       "1"
      ]
     },
     "execution_count": 71,
     "metadata": {},
     "output_type": "execute_result"
    }
   ],
   "source": [
    "vector(A[0]).dot_product(vector([22,28,19,-67]))"
   ]
  },
  {
   "cell_type": "code",
   "execution_count": 60,
   "metadata": {},
   "outputs": [
    {
     "data": {
      "text/plain": [
       "[0 1 0 0]\n",
       "[1 0 0 0]\n",
       "[0 2 3 0]"
      ]
     },
     "execution_count": 60,
     "metadata": {},
     "output_type": "execute_result"
    }
   ],
   "source": [
    "U^(-1)*D"
   ]
  },
  {
   "cell_type": "code",
   "execution_count": 61,
   "metadata": {},
   "outputs": [
    {
     "data": {
      "text/plain": [
       "[ 0  1  0]\n",
       "[ 1  0  0]\n",
       "[-2  0  1]"
      ]
     },
     "execution_count": 61,
     "metadata": {},
     "output_type": "execute_result"
    }
   ],
   "source": [
    "U"
   ]
  },
  {
   "cell_type": "code",
   "execution_count": 62,
   "metadata": {},
   "outputs": [
    {
     "data": {
      "text/plain": [
       "[0 1 0]\n",
       "[1 0 0]\n",
       "[0 2 1]"
      ]
     },
     "execution_count": 62,
     "metadata": {},
     "output_type": "execute_result"
    }
   ],
   "source": [
    "U^(-1)"
   ]
  },
  {
   "cell_type": "code",
   "execution_count": 51,
   "metadata": {},
   "outputs": [
    {
     "data": {
      "text/plain": [
       "[-47  22  -3  15]\n",
       "[-60  28  -4  19]\n",
       "[-41  19  -3  13]\n",
       "[145 -67  10 -46]"
      ]
     },
     "execution_count": 51,
     "metadata": {},
     "output_type": "execute_result"
    }
   ],
   "source": [
    "V"
   ]
  },
  {
   "cell_type": "markdown",
   "metadata": {},
   "source": [
    "## [4] H βελτίωση της επίθεσης με αναγωγή σε μικρότερη διάσταση (για m=1).\n",
    "<br>\n",
    "Input : $a_0,\\ {\\bf a}=(a_1,...,a_n)$ and a set $S_2=I_R^{n/2}\\times I_{R/2}^{n/2}$<br>\n",
    "Output : find integer vector ${\\bf x}\\in S_i$ such that ${\\bf a}\\cdot {\\bf x} = a_0$\n",
    "<br>\n",
    "1. $K\\xleftarrow{\\$} I_{R/2}$\n",
    "<br>\n",
    "2. solve compact_knapsack($\\sum_{j=1}^{n/2} a_jX_j=a_0-K$) \n",
    "<br>\n",
    "3.  solve compact_knapsack($\\sum_{j=n/2+1}^{n} a_jX_j=K$) \n",
    "<br>\n",
    "4.\n",
    "<br>\n"
   ]
  },
  {
   "cell_type": "code",
   "execution_count": null,
   "metadata": {},
   "outputs": [],
   "source": []
  },
  {
   "cell_type": "markdown",
   "metadata": {},
   "source": [
    "## [5] Πως να φτιάξω ένα nxn πίνακα με rank k <<n και idempotent (με ακέραια στοιχεία) από το $I_R$;\n",
    "<br>\n",
    "\n",
    "[1](https://www.quora.com/How-do-I-generate-an-NXN-idempotent-matrix)\n",
    "<br>\n",
    "1. Take a diagonal $D={\\rm diag}(a_1,...,a_n)$ with $a_j\\in \\{0,1\\}$ and at least one $a_j=1.$\n",
    "<br>\n",
    "(note that, idempotent matrices have eigenvalues 0 or 1).\n",
    "<br>\n",
    "2. $A\\xleftarrow{\\$} GL_n({\\bf Z})=\\{A\\in M_{n}({\\bf Z}):\\det(A)=\\pm 1\\}$ (so $A$ is unimodular)\n",
    "<br>\n",
    "3. ${\\bf return}$ $M=ADA^{-1}$\n",
    "<br>\n",
    "Then $M$ is idempotent with integer elements, since $A^{-1}$ has integer elements. <br>\n",
    "$M^2=(ADA^{-1})(ADA^{-1})=AD^2A^{-1}=ADA^{-1}=M.$"
   ]
  },
  {
   "cell_type": "code",
   "execution_count": null,
   "metadata": {},
   "outputs": [],
   "source": []
  },
  {
   "cell_type": "code",
   "execution_count": 70,
   "metadata": {},
   "outputs": [],
   "source": [
    "reset()\n",
    "# some auxiliary functions\n",
    "def bits(n):\n",
    "    return floor(log( max ( abs(n), 1) ,2))+1\n",
    "\n",
    "def rank_of_matrix(C):\n",
    "    B=C.echelon_form()\n",
    "    zero_list = [0]*B.dimensions()[1]\n",
    "    num_rows = B.dimensions()[0]\n",
    "    upper = 0\n",
    "    lower = num_rows\n",
    "    while(abs(lower-upper)!=1):\n",
    "        mean = floor((upper+lower)/2)\n",
    "        if B[mean] != vector(zero_list):\n",
    "            upper=  mean\n",
    "        else:\n",
    "            if B[mean+1] == vector(zero_list):\n",
    "                lower = mean\n",
    "    return max(lower,upper)\n",
    "\n",
    "\n",
    "def generate_idempotent(N,k):\n",
    "    # N is the dimension of the matrix\n",
    "    # k is used to get an upper bound of the entries : 2^k\n",
    "    from sage.matrix.constructor import random_subspaces_matrix\n",
    "    from sage.matrix.constructor import random_unimodular_matrix\n",
    "    matrix_space = sage.matrix.matrix_space.MatrixSpace(ZZ,N)\n",
    "    D = identity_matrix(N)\n",
    "    while D==0 or D==1:\n",
    "        D = diagonal_matrix([ZZ.random_element(0,2) for _ in range(N)])\n",
    "    #A = random_matrix(ZZ, N,N, algorithm='echelonizable', rank=N) # unimodular\n",
    "    A = random_unimodular_matrix(matrix_space, upper_bound = 2**k)\n",
    "    M = A*D*A^(-1)\n",
    "    while M.rank()==1:\n",
    "        A = random_unimodular_matrix(matrix_space, upper_bound = 2**k)\n",
    "        D = diagonal_matrix([ZZ.random_element(0,2) for _ in range(N)])\n",
    "        M = A*D*A^(-1)   \n",
    "    #print(type(A))\n",
    "    #print(D)\n",
    "    print(max_min_bits(M))\n",
    "    return M\n",
    "\n",
    "def max_min_bits(A):\n",
    "    # A is a rectangular matrix\n",
    "    # return the max(bits(A[i,j])) and min(bits(A[i,j]))\n",
    "    n = A.dimensions()[0]\n",
    "    L = [ bits(A[i,j]) for i in range(n) for j in range(n)]\n",
    "    return max(L),min(L)"
   ]
  },
  {
   "cell_type": "code",
   "execution_count": 76,
   "metadata": {},
   "outputs": [],
   "source": [
    "def gen_idempotent_A_x(R,n,index):\n",
    "    '''\n",
    "    n : dimension of the matrix A\n",
    "    R : we estimate that the entries of the output will be ~2*K bits\n",
    "    index = 1,2,3,4,5,6\n",
    "    ''' \n",
    "    if index >6 or index<0:\n",
    "        print(\"1<=index <=6\")\n",
    "        return _,_,_  \n",
    "    if n%2==1:\n",
    "        print(\"n must be even\")\n",
    "        return _,_,_\n",
    "    if R%2==1:\n",
    "        print(\"R must be even\")\n",
    "        return _,_,_\n",
    "    if R%4 != 0 and index==3:\n",
    "        print(\"R must be divisible by 4\")\n",
    "        return _,_,_\n",
    "    if index==4:\n",
    "        if R%8 != 0:\n",
    "            print(\"R must be divisible by 8\")\n",
    "            return _,_,_\n",
    "        if n % 3 != 0:\n",
    "            print(\"n must be divisible by 3\")\n",
    "            return _,_,_\n",
    "    if index==5:\n",
    "        if R%8 != 0:\n",
    "            print(\"R must be divisible by 8\")\n",
    "            return _,_,_\n",
    "        if n % 4 != 0:\n",
    "            print(\"n must be divisible by 4\")\n",
    "            return _,_,_\n",
    "    if index==6:\n",
    "        if R%16 != 0:\n",
    "            print(\"R must be divisible by 16\")\n",
    "            return _,_,_\n",
    "        if n % 5 != 0:\n",
    "            print(\"n must be divisible by 5\")\n",
    "            return _,_,_\n",
    "    \n",
    "    # generation of a matrix with elements from I_{R/2}\n",
    "    left  = 2^(R/2-1)\n",
    "    right = 2^(R/2) - 1\n",
    "    \n",
    "    # generation of a matrix with elements from I_{R}\n",
    "    left  = 2^(R-1)\n",
    "    right = 2^(R) - 1\n",
    "        \n",
    "    # generation of a matrix with elements from I_{R/8}\n",
    "    left  = 2^(R/8-1)\n",
    "    right = 2^(R/8) - 1\n",
    "    \n",
    "    \n",
    "\n",
    "    # Now, we generate an idempotent matrix\n",
    "    #A = matrix( [vector([ZZ.random_element(left,right+Integer(1)) for _ in range(n)]) for _  in range(m)] )\n",
    "    A = generate_idempotent(n,R)\n",
    "    if index == 1:\n",
    "        left1  = 2^(R-1)\n",
    "        right1 = 2^R - 1\n",
    "        x = vector([ZZ.random_element(left1 , right1 + 1) for _ in range(n)])\n",
    "\n",
    "    if index == 2:\n",
    "        left1   = 2^(R-1)\n",
    "        right1  = 2^R - 1\n",
    "        left2   = 2^(R/2 - 1)\n",
    "        right2  = 2^(R/2) - 1\n",
    "        x1 = [ZZ.random_element(left1 , right1 + 1) for _ in range(n/2)]\n",
    "        x2 = [ZZ.random_element(left2 , right2 + 1) for _ in range(n/2)]\n",
    "        x = vector(x1+x2)\n",
    "    \n",
    "    if index == 3:\n",
    "        left1   = 2^(R/2-1)\n",
    "        right1  = 2^(R/2) - 1\n",
    "        left2   = 2^(R/4 - 1)\n",
    "        right2  = 2^(R/4) - 1\n",
    "        x1 = [ZZ.random_element(left1 , right1 + 1) for _ in range(n/2)]\n",
    "        x2 = [ZZ.random_element(left2 , right2 + 1) for _ in range(n/2)]\n",
    "        x = vector(x1+x2)\n",
    "        \n",
    "    if index == 4:\n",
    "        left1   = 2^(R/2-1)\n",
    "        right1  = 2^(R/2) - 1\n",
    "        left2   = 2^(R/4 - 1)\n",
    "        right2  = 2^(R/4) - 1\n",
    "        left3   = 2^(R/8 - 1)\n",
    "        right3  = 2^(R/8) - 1\n",
    "        x1 = [ZZ.random_element(left1 , right1 + 1) for _ in range(n/3)]\n",
    "        x2 = [ZZ.random_element(left2 , right2 + 1) for _ in range(n/3)]\n",
    "        x3 = [ZZ.random_element(left3 , right3 + 1) for _ in range(n/3)]\n",
    "        x = vector(x1+x2+x3)\n",
    "        \n",
    "    if index == 5:\n",
    "        left1   = 2^(R-1)\n",
    "        right1  = 2^(R) - 1\n",
    "        left2   = 2^(R/2 - 1)\n",
    "        right2  = 2^(R/2) - 1\n",
    "        left3   = 2^(R/4 - 1)\n",
    "        right3  = 2^(R/4) - 1\n",
    "        left4   = 2^(R/8 - 1)\n",
    "        right4  = 2^(R/8) - 1\n",
    "        x1 = [ZZ.random_element(left1 , right1 + 1) for _ in range(n/4)]\n",
    "        x2 = [ZZ.random_element(left2 , right2 + 1) for _ in range(n/4)]\n",
    "        x3 = [ZZ.random_element(left3 , right3 + 1) for _ in range(n/4)]\n",
    "        x4 = [ZZ.random_element(left4 , right4 + 1) for _ in range(n/4)]\n",
    "        x = vector(x1+x2+x3+x4)\n",
    "\n",
    "    if index == 6:\n",
    "        left1   = 2^(R-1)\n",
    "        right1  = 2^(R) - 1\n",
    "        left2   = 2^(R/2 - 1)\n",
    "        right2  = 2^(R/2) - 1\n",
    "        left3   = 2^(R/4 - 1)\n",
    "        right3  = 2^(R/4) - 1\n",
    "        left4   = 2^(R/8 - 1)\n",
    "        right4  = 2^(R/8) - 1\n",
    "        left5   = 2^(R/16 - 1)\n",
    "        right5  = 2^(R/16) - 1\n",
    "        x1 = [ZZ.random_element(left1 , right1 + 1) for _ in range(n/5)]\n",
    "        x2 = [ZZ.random_element(left2 , right2 + 1) for _ in range(n/5)]\n",
    "        x3 = [ZZ.random_element(left3 , right3 + 1) for _ in range(n/5)]\n",
    "        x4 = [ZZ.random_element(left4 , right4 + 1) for _ in range(n/5)]\n",
    "        x5 = [ZZ.random_element(left5 , right5 + 1) for _ in range(n/5)]\n",
    "        x = vector(x1+x2+x3+x4+x5)\n",
    "    #print(\"secret key x:\",x)\n",
    "    # we compute also the vector b\n",
    "    b = (A*x) # όταν το m=1 απλα υπολογιζουμε το εσωτερικό γινόμενο\n",
    "    #print(\"b:\",b)\n",
    "    print(\"rank:\", A.rank() )\n",
    "    return A,x,b"
   ]
  },
  {
   "cell_type": "code",
   "execution_count": 94,
   "metadata": {},
   "outputs": [
    {
     "name": "stdout",
     "output_type": "stream",
     "text": [
      "(12, 5)\n",
      "rank: 3\n"
     ]
    }
   ],
   "source": [
    "A,x,b=gen_idempotent_A_x(20,4,2)"
   ]
  },
  {
   "cell_type": "code",
   "execution_count": 95,
   "metadata": {},
   "outputs": [
    {
     "data": {
      "text/plain": [
       "[  847   126  2322    54]\n",
       "[  658    99  1806    42]\n",
       "[ -329   -49  -902   -21]\n",
       "[ -658   -98 -1806   -41]"
      ]
     },
     "execution_count": 95,
     "metadata": {},
     "output_type": "execute_result"
    }
   ],
   "source": [
    "A"
   ]
  },
  {
   "cell_type": "code",
   "execution_count": null,
   "metadata": {},
   "outputs": [],
   "source": []
  },
  {
   "cell_type": "code",
   "execution_count": null,
   "metadata": {},
   "outputs": [],
   "source": []
  },
  {
   "cell_type": "code",
   "execution_count": 4,
   "metadata": {},
   "outputs": [],
   "source": [
    "#rank of the lattice\n",
    "def rank_of_L(A):\n",
    "    '''\n",
    "    outputs three integers. \n",
    "    [1] the rank of the lattice Ax=0, which is equal to (number of columns of A)-(rank(A)), \n",
    "    This is in fact the dimension of the nullspace(A).\n",
    "    [2] the number of columns k and \n",
    "    [3] the rank r of A\n",
    "    '''\n",
    "    k=A.dimensions()[1] # number of columns\n",
    "    r=A.rank()\n",
    "    return k-r,k,r\n",
    "\n",
    "#basis of the lattice L:ΑΧ=0\n",
    "def kernel(A):\n",
    "    Rank,k,r = rank_of_L(A)\n",
    "    #print(\"rank of the lattice:\",Rank ) # αυτό είναι απο το θεώρημα της διάστασης.\n",
    "    Q=A.smith_form()\n",
    "    #X=matrix(ZZ,[Q.column(i) for i in range(r,k)])\n",
    "    return Q\n",
    "\n"
   ]
  },
  {
   "cell_type": "code",
   "execution_count": 5,
   "metadata": {},
   "outputs": [
    {
     "data": {
      "text/html": [
       "<html>\\[\\newcommand{\\Bold}[1]{\\mathbf{#1}}\\left(\\left(\\begin{array}{rrrr}\n",
       "1 & 0 & 0 & 0 \\\\\n",
       "0 & 1 & 0 & 0 \\\\\n",
       "0 & 0 & 0 & 0 \\\\\n",
       "0 & 0 & 0 & 0\n",
       "\\end{array}\\right), \\left(\\begin{array}{rrrr}\n",
       "0 & 1 & 0 & 0 \\\\\n",
       "0 & 0 & 1 & 0 \\\\\n",
       "1 & -1 & 0 & 0 \\\\\n",
       "0 & -9 & -7 & -1\n",
       "\\end{array}\\right), \\left(\\begin{array}{rrrr}\n",
       "1 & 0 & 3 & 0 \\\\\n",
       "1312 & 0 & 3944 & 19 \\\\\n",
       "-759 & 1 & -2286 & -11 \\\\\n",
       "4821 & -7 & 14523 & 70\n",
       "\\end{array}\\right)\\right)\\]</html>"
      ],
      "text/latex": [
       "$$\\newcommand{\\Bold}[1]{\\mathbf{#1}}\\left(\\left(\\begin{array}{rrrr}\n",
       "1 & 0 & 0 & 0 \\\\\n",
       "0 & 1 & 0 & 0 \\\\\n",
       "0 & 0 & 0 & 0 \\\\\n",
       "0 & 0 & 0 & 0\n",
       "\\end{array}\\right), \\left(\\begin{array}{rrrr}\n",
       "0 & 1 & 0 & 0 \\\\\n",
       "0 & 0 & 1 & 0 \\\\\n",
       "1 & -1 & 0 & 0 \\\\\n",
       "0 & -9 & -7 & -1\n",
       "\\end{array}\\right), \\left(\\begin{array}{rrrr}\n",
       "1 & 0 & 3 & 0 \\\\\n",
       "1312 & 0 & 3944 & 19 \\\\\n",
       "-759 & 1 & -2286 & -11 \\\\\n",
       "4821 & -7 & 14523 & 70\n",
       "\\end{array}\\right)\\right)$$"
      ],
      "text/plain": [
       "(\n",
       "[1 0 0 0]  [ 0  1  0  0]  [    1     0     3     0]\n",
       "[0 1 0 0]  [ 0  0  1  0]  [ 1312     0  3944    19]\n",
       "[0 0 0 0]  [ 1 -1  0  0]  [ -759     1 -2286   -11]\n",
       "[0 0 0 0], [ 0 -9 -7 -1], [ 4821    -7 14523    70]\n",
       ")"
      ]
     },
     "metadata": {},
     "output_type": "display_data"
    },
    {
     "data": {
      "text/plain": [
       "[ 493   21  399   57]\n",
       "[ 493   21  399   57]\n",
       "[-717  -30 -580  -83]\n",
       "[ 582   21  469   68]"
      ]
     },
     "execution_count": 5,
     "metadata": {},
     "output_type": "execute_result"
    }
   ],
   "source": [
    "B = matrix(ZZ,A)\n",
    "show(kernel(B))\n",
    "B"
   ]
  },
  {
   "cell_type": "code",
   "execution_count": 6,
   "metadata": {},
   "outputs": [
    {
     "data": {
      "text/plain": [
       "[(493, 21, 399, 57),\n",
       " (493, 21, 399, 57),\n",
       " (-717, -30, -580, -83),\n",
       " (582, 21, 469, 68)]"
      ]
     },
     "execution_count": 6,
     "metadata": {},
     "output_type": "execute_result"
    }
   ],
   "source": [
    "list(A)"
   ]
  },
  {
   "cell_type": "code",
   "execution_count": 224,
   "metadata": {},
   "outputs": [
    {
     "name": "stdout",
     "output_type": "stream",
     "text": [
      "<class 'sage.matrix.matrix_integer_dense.Matrix_integer_dense'> \n",
      " <class 'sage.matrix.matrix_rational_dense.Matrix_rational_dense'>\n",
      "True\n"
     ]
    },
    {
     "data": {
      "text/html": [
       "<html>\\[\\newcommand{\\Bold}[1]{\\mathbf{#1}}\\left(\\left(\\begin{array}{rrrr}\n",
       "1 & 0 & 0 & 0 \\\\\n",
       "0 & 1 & 0 & 0 \\\\\n",
       "0 & 0 & 0 & 0 \\\\\n",
       "0 & 0 & 0 & 0\n",
       "\\end{array}\\right), \\left(\\begin{array}{rrrr}\n",
       "0 & 1 & 0 & 0 \\\\\n",
       "-5 & -1 & -3 & -8 \\\\\n",
       "19 & 3 & 10 & 31 \\\\\n",
       "7 & 0 & 5 & 11\n",
       "\\end{array}\\right), \\left(\\begin{array}{rrrr}\n",
       "0 & 0 & 1 & 0 \\\\\n",
       "4505 & -53 & 1549031 & 112 \\\\\n",
       "5715 & -60 & 1963950 & 142 \\\\\n",
       "284 & 2 & 96814 & 7\n",
       "\\end{array}\\right)\\right)\\]</html>"
      ],
      "text/latex": [
       "$$\\newcommand{\\Bold}[1]{\\mathbf{#1}}\\left(\\left(\\begin{array}{rrrr}\n",
       "1 & 0 & 0 & 0 \\\\\n",
       "0 & 1 & 0 & 0 \\\\\n",
       "0 & 0 & 0 & 0 \\\\\n",
       "0 & 0 & 0 & 0\n",
       "\\end{array}\\right), \\left(\\begin{array}{rrrr}\n",
       "0 & 1 & 0 & 0 \\\\\n",
       "-5 & -1 & -3 & -8 \\\\\n",
       "19 & 3 & 10 & 31 \\\\\n",
       "7 & 0 & 5 & 11\n",
       "\\end{array}\\right), \\left(\\begin{array}{rrrr}\n",
       "0 & 0 & 1 & 0 \\\\\n",
       "4505 & -53 & 1549031 & 112 \\\\\n",
       "5715 & -60 & 1963950 & 142 \\\\\n",
       "284 & 2 & 96814 & 7\n",
       "\\end{array}\\right)\\right)$$"
      ],
      "text/plain": [
       "(\n",
       "[1 0 0 0]  [ 0  1  0  0]  [      0       0       1       0]\n",
       "[0 1 0 0]  [-5 -1 -3 -8]  [   4505     -53 1549031     112]\n",
       "[0 0 0 0]  [19  3 10 31]  [   5715     -60 1963950     142]\n",
       "[0 0 0 0], [ 7  0  5 11], [    284       2   96814       7]\n",
       ")"
      ]
     },
     "metadata": {},
     "output_type": "display_data"
    },
    {
     "data": {
      "text/html": [
       "<html>\\[\\newcommand{\\Bold}[1]{\\mathbf{#1}}\\left(\\left(\\begin{array}{rrrr}\n",
       "1 & 0 & 0 & 0 \\\\\n",
       "0 & 1 & 0 & 0 \\\\\n",
       "0 & 0 & 0 & 0 \\\\\n",
       "0 & 0 & 0 & 0\n",
       "\\end{array}\\right), \\left(\\begin{array}{rrrr}\n",
       "\\frac{1}{1143} & 0 & 0 & 0 \\\\\n",
       "\\frac{19}{155} & \\frac{127}{310} & 0 & 0 \\\\\n",
       "\\frac{8}{45} & -\\frac{11}{15} & 1 & 0 \\\\\n",
       "\\frac{5}{9} & \\frac{1}{3} & 0 & 1\n",
       "\\end{array}\\right), \\left(\\begin{array}{rrrr}\n",
       "1 & -\\frac{787}{381} & \\frac{7}{62} & -\\frac{71}{31} \\\\\n",
       "0 & 1 & \\frac{49}{62} & -\\frac{1}{31} \\\\\n",
       "0 & 0 & 1 & 0 \\\\\n",
       "0 & 0 & 0 & 1\n",
       "\\end{array}\\right)\\right)\\]</html>"
      ],
      "text/latex": [
       "$$\\newcommand{\\Bold}[1]{\\mathbf{#1}}\\left(\\left(\\begin{array}{rrrr}\n",
       "1 & 0 & 0 & 0 \\\\\n",
       "0 & 1 & 0 & 0 \\\\\n",
       "0 & 0 & 0 & 0 \\\\\n",
       "0 & 0 & 0 & 0\n",
       "\\end{array}\\right), \\left(\\begin{array}{rrrr}\n",
       "\\frac{1}{1143} & 0 & 0 & 0 \\\\\n",
       "\\frac{19}{155} & \\frac{127}{310} & 0 & 0 \\\\\n",
       "\\frac{8}{45} & -\\frac{11}{15} & 1 & 0 \\\\\n",
       "\\frac{5}{9} & \\frac{1}{3} & 0 & 1\n",
       "\\end{array}\\right), \\left(\\begin{array}{rrrr}\n",
       "1 & -\\frac{787}{381} & \\frac{7}{62} & -\\frac{71}{31} \\\\\n",
       "0 & 1 & \\frac{49}{62} & -\\frac{1}{31} \\\\\n",
       "0 & 0 & 1 & 0 \\\\\n",
       "0 & 0 & 0 & 1\n",
       "\\end{array}\\right)\\right)$$"
      ],
      "text/plain": [
       "(\n",
       "[1 0 0 0]  [ 1/1143       0       0       0]\n",
       "[0 1 0 0]  [ 19/155 127/310       0       0]\n",
       "[0 0 0 0]  [   8/45  -11/15       1       0]\n",
       "[0 0 0 0], [    5/9     1/3       0       1],\n",
       "\n",
       "[       1 -787/381     7/62   -71/31]\n",
       "[       0        1    49/62    -1/31]\n",
       "[       0        0        1        0]\n",
       "[       0        0        0        1]\n",
       ")"
      ]
     },
     "metadata": {},
     "output_type": "display_data"
    }
   ],
   "source": [
    "B = matrix( [ [1143, 2361, -1995, 2694],\\\n",
    "              [-342, -704, 595, -806],\\\n",
    "              [-454, -936, 791, -1070],\\\n",
    "              [-521, -1077, 910, -1228]  ] )\n",
    "C = matrix(QQ, [ [1143, 2361, -1995, 2694],\\\n",
    "              [-342, -704, 595, -806],\\\n",
    "              [-454, -936, 791, -1070],\\\n",
    "              [-521, -1077, 910, -1228]  ] )\n",
    "print(type(B),\"\\n\",type(C))\n",
    "print(C==B)\n",
    "show(B.smith_form())\n",
    "show(C.smith_form())"
   ]
  },
  {
   "cell_type": "code",
   "execution_count": 215,
   "metadata": {},
   "outputs": [
    {
     "name": "stdout",
     "output_type": "stream",
     "text": [
      "<class 'sage.matrix.matrix_rational_dense.Matrix_rational_dense'> \n",
      " <class 'sage.matrix.matrix_integer_dense.Matrix_integer_dense'>\n"
     ]
    }
   ],
   "source": [
    "print(type(C),\"\\n\",type(B))"
   ]
  },
  {
   "cell_type": "code",
   "execution_count": null,
   "metadata": {},
   "outputs": [],
   "source": []
  },
  {
   "cell_type": "code",
   "execution_count": null,
   "metadata": {},
   "outputs": [],
   "source": []
  },
  {
   "cell_type": "code",
   "execution_count": null,
   "metadata": {},
   "outputs": [],
   "source": []
  },
  {
   "cell_type": "code",
   "execution_count": 194,
   "metadata": {},
   "outputs": [
    {
     "data": {
      "text/html": [
       "<html>\\[\\newcommand{\\Bold}[1]{\\mathbf{#1}}\\left(\\left(\\begin{array}{rrrr}\n",
       "1 & 0 & 0 & 0 \\\\\n",
       "0 & 1 & 0 & 0 \\\\\n",
       "0 & 0 & 0 & 0 \\\\\n",
       "0 & 0 & 0 & 0\n",
       "\\end{array}\\right), \\left(\\begin{array}{rrrr}\n",
       "0 & 1 & 0 & 0 \\\\\n",
       "-5 & -1 & -3 & -8 \\\\\n",
       "19 & 3 & 10 & 31 \\\\\n",
       "7 & 0 & 5 & 11\n",
       "\\end{array}\\right), \\left(\\begin{array}{rrrr}\n",
       "0 & 0 & 1 & 0 \\\\\n",
       "4505 & -53 & 1549031 & 112 \\\\\n",
       "5715 & -60 & 1963950 & 142 \\\\\n",
       "284 & 2 & 96814 & 7\n",
       "\\end{array}\\right)\\right)\\]</html>"
      ],
      "text/latex": [
       "$$\\newcommand{\\Bold}[1]{\\mathbf{#1}}\\left(\\left(\\begin{array}{rrrr}\n",
       "1 & 0 & 0 & 0 \\\\\n",
       "0 & 1 & 0 & 0 \\\\\n",
       "0 & 0 & 0 & 0 \\\\\n",
       "0 & 0 & 0 & 0\n",
       "\\end{array}\\right), \\left(\\begin{array}{rrrr}\n",
       "0 & 1 & 0 & 0 \\\\\n",
       "-5 & -1 & -3 & -8 \\\\\n",
       "19 & 3 & 10 & 31 \\\\\n",
       "7 & 0 & 5 & 11\n",
       "\\end{array}\\right), \\left(\\begin{array}{rrrr}\n",
       "0 & 0 & 1 & 0 \\\\\n",
       "4505 & -53 & 1549031 & 112 \\\\\n",
       "5715 & -60 & 1963950 & 142 \\\\\n",
       "284 & 2 & 96814 & 7\n",
       "\\end{array}\\right)\\right)$$"
      ],
      "text/plain": [
       "(\n",
       "[1 0 0 0]  [ 0  1  0  0]  [      0       0       1       0]\n",
       "[0 1 0 0]  [-5 -1 -3 -8]  [   4505     -53 1549031     112]\n",
       "[0 0 0 0]  [19  3 10 31]  [   5715     -60 1963950     142]\n",
       "[0 0 0 0], [ 7  0  5 11], [    284       2   96814       7]\n",
       ")"
      ]
     },
     "metadata": {},
     "output_type": "display_data"
    }
   ],
   "source": [
    "show(kernel(B))"
   ]
  },
  {
   "cell_type": "code",
   "execution_count": 195,
   "metadata": {},
   "outputs": [
    {
     "data": {
      "text/plain": [
       "True"
      ]
     },
     "execution_count": 195,
     "metadata": {},
     "output_type": "execute_result"
    }
   ],
   "source": [
    "A==B"
   ]
  },
  {
   "cell_type": "code",
   "execution_count": 199,
   "metadata": {},
   "outputs": [
    {
     "data": {
      "text/plain": [
       "<class 'sage.matrix.matrix_integer_dense.Matrix_integer_dense'>"
      ]
     },
     "execution_count": 199,
     "metadata": {},
     "output_type": "execute_result"
    }
   ],
   "source": [
    "type(B)"
   ]
  },
  {
   "cell_type": "code",
   "execution_count": 30,
   "metadata": {},
   "outputs": [
    {
     "name": "stdout",
     "output_type": "stream",
     "text": [
      "(43, 8)\n"
     ]
    }
   ],
   "source": [
    "n = 10\n",
    "M1=generate_idempotent(n,15)\n"
   ]
  },
  {
   "cell_type": "code",
   "execution_count": 31,
   "metadata": {},
   "outputs": [
    {
     "data": {
      "text/plain": [
       "22"
      ]
     },
     "execution_count": 31,
     "metadata": {},
     "output_type": "execute_result"
    }
   ],
   "source": [
    "rank_of_matrix(M1)"
   ]
  },
  {
   "cell_type": "code",
   "execution_count": 34,
   "metadata": {},
   "outputs": [],
   "source": [
    "M2=M1.echelon_form()"
   ]
  },
  {
   "cell_type": "code",
   "execution_count": 37,
   "metadata": {},
   "outputs": [
    {
     "data": {
      "text/plain": [
       "(0, 0, 0, 0, 0, 0, 0, 0, 0, 0, 0, 0, 0, 0, 0, 0, 0, 0, 0, 0, 0, 0, 0, 0, 0, 0, 0, 0, 0, 0, 0, 0, 0, 0, 0, 0, 0, 0, 0, 0, 0, 0, 0, 0, 0, 0, 0, 0, 0, 0)"
      ]
     },
     "execution_count": 37,
     "metadata": {},
     "output_type": "execute_result"
    }
   ],
   "source": [
    "M2[40]"
   ]
  },
  {
   "cell_type": "code",
   "execution_count": 203,
   "metadata": {},
   "outputs": [
    {
     "data": {
      "text/plain": [
       "[3, 4, 3, 6, 3, 3, 4, 7, 1, 1, 3, 5, 3, 4, 3, 6]"
      ]
     },
     "execution_count": 203,
     "metadata": {},
     "output_type": "execute_result"
    }
   ],
   "source": [
    "B = random_matrix(ZZ, 30, algorithm='unimodular', upper_bound=2**100)\n",
    "[ bits(B[i,j]) for i in range(n) for j in range(n)]"
   ]
  },
  {
   "cell_type": "code",
   "execution_count": 219,
   "metadata": {},
   "outputs": [
    {
     "data": {
      "text/plain": [
       "(1, 60 x 60 dense matrix over Integer Ring, (40, 1))"
      ]
     },
     "execution_count": 219,
     "metadata": {},
     "output_type": "execute_result"
    }
   ],
   "source": [
    "from sage.matrix.constructor import random_unimodular_matrix\n",
    "matrix_space = sage.matrix.matrix_space.MatrixSpace(ZZ,60)\n",
    "A1 = random_unimodular_matrix(matrix_space, upper_bound = 2**40)\n",
    "det(A1),A1,max_min_bits(A1)"
   ]
  },
  {
   "cell_type": "code",
   "execution_count": 221,
   "metadata": {},
   "outputs": [],
   "source": [
    "N =60\n",
    "D = identity_matrix(N)\n",
    "while D==0 or D==1:\n",
    "    D = diagonal_matrix([ZZ.random_element(0,2) for _ in range(N)])\n",
    "M = A1*D*A1^(-1)"
   ]
  },
  {
   "cell_type": "code",
   "execution_count": 222,
   "metadata": {},
   "outputs": [
    {
     "data": {
      "text/plain": [
       "(87, 35)"
      ]
     },
     "execution_count": 222,
     "metadata": {},
     "output_type": "execute_result"
    }
   ],
   "source": [
    "max_min_bits(M)"
   ]
  },
  {
   "cell_type": "code",
   "execution_count": 224,
   "metadata": {},
   "outputs": [
    {
     "data": {
      "text/plain": [
       "True"
      ]
     },
     "execution_count": 224,
     "metadata": {},
     "output_type": "execute_result"
    }
   ],
   "source": []
  },
  {
   "cell_type": "markdown",
   "metadata": {},
   "source": [
    "# <span style=\"color:blue\"> Παλιός κώδικας"
   ]
  },
  {
   "cell_type": "code",
   "execution_count": 401,
   "metadata": {},
   "outputs": [
    {
     "name": "stdout",
     "output_type": "stream",
     "text": [
      "first: 17.663521732655695\n",
      "0.20532751083374023\n",
      "-----\n",
      "second 17.6635217326557\n",
      "0.1906907558441162\n",
      "----\n",
      "the SS variant: 17.663521732655695\n",
      "17.663521732655695\n",
      "1.7702414989471436\n",
      "True\n",
      "True\n"
     ]
    },
    {
     "data": {
      "text/plain": [
       "True"
      ]
     },
     "execution_count": 401,
     "metadata": {},
     "output_type": "execute_result"
    }
   ],
   "source": [
    "\"\"\"\n",
    " We implemented the three following methods to find small solutions\n",
    " of a linear equation :\n",
    " \n",
    " 1.  K. Aardal, C. Hurkens, A. Lenstra, Solving a linear Diophantine equation \n",
    " with lower and upper bounds on the variables. Integer programming and \n",
    " combinatorial optimization LNCS 1412, p.229--242, 1998.\n",
    " 2.   K. A. Draziotis, Balanced Integer solutions of linear equations, AMIMS 2013(Greece), \n",
    " Optimization and its Applications (SOIA), vol. 91, p. 173--188, Springer 2014.\n",
    " in order to compute small integer solutions of a linear equation.\n",
    " 3. A variant of Solving Subset Sum Problems of Density close to 1 by \"randomized\" BKZ-reduction\n",
    " by Claus P. Schnorr and Taras Shevchenko [https://eprint.iacr.org/2012/620]\n",
    "\n",
    " Then, we compared them.\n",
    " \n",
    " Requirements : The code is written in sagemath ver. 6.9\n",
    "  \n",
    " AUTHORS: K. Draziotis (2016): initial version\n",
    " \n",
    " EXAMPLES:\n",
    " \n",
    " \n",
    " REFERENCES:  [1] Solving Subset Sum Problems of Density close to 1 by \"randomized\" BKZ-reduction\n",
    " by Claus P. Schnorr and Taras Shevchenko [https://eprint.iacr.org/2012/620]\n",
    "              [2] sagemath          \n",
    "              [3] numpy\n",
    "\"\"\"\n",
    "\n",
    "#*****************************************************************************\n",
    "#       Copyright (C) 2016 K.Draziotis <drazioti@gmail.com>\n",
    "#                         \n",
    "#  Distributed under the terms of the GNU General Public License (GPL)\n",
    "#  as published by the Free Software Foundation; either version 2 of\n",
    "#  the License, or (at your option) any later version.\n",
    "#                  http://www.gnu.org/licenses/\n",
    "#*****************************************************************************\n",
    "\n",
    "\n",
    "\n",
    "def find(n):\n",
    "        a = vector([ZZ.random_element(2^n,2^(n+1)) for _ in range(n)])\n",
    "        solution = vector([ZZ.random_element(-n,n) for _ in range(n)])\n",
    "        a0 = solution.dot_product(vector(a));      \n",
    "        aold = a;\n",
    "        a0old = a0;\n",
    "        return a,a0,solution,norm(solution).n()\n",
    "\n",
    "#### 1st algorithm : Lenstra's et al algorithm \n",
    "##############################################\n",
    "\n",
    "def Lenstra(n,a,a0,N1,N2):\n",
    "    zerom=matrix(1,n,0);\n",
    "    X=[1 for i in range(0, n)];\n",
    "    L3 = [];L1 = [];L2 = [];\n",
    "    L3=matrix(ZZ,2,[[0 for i in range(0, n)],[N2*a[i] for i in range(0, n)]]);\n",
    "    L=L3.transpose();\n",
    "    M = identity_matrix(ZZ, n);\n",
    "    Mb=block_matrix([[M,L]]);Mb;Mb.dimensions();\n",
    "    zerom=block_matrix([[zerom,N1,-N2*a0]]);\n",
    "    Mb1=Mb.stack(zerom)\n",
    "    Mb1.dimensions()\n",
    "    L=Mb1.LLL()    \n",
    "    # here we compute all the inner product, and if someone is zero I retrieve the solution\n",
    "    L1=[[L[j][i] for i in range(0,n)] for j in range(0,n)];\n",
    "    L2=[vector(L1[i]).dot_product(vector(a))-a0 for i in range(0,n)]; \n",
    "    if L2.count(0)>0:\n",
    "        return L1[L2.index(0)], float(vector(L1[L2.index(0)]).norm())\n",
    "    else:\n",
    "        return \"NULL\"\n",
    "\n",
    "# second algorithm\n",
    "\n",
    "def draz(n,a,a0,par):\n",
    "    r=0;\n",
    "    zerom=matrix(QQ,1,[r for i in range(0, n)]); # part of the last row\n",
    "    X=[par for i in range(0, n)];\n",
    "    L=matrix(QQ,2,[[0 for i in range(0, n)],[a[i] for i in range(0, n)]]);\n",
    "    L=L.transpose();\n",
    "    M = identity_matrix(ZZ, n);\n",
    "    M=matrix(QQ,n,[1/X[i]*M.row(i) for i in range(0,n)]);\n",
    "    Mb=block_matrix([[M,L]]);\n",
    "    zerom1=block_matrix([[zerom,1,-a0]]);  # this is the last row\n",
    "    Mb1=Mb.stack(zerom1);#show(Mb1);\n",
    "    L=Mb1.LLL();\n",
    "    L1=[[(L[j][i]-r)*X[i] for i in range(0,n)] for j in range(0,n+1)];#if the last row has 1/2 instead of 0\n",
    "    L2=[vector(L1[i]).dot_product(vector(a))-a0 for i in range(0,n+1)];\n",
    "    if L2.count(0)>0:\n",
    "        sol = L1[L2.index(0)]\n",
    "        return sol,vector(sol).norm().n()\n",
    "    else:\n",
    "        return \"NULL\"               \n",
    "\n",
    "### algorithm of schnorr-shevchenko (suitable variant)\n",
    "\n",
    "import numpy\n",
    "from time import time\n",
    "\n",
    "def checking(b,n):\n",
    "    x=vector([0 for _ in range(n)])   \n",
    "    if  (b[n]==0) & (abs(b[n+1])==1):       \n",
    "        for i in range(n):\n",
    "            if b[n+1]==-1:\n",
    "                x[i]=(b[i]-b[n+1])/2\n",
    "            if b[n+1]==1:\n",
    "                x[i]=(-b[i]+b[n+1])/2                \n",
    "        return 'Solution found!',x\n",
    "    else:\n",
    "        return \"NULL\"\n",
    "\n",
    "\n",
    "            \n",
    "def schnorr(n,a,a0):\n",
    "\n",
    "    if n<10:\n",
    "        N=4;\n",
    "    elif n<30:\n",
    "        N=8\n",
    "    elif n<60:\n",
    "        N=12\n",
    "    else:\n",
    "        N=16\n",
    "    \n",
    "    L=matrix(ZZ,2,[[N*a[i] for i in range(0, n)],[0 for i in range(0, n)]]);\n",
    "    L=L.transpose(); \n",
    "    M1 = identity_matrix(ZZ, n);\n",
    "    M1=matrix(ZZ,n,[2*M1.row(i) for i in range(0,n)]); \n",
    "    Mb=block_matrix([[M1,L]]);\n",
    "    Mb.dimensions();\n",
    "    zerom=matrix(ZZ,1,[1 for i in range(0, n)]);\n",
    "    zerom1=block_matrix([[zerom,N*a0,1]]);\n",
    "    B = Mb.stack(zerom1);\n",
    "    \n",
    "    ### main algorithm (round: 1-5)\n",
    "    best_so_far = 10^n # some very large number I take for the first comparison with the length of the first solution\n",
    "    best_so_far_vector = []\n",
    "    k=0\n",
    "    t1=time()\n",
    "         \n",
    "    for j in [0..20]:\n",
    "        z=(30 + j)%3 \n",
    "        if floor(n/3) + j<n: #in order to make sense to consider blocksize=30+j\n",
    "            B=B.BKZ(block_size=floor(n/3)+j, prune=5+z)\n",
    "            for i in range (n+1):\n",
    "                if B[i][n+1]!=0:\n",
    "                    k=i;\n",
    "                    break;\n",
    "            b=B.row(k)\n",
    "            ch=checking(b,n)\n",
    "            if ch[0]=='Solution found!':\n",
    "                if best_so_far>float(ch[1].norm().n()):\n",
    "                    best_so_far = float(ch[1].norm().n())\n",
    "                    best_so_far_vector = ch[1]\n",
    "    \n",
    "    return best_so_far_vector,best_so_far\n",
    "  ### we execute the following experiments\n",
    "from time import time\n",
    "# we define a problem of dimension 20\n",
    "n = 25 # the dimension of the compact knapsack, (we set our algorithm to work for n>=22)\n",
    "F = find(n)\n",
    "\n",
    "# we measure the norm of the solution and the cpu time for each one method\n",
    "T = time()\n",
    "first = Lenstra(n,F[0],F[1],300,500)\n",
    "print(\"first:\",first[1])\n",
    "print(time()-T)\n",
    "print (\"-----\")\n",
    "T = time()\n",
    "Second = draz(n,F[0],F[1],n);\n",
    "print(\"second\",Second[1])\n",
    "print(time()-T)\n",
    "print (\"----\")\n",
    "T = time()\n",
    "third = schnorr(n,F[0],F[1])\n",
    "print (\"the SS variant:\",third[1])\n",
    "print (third[1])\n",
    "print (time()-T)\n",
    "print (vector(first[0]).dot_product(F[0])==F[1])\n",
    "print (vector(Second[0]).dot_product(F[0])==F[1])\n",
    "vector(third[0]).dot_product(F[0])==F[1]\n",
    "\n"
   ]
  },
  {
   "cell_type": "code",
   "execution_count": 403,
   "metadata": {},
   "outputs": [],
   "source": [
    "\"\"\"\n",
    " We provide an attack to compact knapsack proble by reducing to a suitable CVP-problem.\n",
    " The solution set is of the form [a1,b1]^{n/3} x [a2,b2]^{n/3} x [a3,b3]^{n/3}  \n",
    " \n",
    " Requirements : The code is written in sagemath ver. 6.9\n",
    "  \n",
    " AUTHORS: K. Draziotis : initial version\n",
    " \n",
    " EXAMPLES: \n",
    "    sage code:\n",
    "    n,R,t=30,40,0\n",
    "    Q=count(n,R,10,t,R,R/2,R/2, R,R,R/2) # the topology of the solution set is : R-bits x R/2 bits x R/4 bits. We run 10 instances.\n",
    "    print\n",
    "    print np.mean(Q),max(Q),min(Q),float(100*np.mean(Q)/n),float(100*max(Q)/n),float(100*min(Q)/n)\n",
    "    \n",
    "    result:\n",
    "    20.0 20 20 66.6666666667 66.6666666667 66.6666666667\n",
    "\n",
    "    We got 20 right bits of the solution\n",
    "\"\"\"\n",
    "\n",
    "#*****************************************************************************\n",
    "#       Copyright (C) 2018 K.Draziotis <drazioti@gmail.com>\n",
    "#                         \n",
    "#  Distributed under the terms of the GNU General Public License (GPL)\n",
    "#  as published by the Free Software Foundation; either version 2 of\n",
    "#  the License, or (at your option) any later version.\n",
    "#                  http://www.gnu.org/licenses/\n",
    "#*****************************************************************************\n",
    "\n",
    "\n",
    "import numpy as np\n",
    "\n",
    "def number_of_good_entries(list,upper,lower,upper1,lower1,upper2,lower2): #the number of entries in the intrval [lower,uppper]\n",
    "        C=0\n",
    "        for i in range(len(list)):\n",
    "            if (list[i]<=upper and list[i]>=lower) or (list[i]<=upper1 and list[i]>=lower1) or (list[i]<=upper2 and list[i]>=lower2):\n",
    "                C=C+1      \n",
    "        return C,len(list)-C #no. of good and bad entries  \n",
    "    \n",
    "    \n",
    "#basis of the lattice L:sum(aixi=0)\n",
    "def kernel(A):\n",
    "    k=len(A)\n",
    "    A=matrix(ZZ,[A])\n",
    "    Q=A.smith_form()[2]\n",
    "    X=matrix(ZZ,[Q.column(i) for i in range(1,k)])\n",
    "    #print \"A basis of the lattice is:\"\n",
    "    return X\n",
    "\n",
    "def second_version(n,a,a0,Y):\n",
    "    r=0;\n",
    "    \n",
    "    #construction of the basis\n",
    "    zerom=matrix(QQ,1,[r for i in range(0, n)]); # part of the last row\n",
    "    X=[Y for i in range(0, n)];\n",
    "    L=matrix(QQ,2,[[0 for i in range(0, n)],[a[i] for i in range(0, n)]]);\n",
    "    L=L.transpose();\n",
    "    M = identity_matrix(ZZ, n);\n",
    "    M=matrix(QQ,n,[1/X[i]*M.row(i) for i in range(0,n)]);\n",
    "    Mb=block_matrix([[M,L]]);\n",
    "    zerom1=block_matrix([[zerom,1,-a0]]);  # this is the last row\n",
    "    Mb1=Mb.stack(zerom1);\n",
    "    \n",
    "    L=Mb1.LLL();   #use LLL algorithm for basis reduction\n",
    "    L1=[[(L[j][i]-r)*X[i] for i in range(0,n)] for j in range(0,n+1)];#if the last row has 1/2 instead of 0\n",
    "    L2=[vector(L1[i]).dot_product(vector(a))-a0 for i in range(0,n+1)];\n",
    "    if L2.count(0)>0:\n",
    "        return L1[L2.index(0)],float(vector(L1[L2.index(0)]).norm()),L1\n",
    "    else:\n",
    "        return \"NULL\"\n",
    "\n",
    "\n",
    "def babai(B,v):\n",
    "    Y=[]\n",
    "    i=0\n",
    "    j=0\n",
    "    row=int(B.nrows())\n",
    "    col=int(B.ncols())\n",
    "    w=vector([0 for i in range(0,len(v))])\n",
    "    Gram=B.gram_schmidt()[0]\n",
    "    w=vector(v)\n",
    "    for j in range(row):        \n",
    "        i=row-j-1\n",
    "        #print len(w),Gram.dimensions()\n",
    "        c1=w.dot_product((Gram[i]))\n",
    "        c2=Gram[i].dot_product(Gram[i])\n",
    "        l=c1/c2\n",
    "        e=floor(l+0.5)*(B.row(i))\n",
    "        Y.append(e)\n",
    "        w=w-(l-floor(l+0.5))*Gram[i]-(floor(l+0.5)*B.row(i))   \n",
    "    u=sum(Y)        \n",
    "    return u\n",
    "\n",
    "def count_good(F,n,R,t,parameter1,parameter2,parameter3,parameter11,parameter22,parameter33):      \n",
    "    u=2^(parameter1+t)-1   #upper bound\n",
    "    l=2^(parameter1+t-1)   #lower bound\n",
    "    u1=2^(parameter2+t)-1  #upper bound\n",
    "    l1=2^(parameter2+t-1)  #lower bound\n",
    "    u2=2^(parameter3+t)-1  #upper bound\n",
    "    l2=2^(parameter3+t-1)  #lower bound\n",
    "    #print \"u,l,u1,l1,u2,l2:\",u,l,u1,l1,u2,l2\n",
    "        \n",
    "    #we call a method for finding a solution to sum_i(aixi)=a0 \n",
    "    N2 = 2^(R+t)\n",
    "    Sec_ver = second_version(n,F[0],F[1],N2) \n",
    "    L1 = Sec_ver[2]   \n",
    "    # we apply Babai to get a better initial solution i.e. with more hits in [lower,upper]\n",
    "    A = kernel(F[0])\n",
    "    Alll=A.LLL()\n",
    "    #Alll=A.BKZ(block_size=35)\n",
    "    target1 = [2^(parameter11+t-1)+2^(parameter11+t-2)]*int(n/3)\n",
    "    target2 = [2^(parameter22+t-1)+2^(parameter22+t-2)]*int(n/3) \n",
    "    target3 = [2^(parameter33+t-1)+2^(parameter33+t-2)]*int(n/3)     \n",
    "    target=vector(target1+target2+target3)\n",
    "    #print target\n",
    "    #target=vector(np.random.permutation(target))\n",
    "    babai_vector = babai(Alll,target) # a closest vector to target  \n",
    "    Xdn = [vector(Sec_ver[0])-i*vector(babai_vector) for i in range(220)] #the vector return by CVP method\n",
    "    Xdp = [vector(Sec_ver[0])+i*vector(babai_vector) for i in range(220)] #the vector return by CVP method \n",
    "    \n",
    "    xd10=Sec_ver[0]  #initial solution\n",
    "    \n",
    "    C1=[number_of_good_entries(list(Xdn[i]),u,l,u1,l1,u2,l2)[0] for i in range(220)] \n",
    "    C2=[number_of_good_entries(list(Xdp[i]),u,l,u1,l1,u2,l2)[0] for i in range(220)] \n",
    "    C3=max(max(C1),max(C2)) # since +v or -v are both closest we consider the better for our situtation\n",
    "    L=C1+C2\n",
    "    M=Xdn+Xdp\n",
    "    max_index=L.index(max(L))\n",
    "    xd = M[max_index]\n",
    "    return C3  # we return the number of good entries using cvp \n",
    " \n",
    "def find(n,R,t,parameter1,parameter2,parameter3): #n=dimension, R=number of bits, t=parameter of solution's bits\n",
    "#construct the parameters a[i] such that half of them have R-bits and the other half have R/2-bits\n",
    "        import numpy as np\n",
    "        a1 = vector([ZZ.random_element(2^(floor(R/8)-1),2^(floor(R/8))-1) for _ in range(n/2)])\n",
    "        a2 = vector([ZZ.random_element(2^(floor(R/4)-1),2^(floor(R/4))-1) for _ in range(n/2)])\n",
    "        a=list(a1)+list(a2)\n",
    "        a=np.array(a)\n",
    "        #a = np.random.permutation(a)\n",
    "        a = vector(a)        \n",
    "        solution1= vector([ZZ.random_element(2^(parameter1-1+t),2^(parameter1+t)-1) for _ in range(n/3)])\n",
    "        solution2= vector([ZZ.random_element(2^(parameter2-1+t),2^(parameter2+t)-1) for _ in range(n/3)])\n",
    "        solution3= vector([ZZ.random_element(2^(parameter3-1+t),2^(parameter3+t)-1) for _ in range(n/3)])\n",
    "        solution=vector(list(solution1)+list(solution2)+list(solution3))\n",
    "        #solution=vector(np.random.permutation(solution))\n",
    "        #print \"----------\"\n",
    "        #print \"solution:\"\n",
    "        #print solution,\"\\n\"\n",
    "        a0 = solution.dot_product(vector(a));    \n",
    "        return a,a0,solution,norm(solution).n()\n",
    "        \n",
    "def count(n,R,k,t,parameter1,parameter2,parameter3,parameter11,parameter22,parameter33):\n",
    "    A=[]\n",
    "    \n",
    "    for i in range(k):\n",
    "        F=find(n,R,t,parameter1,parameter2,parameter3)\n",
    "        A.append(count_good(F,n,R,t,parameter1,parameter2,parameter3,parameter11,parameter22,parameter3))\n",
    "    return A\n"
   ]
  },
  {
   "cell_type": "code",
   "execution_count": 404,
   "metadata": {},
   "outputs": [
    {
     "name": "stdout",
     "output_type": "stream",
     "text": [
      "17.3 19 15 57.666666666666664 63.333333333333336 50.0\n"
     ]
    }
   ],
   "source": [
    "n,R,t=30,40,0\n",
    "Q=count(n,R,10,t,R,R/2,R/2, R,R,R/2) # the topology of the solution set is : R-bits x R/2 bits x R/4 bits. We run 10 instances.\n",
    "print\n",
    "print(np.mean(Q),max(Q),min(Q),float(100*np.mean(Q)/n),float(100*max(Q)/n),float(100*min(Q)/n))"
   ]
  },
  {
   "cell_type": "code",
   "execution_count": 35,
   "metadata": {},
   "outputs": [],
   "source": [
    "\"\"\"\n",
    " We provide an attack to compact knapsack proble by reducing to a suitable CVP-problem.\n",
    " The solution set is of the form [a1,b1]^{n/2} x [a2,b2]^{n/2}  \n",
    " \n",
    " Requirements : The code is written in sagemath ver. 6.9\n",
    "  \n",
    " AUTHORS: K. Draziotis : initial version\n",
    " \n",
    " EXAMPLES: \n",
    "    sage code:\n",
    "    n,R,t=30,40,0\n",
    "    Q=count(n,R,20,t,R,R/2, R,R/2) # the topology of the solution set is : R-bits x R/2 bits. We run 20 instances.\n",
    "    print np.mean(Q),max(Q),min(Q),float(100*np.mean(Q)/n),float(100*max(Q)/n),float(100*min(Q)/n)\n",
    "    \n",
    "    result:\n",
    "    15.0 15 15 50.0 50.0 50.0\n",
    "\n",
    "    We got 15 right bits of the solution\n",
    "\"\"\"\n",
    "\n",
    "#*****************************************************************************\n",
    "#       Copyright (C) 2018 K.Draziotis <drazioti@gmail.com>\n",
    "#                         \n",
    "#  Distributed under the terms of the GNU General Public License (GPL)\n",
    "#  as published by the Free Software Foundation; either version 2 of\n",
    "#  the License, or (at your option) any later version.\n",
    "#                  http://www.gnu.org/licenses/\n",
    "#*****************************************************************************\n",
    "\n",
    "\n",
    "import numpy as np\n",
    "\n",
    "def number_of_good_entries(list,upper,lower,upper1,lower1): #the number of entries in the intrval [lower,uppper]\n",
    "        C=0\n",
    "        for i in range(len(list)):\n",
    "            if (list[i]<=upper and list[i]>=lower) or (list[i]<=upper1 and list[i]>=lower1):\n",
    "                C=C+1      \n",
    "        return C,len(list)-C #no. of good and bad entries  \n",
    "    \n",
    "    \n",
    "    \n",
    "#basis of the lattice L:sum(aixi=0)\n",
    "def kernel(A):\n",
    "    k=len(A)\n",
    "    A=matrix(ZZ,[A])\n",
    "    Q=A.smith_form()[2]\n",
    "    X=matrix(ZZ,[Q.column(i) for i in range(1,k)])\n",
    "    #print \"A basis of the lattice is:\"\n",
    "    return X\n",
    "\n",
    "def second_version(n,a,a0,Y):\n",
    "    r=0;\n",
    "    \n",
    "    #construction of the basis\n",
    "    zerom=matrix(QQ,1,[r for i in range(0, n)]); # part of the last row\n",
    "    X=[Y for i in range(0, n)];\n",
    "    L=matrix(QQ,2,[[0 for i in range(0, n)],[a[i] for i in range(0, n)]]);\n",
    "    L=L.transpose();\n",
    "    M = identity_matrix(ZZ, n);\n",
    "    M=matrix(QQ,n,[1/X[i]*M.row(i) for i in range(0,n)]);\n",
    "    Mb=block_matrix([[M,L]]);\n",
    "    zerom1=block_matrix([[zerom,1,-a0]]);  # this is the last row\n",
    "    Mb1=Mb.stack(zerom1);\n",
    "    \n",
    "    L=Mb1.LLL();   #use LLL algorithm for basis reduction\n",
    "    L1=[[(L[j][i]-r)*X[i] for i in range(0,n)] for j in range(0,n+1)];#if the last row has 1/2 instead of 0\n",
    "    L2=[vector(L1[i]).dot_product(vector(a))-a0 for i in range(0,n+1)];\n",
    "    if L2.count(0)>0:\n",
    "        return L1[L2.index(0)],float(vector(L1[L2.index(0)]).norm()),L1\n",
    "    else:\n",
    "        return \"NULL\"\n",
    "\n",
    "\n",
    "def babai(B,v):\n",
    "    Y=[]\n",
    "    i=0\n",
    "    j=0\n",
    "    row=int(B.nrows())\n",
    "    col=int(B.ncols())\n",
    "    w=vector([0 for i in range(0,len(v))])\n",
    "    Gram=B.gram_schmidt()[0]\n",
    "    w=vector(v)\n",
    "    for j in range(row):        \n",
    "        i=row-j-1\n",
    "        #print len(w),Gram.dimensions()\n",
    "        c1=w.dot_product((Gram[i]))\n",
    "        c2=Gram[i].dot_product(Gram[i])\n",
    "        l=c1/c2\n",
    "        e=floor(l+0.5)*(B.row(i))\n",
    "        Y.append(e)\n",
    "        w=w-(l-floor(l+0.5))*Gram[i]-(floor(l+0.5)*B.row(i))   \n",
    "    u=sum(Y)        \n",
    "    return u\n",
    "\n",
    "def count_good(F,n,R,t,parameter1,parameter2,parameter11,parameter22): \n",
    "     \n",
    "    u=2^(parameter1+t)-1  #upper bound\n",
    "    l=2^(parameter1+t-1)  #lower bound\n",
    "    u1=2^(parameter2+t)-1  #upper bound\n",
    "    l1=2^(parameter2+t-1)  #lower bound\n",
    "    \n",
    "    #print \"u,l,u1,l1:\",u,l,u1,l1\n",
    "    \n",
    "    \n",
    "    #we call a method for finding a solution to sum_i(aixi)=a0 \n",
    "    N2 = 2^(R+t)\n",
    "    Sec_ver = second_version(n,F[0],F[1],N2) \n",
    "    L1 = Sec_ver[2]   \n",
    "    \n",
    "    # we apply Babai to get a better initial solution i.e. with more hits in [lower,upper]\n",
    "     \n",
    "    A = kernel(F[0])\n",
    "    Alll=A.LLL()\n",
    "    #Alll=A.BKZ(block_size=35)\n",
    "    target1 = [2^(parameter11+t-1)+2^(parameter11+t-2)]*int(n/2)\n",
    "    target2 = [2^(parameter22+t-1)+2^(parameter22+t-2)]*int(n/2)     \n",
    "    target=vector(target1+target2)\n",
    "    #print target\n",
    "    #target=vector(np.random.permutation(target))\n",
    "    babai_vector = babai(Alll,target) # a closest vector to target  \n",
    "    Xdn = [vector(Sec_ver[0])-i*vector(babai_vector) for i in range(220)] #the vector return by CVP method\n",
    "    Xdp = [vector(Sec_ver[0])+i*vector(babai_vector) for i in range(220)] #the vector return by CVP method \n",
    "    xd10=Sec_ver[0]  #initial solution    \n",
    "    C1=[number_of_good_entries(list(Xdn[i]),u,l,u1,l1)[0] for i in range(220)] \n",
    "    C2=[number_of_good_entries(list(Xdp[i]),u,l,u1,l1)[0] for i in range(220)] \n",
    "    C3=max(max(C1),max(C2)) # since +v or -v are both closest we consider the better for our situtation\n",
    "    L=C1+C2\n",
    "    M=Xdn+Xdp\n",
    "    max_index=L.index(max(L))\n",
    "    xd = M[max_index]\n",
    "    #C10=number_of_good_entries(list(xd10),u,l)[0]\n",
    "    #print \"xd:\",xd\n",
    "    #print \"norm(xd)=\",vector(xd).norm().n()\n",
    "    #print xd1,\"\\n\"\n",
    "    return C3#,xd#,number_of_good_entries(xd,u,l)[0]  # we return the number of good entries using cvp and not using cvp\n",
    " \n",
    "def find(n,R,t,parameter1,parameter2): # n=dimension, R=number of bits, t=parameter of solution's bits\n",
    "#construct the parameters a[i] such that half of them have R-bits and the other half have R/2-bits\n",
    "        import numpy as np\n",
    "        a1 = vector([ZZ.random_element(2^(floor(R)-1),2^(floor(R))-1) for _ in range(n/2)])\n",
    "        a2 = vector([ZZ.random_element(2^(floor(R)-1),2^(floor(R))-1) for _ in range(n/2)])\n",
    "        a=list(a1)+list(a2)\n",
    "        a=np.array(a)\n",
    "        #a = np.random.permutation(a)\n",
    "        a = vector(a)        \n",
    "        solution1= vector([ZZ.random_element(2^(parameter1-1+t),2^(parameter1+t)-1) for _ in range(n/2)])\n",
    "        solution2= vector([ZZ.random_element(2^(parameter2-1+t),2^(parameter2+t)-1) for _ in range(n/2)])\n",
    "        solution=vector(list(solution1)+list(solution2))\n",
    "        #solution=vector(np.random.permutation(solution))\n",
    "        #print \"----------\"\n",
    "        #print \"solution:\"\n",
    "        #print solution,\"\\n\"\n",
    "        #print \"norm solution:\"\n",
    "        #print solution.norm().n(),\"\\n\"\n",
    "        a0 = solution.dot_product(vector(a));    \n",
    "        return a,a0,solution,norm(solution).n()\n",
    "        \n",
    "def count(n,R,k,t,parameter1,parameter2,parameter11,parameter22):\n",
    "    A=[]    \n",
    "    for i in range(k):\n",
    "        F=find(n,R,t,parameter1,parameter2)\n",
    "        A.append(count_good(F,n,R,t,parameter1,parameter2,parameter11,parameter22))\n",
    "    return A\n"
   ]
  },
  {
   "cell_type": "code",
   "execution_count": 36,
   "metadata": {},
   "outputs": [
    {
     "name": "stdout",
     "output_type": "stream",
     "text": [
      "15.0 15 15 50.0 50.0 50.0\n"
     ]
    }
   ],
   "source": [
    "n,R,t=30,40,0\n",
    "Q=count(n,R,20,t,R,R/2, R,R/2) # the topology of the solution set is : R-bits x R/2 bits. We run 20 instances.\n",
    "print( np.mean(Q),max(Q),min(Q),float(100*np.mean(Q)/n),float(100*max(Q)/n),float(100*min(Q)/n) )"
   ]
  },
  {
   "cell_type": "code",
   "execution_count": 281,
   "metadata": {},
   "outputs": [],
   "source": [
    "#Q"
   ]
  },
  {
   "cell_type": "code",
   "execution_count": 30,
   "metadata": {},
   "outputs": [
    {
     "data": {
      "text/plain": [
       "(40, 0)"
      ]
     },
     "execution_count": 30,
     "metadata": {},
     "output_type": "execute_result"
    }
   ],
   "source": [
    "u1 = 2^R-1\n",
    "l1 = 2^(R-1)\n",
    "# R/2 bits\n",
    "u2 =  2^(R/2) - 1\n",
    "l2 = 2^(R/2 - 1)\n",
    "number_of_good_entries2(x,u1,l1,u2,l2)"
   ]
  },
  {
   "cell_type": "code",
   "execution_count": 28,
   "metadata": {},
   "outputs": [],
   "source": [
    "reset()"
   ]
  },
  {
   "cell_type": "code",
   "execution_count": 58,
   "metadata": {},
   "outputs": [],
   "source": []
  },
  {
   "cell_type": "code",
   "execution_count": 122,
   "metadata": {},
   "outputs": [],
   "source": [
    "#[+1] New Auxiliary functions\n",
    "def unpack_lists_tuples(list:list, n:int=-1)->list:\n",
    "    '''\n",
    "    Suppose that we have a list that contains some tuples (that all have the same size),\n",
    "    this functions unpack all tuples and returns a list with all elements of tuples.\n",
    "    :param list: List of tuples [(1,..,n),(1,...,n),...,(1,...,n)]\n",
    "    :param n: [Optional] The number of elements\n",
    "    :return: List as [1,...,n,1,...,n,...,1,...,n]\n",
    "    '''\n",
    "    n = n if n>0 else len(list)*len(list[0])\n",
    "    new_list = [None]*n\n",
    "    group = n // len(list)\n",
    "    for i, g in enumerate(list):\n",
    "        new_list[i * group: (i + 1) * group] = g\n",
    "    return new_list"
   ]
  },
  {
   "cell_type": "code",
   "execution_count": 139,
   "metadata": {},
   "outputs": [],
   "source": [
    "def target(index:int, R:int, n:int, R_bits:list):\n",
    "    '''\n",
    "    Defines the target vector according to the selected S_{index}\n",
    "    '''\n",
    "    if index<1 or index>len(R_bits):\n",
    "        return \"index error\"\n",
    "    t_r = lambda R, den: 2 ** (R // den - 1) + 2 ** (R // den - 2)\n",
    "    bisection_tr = lambda R, dens, n: unpack_lists_tuples([[t_r(R, d)] * (n // len(dens)) for d in dens])\n",
    "    if index==1:\n",
    "        return vector([t_r(R, 1)] * n)\n",
    "    else:\n",
    "        return vector(bisection_tr(R, R_bits[index - 2], n)[::-1])"
   ]
  },
  {
   "cell_type": "code",
   "execution_count": 140,
   "metadata": {},
   "outputs": [
    {
     "data": {
      "text/plain": [
       "(48, 48, 3072, 3072)"
      ]
     },
     "execution_count": 140,
     "metadata": {},
     "output_type": "execute_result"
    }
   ],
   "source": [
    "R_bits = [[1,2], [2,4], [2,4,8], [1,2,4,8], [1,2,4,8,16]]\n",
    "target(2,12,5,R_bits)"
   ]
  },
  {
   "cell_type": "code",
   "execution_count": null,
   "metadata": {},
   "outputs": [],
   "source": []
  },
  {
   "cell_type": "code",
   "execution_count": 165,
   "metadata": {},
   "outputs": [],
   "source": [
    "def domains(index:int, R:int, R_bits:list):\n",
    "    '''\n",
    "    Constructs dynamically S_i according to predefined R-bits map (list) , and the index selection\n",
    "    Input:\n",
    "    index  :\n",
    "    R      : bits\n",
    "    R_bits : \n",
    "    \n",
    "    e.g.\n",
    "    sage:R_bits = [[1,2], [2,4], [2,4,8], [1,2,4,8], [1,2,4,8,16]]\n",
    "    sage:domains(2,10,R_bits)\n",
    "    [(16, 31), (512, 1023)] \n",
    "    \n",
    "    sage:domains(1,10,R_bits)\n",
    "    (512, 1023)    \n",
    "    '''\n",
    "    if index<1 or index>len(R_bits):\n",
    "        return \"index error\"\n",
    "    bounds = lambda R, den: (2 ** (R // den - 1), 2 ** (R // den) - 1)\n",
    "    bisection = lambda R, dens: [bounds(R, d) for d in dens]\n",
    "    if index==1:\n",
    "        return bounds(R,1)\n",
    "    else:\n",
    "        return bisection(R, R_bits[index - 2]) #[::-1]"
   ]
  },
  {
   "cell_type": "code",
   "execution_count": 169,
   "metadata": {},
   "outputs": [
    {
     "name": "stdout",
     "output_type": "stream",
     "text": [
      "5\n"
     ]
    },
    {
     "data": {
      "text/plain": [
       "[(16384, 32767), (64, 127), (4, 7)]"
      ]
     },
     "execution_count": 169,
     "metadata": {},
     "output_type": "execute_result"
    }
   ],
   "source": [
    "R_bits = [[1,2], [2,4], [2,4,8], [1,2,4,8], [1,2,4,8,16]]\n",
    "print(len(R_bits))\n",
    "domains(4,30,R_bits)"
   ]
  },
  {
   "cell_type": "code",
   "execution_count": 63,
   "metadata": {},
   "outputs": [
    {
     "data": {
      "text/plain": [
       "511"
      ]
     },
     "execution_count": 63,
     "metadata": {},
     "output_type": "execute_result"
    }
   ],
   "source": [
    "2**9 - 1"
   ]
  },
  {
   "cell_type": "code",
   "execution_count": 136,
   "metadata": {},
   "outputs": [],
   "source": [
    "def domain_selector(index, sector, n):\n",
    "    '''\n",
    "    This function is used to compute a solution x of the system Ax=b where\n",
    "    x in S\n",
    "    Input:\n",
    "    index   : is a positive integer\n",
    "    sector  : is a list of lists [ [a1,a2],[b1,b2],...]\n",
    "    n       : is a positive integer such that n = 0 mod len(sector)\n",
    "    \n",
    "    Output:\n",
    "    returns a vector (w1,w2,...) where a1<=w1<=a2,....\n",
    "    '''\n",
    "    if n % len(sector) !=0:\n",
    "        return(\"n must be divisible by len(sector)\")\n",
    "    rand = lambda n, bounds: [ZZ.random_element(bounds[0], bounds[1] + 1) for _ in range(n)]\n",
    "    if index==1:\n",
    "        if len(sector)>1:\n",
    "            return \"error in index (=1)\"\n",
    "        return vector(rand(n, sector)) # returns a vector (b1,...bk) with  a1<=bi<=a2\n",
    "    else:\n",
    "        x = []\n",
    "        for bounds in sector:\n",
    "            x = x + rand(n//len(sector), bounds)\n",
    "        return vector(x)"
   ]
  },
  {
   "cell_type": "code",
   "execution_count": 138,
   "metadata": {},
   "outputs": [
    {
     "data": {
      "text/plain": [
       "(14, 14, 12, 17, 10, 30, 21, 28, 25, 27)"
      ]
     },
     "execution_count": 138,
     "metadata": {},
     "output_type": "execute_result"
    }
   ],
   "source": [
    "domain_selector(2,[[10,20],[20,30]],10)"
   ]
  },
  {
   "cell_type": "code",
   "execution_count": null,
   "metadata": {},
   "outputs": [],
   "source": []
  },
  {
   "cell_type": "code",
   "execution_count": 129,
   "metadata": {},
   "outputs": [
    {
     "name": "stdout",
     "output_type": "stream",
     "text": [
      "n must be divisible by len(sector)\n"
     ]
    },
    {
     "data": {
      "text/plain": [
       "(1, 3, 6)"
      ]
     },
     "execution_count": 129,
     "metadata": {},
     "output_type": "execute_result"
    }
   ],
   "source": [
    "n = 5\n",
    "sector = [ [1,2],[3,4], [5,6]]\n",
    "if n % len(sector) !=0:\n",
    "    print(\"n must be divisible by len(sector)\")\n",
    "rand = lambda n, bounds: [ZZ.random_element(bounds[0], bounds[1] + 1) for _ in range(n)]\n",
    "x = []\n",
    "for bounds in sector:\n",
    "    x = x + rand(n//len(sector), bounds)\n",
    "vector(x)"
   ]
  },
  {
   "cell_type": "code",
   "execution_count": 37,
   "metadata": {},
   "outputs": [
    {
     "data": {
      "text/plain": [
       "[13, 16, 14, 15, 16]"
      ]
     },
     "execution_count": 37,
     "metadata": {},
     "output_type": "execute_result"
    }
   ],
   "source": [
    "rand = lambda n, bounds: [ZZ.random_element(bounds[0], bounds[1] + 1) for _ in range(n)]\n",
    "rand(5,[10,20])"
   ]
  },
  {
   "cell_type": "code",
   "execution_count": 4,
   "metadata": {},
   "outputs": [
    {
     "ename": "TypeError",
     "evalue": "'sage.rings.integer.Integer' object is not subscriptable",
     "output_type": "error",
     "traceback": [
      "\u001b[0;31m---------------------------------------------------------------------------\u001b[0m",
      "\u001b[0;31mTypeError\u001b[0m                                 Traceback (most recent call last)",
      "\u001b[0;32m~/Documents/SageMath/local/lib/python3.9/site-packages/sage/all_cmdline.py\u001b[0m in \u001b[0;36m<module>\u001b[0;34m\u001b[0m\n\u001b[0;32m----> 1\u001b[0;31m \u001b[0mdomain_selector\u001b[0m\u001b[0;34m(\u001b[0m\u001b[0mInteger\u001b[0m\u001b[0;34m(\u001b[0m\u001b[0;36m1\u001b[0m\u001b[0;34m)\u001b[0m\u001b[0;34m,\u001b[0m\u001b[0mInteger\u001b[0m\u001b[0;34m(\u001b[0m\u001b[0;36m2\u001b[0m\u001b[0;34m)\u001b[0m\u001b[0;34m,\u001b[0m\u001b[0mInteger\u001b[0m\u001b[0;34m(\u001b[0m\u001b[0;36m10\u001b[0m\u001b[0;34m)\u001b[0m\u001b[0;34m)\u001b[0m\u001b[0;34m\u001b[0m\u001b[0;34m\u001b[0m\u001b[0m\n\u001b[0m",
      "\u001b[0;32m~/Documents/SageMath/local/lib/python3.9/site-packages/sage/all_cmdline.py\u001b[0m in \u001b[0;36mdomain_selector\u001b[0;34m(index, sector, n)\u001b[0m\n\u001b[1;32m      3\u001b[0m     \u001b[0mrand\u001b[0m \u001b[0;34m=\u001b[0m \u001b[0;32mlambda\u001b[0m \u001b[0mn\u001b[0m\u001b[0;34m,\u001b[0m \u001b[0mbounds\u001b[0m\u001b[0;34m:\u001b[0m \u001b[0;34m[\u001b[0m\u001b[0mZZ\u001b[0m\u001b[0;34m.\u001b[0m\u001b[0mrandom_element\u001b[0m\u001b[0;34m(\u001b[0m\u001b[0mbounds\u001b[0m\u001b[0;34m[\u001b[0m\u001b[0mInteger\u001b[0m\u001b[0;34m(\u001b[0m\u001b[0;36m0\u001b[0m\u001b[0;34m)\u001b[0m\u001b[0;34m]\u001b[0m\u001b[0;34m,\u001b[0m \u001b[0mbounds\u001b[0m\u001b[0;34m[\u001b[0m\u001b[0mInteger\u001b[0m\u001b[0;34m(\u001b[0m\u001b[0;36m1\u001b[0m\u001b[0;34m)\u001b[0m\u001b[0;34m]\u001b[0m \u001b[0;34m+\u001b[0m \u001b[0mInteger\u001b[0m\u001b[0;34m(\u001b[0m\u001b[0;36m1\u001b[0m\u001b[0;34m)\u001b[0m\u001b[0;34m)\u001b[0m \u001b[0;32mfor\u001b[0m \u001b[0m_\u001b[0m \u001b[0;32min\u001b[0m \u001b[0mrange\u001b[0m\u001b[0;34m(\u001b[0m\u001b[0mn\u001b[0m\u001b[0;34m)\u001b[0m\u001b[0;34m]\u001b[0m\u001b[0;34m\u001b[0m\u001b[0;34m\u001b[0m\u001b[0m\n\u001b[1;32m      4\u001b[0m     \u001b[0;32mif\u001b[0m \u001b[0mindex\u001b[0m\u001b[0;34m==\u001b[0m\u001b[0mInteger\u001b[0m\u001b[0;34m(\u001b[0m\u001b[0;36m1\u001b[0m\u001b[0;34m)\u001b[0m\u001b[0;34m:\u001b[0m\u001b[0;34m\u001b[0m\u001b[0;34m\u001b[0m\u001b[0m\n\u001b[0;32m----> 5\u001b[0;31m         \u001b[0;32mreturn\u001b[0m \u001b[0mvector\u001b[0m\u001b[0;34m(\u001b[0m\u001b[0mrand\u001b[0m\u001b[0;34m(\u001b[0m\u001b[0mn\u001b[0m\u001b[0;34m,\u001b[0m \u001b[0msector\u001b[0m\u001b[0;34m)\u001b[0m\u001b[0;34m)\u001b[0m\u001b[0;34m\u001b[0m\u001b[0;34m\u001b[0m\u001b[0m\n\u001b[0m\u001b[1;32m      6\u001b[0m     \u001b[0;32melse\u001b[0m\u001b[0;34m:\u001b[0m\u001b[0;34m\u001b[0m\u001b[0;34m\u001b[0m\u001b[0m\n\u001b[1;32m      7\u001b[0m         \u001b[0mx\u001b[0m \u001b[0;34m=\u001b[0m \u001b[0;34m[\u001b[0m\u001b[0;34m]\u001b[0m\u001b[0;34m\u001b[0m\u001b[0;34m\u001b[0m\u001b[0m\n",
      "\u001b[0;32m~/Documents/SageMath/local/lib/python3.9/site-packages/sage/all_cmdline.py\u001b[0m in \u001b[0;36m<lambda>\u001b[0;34m(n, bounds)\u001b[0m\n\u001b[1;32m      1\u001b[0m \u001b[0;32mdef\u001b[0m \u001b[0mdomain_selector\u001b[0m\u001b[0;34m(\u001b[0m\u001b[0mindex\u001b[0m\u001b[0;34m,\u001b[0m \u001b[0msector\u001b[0m\u001b[0;34m,\u001b[0m \u001b[0mn\u001b[0m\u001b[0;34m)\u001b[0m\u001b[0;34m:\u001b[0m\u001b[0;34m\u001b[0m\u001b[0;34m\u001b[0m\u001b[0m\n\u001b[1;32m      2\u001b[0m     \u001b[0;31m# Estimate unknown-x\u001b[0m\u001b[0;34m\u001b[0m\u001b[0;34m\u001b[0m\u001b[0;34m\u001b[0m\u001b[0m\n\u001b[0;32m----> 3\u001b[0;31m     \u001b[0mrand\u001b[0m \u001b[0;34m=\u001b[0m \u001b[0;32mlambda\u001b[0m \u001b[0mn\u001b[0m\u001b[0;34m,\u001b[0m \u001b[0mbounds\u001b[0m\u001b[0;34m:\u001b[0m \u001b[0;34m[\u001b[0m\u001b[0mZZ\u001b[0m\u001b[0;34m.\u001b[0m\u001b[0mrandom_element\u001b[0m\u001b[0;34m(\u001b[0m\u001b[0mbounds\u001b[0m\u001b[0;34m[\u001b[0m\u001b[0mInteger\u001b[0m\u001b[0;34m(\u001b[0m\u001b[0;36m0\u001b[0m\u001b[0;34m)\u001b[0m\u001b[0;34m]\u001b[0m\u001b[0;34m,\u001b[0m \u001b[0mbounds\u001b[0m\u001b[0;34m[\u001b[0m\u001b[0mInteger\u001b[0m\u001b[0;34m(\u001b[0m\u001b[0;36m1\u001b[0m\u001b[0;34m)\u001b[0m\u001b[0;34m]\u001b[0m \u001b[0;34m+\u001b[0m \u001b[0mInteger\u001b[0m\u001b[0;34m(\u001b[0m\u001b[0;36m1\u001b[0m\u001b[0;34m)\u001b[0m\u001b[0;34m)\u001b[0m \u001b[0;32mfor\u001b[0m \u001b[0m_\u001b[0m \u001b[0;32min\u001b[0m \u001b[0mrange\u001b[0m\u001b[0;34m(\u001b[0m\u001b[0mn\u001b[0m\u001b[0;34m)\u001b[0m\u001b[0;34m]\u001b[0m\u001b[0;34m\u001b[0m\u001b[0;34m\u001b[0m\u001b[0m\n\u001b[0m\u001b[1;32m      4\u001b[0m     \u001b[0;32mif\u001b[0m \u001b[0mindex\u001b[0m\u001b[0;34m==\u001b[0m\u001b[0mInteger\u001b[0m\u001b[0;34m(\u001b[0m\u001b[0;36m1\u001b[0m\u001b[0;34m)\u001b[0m\u001b[0;34m:\u001b[0m\u001b[0;34m\u001b[0m\u001b[0;34m\u001b[0m\u001b[0m\n\u001b[1;32m      5\u001b[0m         \u001b[0;32mreturn\u001b[0m \u001b[0mvector\u001b[0m\u001b[0;34m(\u001b[0m\u001b[0mrand\u001b[0m\u001b[0;34m(\u001b[0m\u001b[0mn\u001b[0m\u001b[0;34m,\u001b[0m \u001b[0msector\u001b[0m\u001b[0;34m)\u001b[0m\u001b[0;34m)\u001b[0m\u001b[0;34m\u001b[0m\u001b[0;34m\u001b[0m\u001b[0m\n",
      "\u001b[0;32m~/Documents/SageMath/local/lib/python3.9/site-packages/sage/all_cmdline.py\u001b[0m in \u001b[0;36m<listcomp>\u001b[0;34m(.0)\u001b[0m\n\u001b[1;32m      1\u001b[0m \u001b[0;32mdef\u001b[0m \u001b[0mdomain_selector\u001b[0m\u001b[0;34m(\u001b[0m\u001b[0mindex\u001b[0m\u001b[0;34m,\u001b[0m \u001b[0msector\u001b[0m\u001b[0;34m,\u001b[0m \u001b[0mn\u001b[0m\u001b[0;34m)\u001b[0m\u001b[0;34m:\u001b[0m\u001b[0;34m\u001b[0m\u001b[0;34m\u001b[0m\u001b[0m\n\u001b[1;32m      2\u001b[0m     \u001b[0;31m# Estimate unknown-x\u001b[0m\u001b[0;34m\u001b[0m\u001b[0;34m\u001b[0m\u001b[0;34m\u001b[0m\u001b[0m\n\u001b[0;32m----> 3\u001b[0;31m     \u001b[0mrand\u001b[0m \u001b[0;34m=\u001b[0m \u001b[0;32mlambda\u001b[0m \u001b[0mn\u001b[0m\u001b[0;34m,\u001b[0m \u001b[0mbounds\u001b[0m\u001b[0;34m:\u001b[0m \u001b[0;34m[\u001b[0m\u001b[0mZZ\u001b[0m\u001b[0;34m.\u001b[0m\u001b[0mrandom_element\u001b[0m\u001b[0;34m(\u001b[0m\u001b[0mbounds\u001b[0m\u001b[0;34m[\u001b[0m\u001b[0mInteger\u001b[0m\u001b[0;34m(\u001b[0m\u001b[0;36m0\u001b[0m\u001b[0;34m)\u001b[0m\u001b[0;34m]\u001b[0m\u001b[0;34m,\u001b[0m \u001b[0mbounds\u001b[0m\u001b[0;34m[\u001b[0m\u001b[0mInteger\u001b[0m\u001b[0;34m(\u001b[0m\u001b[0;36m1\u001b[0m\u001b[0;34m)\u001b[0m\u001b[0;34m]\u001b[0m \u001b[0;34m+\u001b[0m \u001b[0mInteger\u001b[0m\u001b[0;34m(\u001b[0m\u001b[0;36m1\u001b[0m\u001b[0;34m)\u001b[0m\u001b[0;34m)\u001b[0m \u001b[0;32mfor\u001b[0m \u001b[0m_\u001b[0m \u001b[0;32min\u001b[0m \u001b[0mrange\u001b[0m\u001b[0;34m(\u001b[0m\u001b[0mn\u001b[0m\u001b[0;34m)\u001b[0m\u001b[0;34m]\u001b[0m\u001b[0;34m\u001b[0m\u001b[0;34m\u001b[0m\u001b[0m\n\u001b[0m\u001b[1;32m      4\u001b[0m     \u001b[0;32mif\u001b[0m \u001b[0mindex\u001b[0m\u001b[0;34m==\u001b[0m\u001b[0mInteger\u001b[0m\u001b[0;34m(\u001b[0m\u001b[0;36m1\u001b[0m\u001b[0;34m)\u001b[0m\u001b[0;34m:\u001b[0m\u001b[0;34m\u001b[0m\u001b[0;34m\u001b[0m\u001b[0m\n\u001b[1;32m      5\u001b[0m         \u001b[0;32mreturn\u001b[0m \u001b[0mvector\u001b[0m\u001b[0;34m(\u001b[0m\u001b[0mrand\u001b[0m\u001b[0;34m(\u001b[0m\u001b[0mn\u001b[0m\u001b[0;34m,\u001b[0m \u001b[0msector\u001b[0m\u001b[0;34m)\u001b[0m\u001b[0;34m)\u001b[0m\u001b[0;34m\u001b[0m\u001b[0;34m\u001b[0m\u001b[0m\n",
      "\u001b[0;31mTypeError\u001b[0m: 'sage.rings.integer.Integer' object is not subscriptable"
     ]
    }
   ],
   "source": [
    "domain_selector(1,2,10)"
   ]
  },
  {
   "cell_type": "code",
   "execution_count": 186,
   "metadata": {},
   "outputs": [],
   "source": [
    "def gen_A_and_x(R,n,m,index):\n",
    "    '''\n",
    "    R : bits\n",
    "    n : dimension\n",
    "    m : number of equations\n",
    "    index = 1,2 or 3\n",
    "    '''\n",
    "\n",
    "        \n",
    "    if index >6 or index<0:\n",
    "        print(\"1<=index <=6\")\n",
    "        return _,_,_  \n",
    "    if n%2==1:\n",
    "        print(\"n must be even\")\n",
    "        return _,_,_\n",
    "    if R%2==1:\n",
    "        print(\"R must be even\")\n",
    "        return _,_,_\n",
    "    if R%4 != 0 and index==3:\n",
    "        print(\"R must be divisible by 4\")\n",
    "        return _,_,_\n",
    "    if index==4:\n",
    "        if R%8 != 0:\n",
    "            print(\"R must be divisible by 8\")\n",
    "            return _,_,_\n",
    "        if n % 3 != 0:\n",
    "            print(\"n must be divisible by 3\")\n",
    "            return _,_,_\n",
    "    if index==5:\n",
    "        if R%8 != 0:\n",
    "            print(\"R must be divisible by 8\")\n",
    "            return _,_,_\n",
    "        if n % 4 != 0:\n",
    "            print(\"n must be divisible by 4\")\n",
    "            return _,_,_\n",
    "    if index==6:\n",
    "        if R%16 != 0:\n",
    "            print(\"R must be divisible by 16\")\n",
    "            return _,_,_\n",
    "        if n % 5 != 0:\n",
    "            print(\"n must be divisible by 5\")\n",
    "            return _,_,_\n",
    "    \n",
    "    # generation of a matrix with elements from I_{R/2}\n",
    "    left  = 2^(R/2-1)\n",
    "    right = 2^(R/2) - 1\n",
    "    \n",
    "    # generation of a matrix with elements from I_{R}\n",
    "    left  = 2^(R-1)\n",
    "    right = 2^(R) - 1\n",
    "        \n",
    "    # generation of a matrix with elements from I_{R/8}\n",
    "    left  = 2^(R/8-1)\n",
    "    right = 2^(R/8) - 1\n",
    "    \n",
    "    \n",
    "\n",
    "    # Now, we generate a matrix with (n-1) rows, and random integer elements from the interval [left, right]\n",
    "    print(left,right)\n",
    "    A = matrix( [vector([ZZ.random_element(left,right+Integer(1)) for _ in range(n)]) for _  in range(m)] )\n",
    "    if index == 1:\n",
    "        left1  = 2^(R-1)\n",
    "        right1 = 2^R - 1\n",
    "        x = vector([ZZ.random_element(left1 , right1 + 1) for _ in range(n)])\n",
    "\n",
    "    if index == 2:\n",
    "        left1   = 2^(R-1)\n",
    "        right1  = 2^R - 1\n",
    "        left2   = 2^(R/2 - 1)\n",
    "        right2  = 2^(R/2) - 1\n",
    "        x1 = [ZZ.random_element(left1 , right1 + 1) for _ in range(n/2)]\n",
    "        x2 = [ZZ.random_element(left2 , right2 + 1) for _ in range(n/2)]\n",
    "        x = vector(x1+x2)\n",
    "    \n",
    "    if index == 3:\n",
    "        left1   = 2^(R/2-1)\n",
    "        right1  = 2^(R/2) - 1\n",
    "        left2   = 2^(R/4 - 1)\n",
    "        right2  = 2^(R/4) - 1\n",
    "        x1 = [ZZ.random_element(left1 , right1 + 1) for _ in range(n/2)]\n",
    "        x2 = [ZZ.random_element(left2 , right2 + 1) for _ in range(n/2)]\n",
    "        x = vector(x1+x2)\n",
    "        \n",
    "    if index == 4:\n",
    "        left1   = 2^(R/2-1)\n",
    "        right1  = 2^(R/2) - 1\n",
    "        left2   = 2^(R/4 - 1)\n",
    "        right2  = 2^(R/4) - 1\n",
    "        left3   = 2^(R/8 - 1)\n",
    "        right3  = 2^(R/8) - 1\n",
    "        x1 = [ZZ.random_element(left1 , right1 + 1) for _ in range(n/3)]\n",
    "        x2 = [ZZ.random_element(left2 , right2 + 1) for _ in range(n/3)]\n",
    "        x3 = [ZZ.random_element(left3 , right3 + 1) for _ in range(n/3)]\n",
    "        x = vector(x1+x2+x3)\n",
    "        \n",
    "    if index == 5:\n",
    "        left1   = 2^(R-1)\n",
    "        right1  = 2^(R) - 1\n",
    "        left2   = 2^(R/2 - 1)\n",
    "        right2  = 2^(R/2) - 1\n",
    "        left3   = 2^(R/4 - 1)\n",
    "        right3  = 2^(R/4) - 1\n",
    "        left4   = 2^(R/8 - 1)\n",
    "        right4  = 2^(R/8) - 1\n",
    "        x1 = [ZZ.random_element(left1 , right1 + 1) for _ in range(n/4)]\n",
    "        x2 = [ZZ.random_element(left2 , right2 + 1) for _ in range(n/4)]\n",
    "        x3 = [ZZ.random_element(left3 , right3 + 1) for _ in range(n/4)]\n",
    "        x4 = [ZZ.random_element(left4 , right4 + 1) for _ in range(n/4)]\n",
    "        x = vector(x1+x2+x3+x4)\n",
    "\n",
    "    if index == 6:\n",
    "        left1   = 2^(R-1)\n",
    "        right1  = 2^(R) - 1\n",
    "        left2   = 2^(R/2 - 1)\n",
    "        right2  = 2^(R/2) - 1\n",
    "        left3   = 2^(R/4 - 1)\n",
    "        right3  = 2^(R/4) - 1\n",
    "        left4   = 2^(R/8 - 1)\n",
    "        right4  = 2^(R/8) - 1\n",
    "        left5   = 2^(R/16 - 1)\n",
    "        right5  = 2^(R/16) - 1\n",
    "        x1 = [ZZ.random_element(left1 , right1 + 1) for _ in range(n/5)]\n",
    "        x2 = [ZZ.random_element(left2 , right2 + 1) for _ in range(n/5)]\n",
    "        x3 = [ZZ.random_element(left3 , right3 + 1) for _ in range(n/5)]\n",
    "        x4 = [ZZ.random_element(left4 , right4 + 1) for _ in range(n/5)]\n",
    "        x5 = [ZZ.random_element(left5 , right5 + 1) for _ in range(n/5)]\n",
    "        x = vector(x1+x2+x3+x4+x5)\n",
    "    #print(\"secret key x:\",x)\n",
    "    # we compute also the vector b\n",
    "    b = (A*x) # όταν το m=1 απλα υπολογιζουμε το εσωτερικό γινόμενο\n",
    "    #print(\"b:\",b)\n",
    "    return A,x,b\n"
   ]
  },
  {
   "cell_type": "code",
   "execution_count": 187,
   "metadata": {},
   "outputs": [
    {
     "data": {
      "text/plain": [
       "[1024 1024 1024 1024 1024 1024]"
      ]
     },
     "execution_count": 187,
     "metadata": {},
     "output_type": "execute_result"
    }
   ],
   "source": [
    "matrix( [vector([ZZ.random_element(2^10,2^10+1) for _ in range(n)]) for _  in range(m)] )"
   ]
  },
  {
   "cell_type": "code",
   "execution_count": 188,
   "metadata": {},
   "outputs": [
    {
     "name": "stdout",
     "output_type": "stream",
     "text": [
      "2^(1/4) 2*2^(1/4) - 1\n"
     ]
    },
    {
     "ename": "TypeError",
     "evalue": "unable to convert 2^(1/4) to an integer",
     "output_type": "error",
     "traceback": [
      "\u001b[0;31m---------------------------------------------------------------------------\u001b[0m",
      "\u001b[0;31mTypeError\u001b[0m                                 Traceback (most recent call last)",
      "\u001b[0;32m~/Documents/SageMath/local/lib/python3.9/site-packages/sage/symbolic/expression.pyx\u001b[0m in \u001b[0;36msage.symbolic.expression.Expression._integer_ (build/cythonized/sage/symbolic/expression.cpp:9004)\u001b[0;34m()\u001b[0m\n\u001b[1;32m   1321\u001b[0m         \u001b[0;32mtry\u001b[0m\u001b[0;34m:\u001b[0m\u001b[0;34m\u001b[0m\u001b[0;34m\u001b[0m\u001b[0m\n\u001b[0;32m-> 1322\u001b[0;31m             \u001b[0mn\u001b[0m \u001b[0;34m=\u001b[0m \u001b[0mself\u001b[0m\u001b[0;34m.\u001b[0m\u001b[0mpyobject\u001b[0m\u001b[0;34m(\u001b[0m\u001b[0;34m)\u001b[0m\u001b[0;34m\u001b[0m\u001b[0;34m\u001b[0m\u001b[0m\n\u001b[0m\u001b[1;32m   1323\u001b[0m         \u001b[0;32mexcept\u001b[0m \u001b[0mTypeError\u001b[0m\u001b[0;34m:\u001b[0m\u001b[0;34m\u001b[0m\u001b[0;34m\u001b[0m\u001b[0m\n",
      "\u001b[0;32m~/Documents/SageMath/local/lib/python3.9/site-packages/sage/symbolic/expression.pyx\u001b[0m in \u001b[0;36msage.symbolic.expression.Expression.pyobject (build/cythonized/sage/symbolic/expression.cpp:6185)\u001b[0;34m()\u001b[0m\n\u001b[1;32m    586\u001b[0m         \u001b[0;32mif\u001b[0m \u001b[0;32mnot\u001b[0m \u001b[0mis_a_numeric\u001b[0m\u001b[0;34m(\u001b[0m\u001b[0mself\u001b[0m\u001b[0;34m.\u001b[0m\u001b[0m_gobj\u001b[0m\u001b[0;34m)\u001b[0m\u001b[0;34m:\u001b[0m\u001b[0;34m\u001b[0m\u001b[0;34m\u001b[0m\u001b[0m\n\u001b[0;32m--> 587\u001b[0;31m             \u001b[0;32mraise\u001b[0m \u001b[0mTypeError\u001b[0m\u001b[0;34m(\u001b[0m\u001b[0;34m\"self must be a numeric expression\"\u001b[0m\u001b[0;34m)\u001b[0m\u001b[0;34m\u001b[0m\u001b[0;34m\u001b[0m\u001b[0m\n\u001b[0m\u001b[1;32m    588\u001b[0m         \u001b[0;32mreturn\u001b[0m \u001b[0mpy_object_from_numeric\u001b[0m\u001b[0;34m(\u001b[0m\u001b[0mself\u001b[0m\u001b[0;34m.\u001b[0m\u001b[0m_gobj\u001b[0m\u001b[0;34m)\u001b[0m\u001b[0;34m\u001b[0m\u001b[0;34m\u001b[0m\u001b[0m\n",
      "\u001b[0;31mTypeError\u001b[0m: self must be a numeric expression",
      "\nDuring handling of the above exception, another exception occurred:\n",
      "\u001b[0;31mTypeError\u001b[0m                                 Traceback (most recent call last)",
      "\u001b[0;32m~/Documents/SageMath/local/lib/python3.9/site-packages/sage/all_cmdline.py\u001b[0m in \u001b[0;36m<module>\u001b[0;34m\u001b[0m\n\u001b[1;32m      1\u001b[0m \u001b[0mR\u001b[0m\u001b[0;34m,\u001b[0m\u001b[0mn\u001b[0m\u001b[0;34m,\u001b[0m\u001b[0mm\u001b[0m\u001b[0;34m=\u001b[0m\u001b[0mInteger\u001b[0m\u001b[0;34m(\u001b[0m\u001b[0;36m10\u001b[0m\u001b[0;34m)\u001b[0m\u001b[0;34m,\u001b[0m\u001b[0mInteger\u001b[0m\u001b[0;34m(\u001b[0m\u001b[0;36m6\u001b[0m\u001b[0;34m)\u001b[0m\u001b[0;34m,\u001b[0m\u001b[0mInteger\u001b[0m\u001b[0;34m(\u001b[0m\u001b[0;36m1\u001b[0m\u001b[0;34m)\u001b[0m\u001b[0;34m\u001b[0m\u001b[0;34m\u001b[0m\u001b[0m\n\u001b[0;32m----> 2\u001b[0;31m \u001b[0mgen_A_and_x\u001b[0m\u001b[0;34m(\u001b[0m\u001b[0mR\u001b[0m\u001b[0;34m,\u001b[0m\u001b[0mn\u001b[0m\u001b[0;34m,\u001b[0m\u001b[0mm\u001b[0m\u001b[0;34m,\u001b[0m\u001b[0mInteger\u001b[0m\u001b[0;34m(\u001b[0m\u001b[0;36m1\u001b[0m\u001b[0;34m)\u001b[0m\u001b[0;34m)\u001b[0m\u001b[0;34m\u001b[0m\u001b[0;34m\u001b[0m\u001b[0m\n\u001b[0m",
      "\u001b[0;32m~/Documents/SageMath/local/lib/python3.9/site-packages/sage/all_cmdline.py\u001b[0m in \u001b[0;36mgen_A_and_x\u001b[0;34m(R, n, m, index)\u001b[0m\n\u001b[1;32m     57\u001b[0m     \u001b[0;31m# Now, we generate a matrix with (n-1) rows, and random integer elements from the interval [left, right]\u001b[0m\u001b[0;34m\u001b[0m\u001b[0;34m\u001b[0m\u001b[0;34m\u001b[0m\u001b[0m\n\u001b[1;32m     58\u001b[0m     \u001b[0mprint\u001b[0m\u001b[0;34m(\u001b[0m\u001b[0mleft\u001b[0m\u001b[0;34m,\u001b[0m\u001b[0mright\u001b[0m\u001b[0;34m)\u001b[0m\u001b[0;34m\u001b[0m\u001b[0;34m\u001b[0m\u001b[0m\n\u001b[0;32m---> 59\u001b[0;31m     \u001b[0mA\u001b[0m \u001b[0;34m=\u001b[0m \u001b[0mmatrix\u001b[0m\u001b[0;34m(\u001b[0m \u001b[0;34m[\u001b[0m\u001b[0mvector\u001b[0m\u001b[0;34m(\u001b[0m\u001b[0;34m[\u001b[0m\u001b[0mZZ\u001b[0m\u001b[0;34m.\u001b[0m\u001b[0mrandom_element\u001b[0m\u001b[0;34m(\u001b[0m\u001b[0mleft\u001b[0m\u001b[0;34m,\u001b[0m\u001b[0mright\u001b[0m\u001b[0;34m+\u001b[0m\u001b[0mInteger\u001b[0m\u001b[0;34m(\u001b[0m\u001b[0mInteger\u001b[0m\u001b[0;34m(\u001b[0m\u001b[0;36m1\u001b[0m\u001b[0;34m)\u001b[0m\u001b[0;34m)\u001b[0m\u001b[0;34m)\u001b[0m \u001b[0;32mfor\u001b[0m \u001b[0m_\u001b[0m \u001b[0;32min\u001b[0m \u001b[0mrange\u001b[0m\u001b[0;34m(\u001b[0m\u001b[0mn\u001b[0m\u001b[0;34m)\u001b[0m\u001b[0;34m]\u001b[0m\u001b[0;34m)\u001b[0m \u001b[0;32mfor\u001b[0m \u001b[0m_\u001b[0m  \u001b[0;32min\u001b[0m \u001b[0mrange\u001b[0m\u001b[0;34m(\u001b[0m\u001b[0mm\u001b[0m\u001b[0;34m)\u001b[0m\u001b[0;34m]\u001b[0m \u001b[0;34m)\u001b[0m\u001b[0;34m\u001b[0m\u001b[0;34m\u001b[0m\u001b[0m\n\u001b[0m\u001b[1;32m     60\u001b[0m     \u001b[0;32mif\u001b[0m \u001b[0mindex\u001b[0m \u001b[0;34m==\u001b[0m \u001b[0mInteger\u001b[0m\u001b[0;34m(\u001b[0m\u001b[0;36m1\u001b[0m\u001b[0;34m)\u001b[0m\u001b[0;34m:\u001b[0m\u001b[0;34m\u001b[0m\u001b[0;34m\u001b[0m\u001b[0m\n\u001b[1;32m     61\u001b[0m         \u001b[0mprint\u001b[0m\u001b[0;34m(\u001b[0m\u001b[0mInteger\u001b[0m\u001b[0;34m(\u001b[0m\u001b[0;36m2\u001b[0m\u001b[0;34m)\u001b[0m\u001b[0;34m)\u001b[0m\u001b[0;34m\u001b[0m\u001b[0;34m\u001b[0m\u001b[0m\n",
      "\u001b[0;32m~/Documents/SageMath/local/lib/python3.9/site-packages/sage/all_cmdline.py\u001b[0m in \u001b[0;36m<listcomp>\u001b[0;34m(.0)\u001b[0m\n\u001b[1;32m     57\u001b[0m     \u001b[0;31m# Now, we generate a matrix with (n-1) rows, and random integer elements from the interval [left, right]\u001b[0m\u001b[0;34m\u001b[0m\u001b[0;34m\u001b[0m\u001b[0;34m\u001b[0m\u001b[0m\n\u001b[1;32m     58\u001b[0m     \u001b[0mprint\u001b[0m\u001b[0;34m(\u001b[0m\u001b[0mleft\u001b[0m\u001b[0;34m,\u001b[0m\u001b[0mright\u001b[0m\u001b[0;34m)\u001b[0m\u001b[0;34m\u001b[0m\u001b[0;34m\u001b[0m\u001b[0m\n\u001b[0;32m---> 59\u001b[0;31m     \u001b[0mA\u001b[0m \u001b[0;34m=\u001b[0m \u001b[0mmatrix\u001b[0m\u001b[0;34m(\u001b[0m \u001b[0;34m[\u001b[0m\u001b[0mvector\u001b[0m\u001b[0;34m(\u001b[0m\u001b[0;34m[\u001b[0m\u001b[0mZZ\u001b[0m\u001b[0;34m.\u001b[0m\u001b[0mrandom_element\u001b[0m\u001b[0;34m(\u001b[0m\u001b[0mleft\u001b[0m\u001b[0;34m,\u001b[0m\u001b[0mright\u001b[0m\u001b[0;34m+\u001b[0m\u001b[0mInteger\u001b[0m\u001b[0;34m(\u001b[0m\u001b[0mInteger\u001b[0m\u001b[0;34m(\u001b[0m\u001b[0;36m1\u001b[0m\u001b[0;34m)\u001b[0m\u001b[0;34m)\u001b[0m\u001b[0;34m)\u001b[0m \u001b[0;32mfor\u001b[0m \u001b[0m_\u001b[0m \u001b[0;32min\u001b[0m \u001b[0mrange\u001b[0m\u001b[0;34m(\u001b[0m\u001b[0mn\u001b[0m\u001b[0;34m)\u001b[0m\u001b[0;34m]\u001b[0m\u001b[0;34m)\u001b[0m \u001b[0;32mfor\u001b[0m \u001b[0m_\u001b[0m  \u001b[0;32min\u001b[0m \u001b[0mrange\u001b[0m\u001b[0;34m(\u001b[0m\u001b[0mm\u001b[0m\u001b[0;34m)\u001b[0m\u001b[0;34m]\u001b[0m \u001b[0;34m)\u001b[0m\u001b[0;34m\u001b[0m\u001b[0;34m\u001b[0m\u001b[0m\n\u001b[0m\u001b[1;32m     60\u001b[0m     \u001b[0;32mif\u001b[0m \u001b[0mindex\u001b[0m \u001b[0;34m==\u001b[0m \u001b[0mInteger\u001b[0m\u001b[0;34m(\u001b[0m\u001b[0;36m1\u001b[0m\u001b[0;34m)\u001b[0m\u001b[0;34m:\u001b[0m\u001b[0;34m\u001b[0m\u001b[0;34m\u001b[0m\u001b[0m\n\u001b[1;32m     61\u001b[0m         \u001b[0mprint\u001b[0m\u001b[0;34m(\u001b[0m\u001b[0mInteger\u001b[0m\u001b[0;34m(\u001b[0m\u001b[0;36m2\u001b[0m\u001b[0;34m)\u001b[0m\u001b[0;34m)\u001b[0m\u001b[0;34m\u001b[0m\u001b[0;34m\u001b[0m\u001b[0m\n",
      "\u001b[0;32m~/Documents/SageMath/local/lib/python3.9/site-packages/sage/all_cmdline.py\u001b[0m in \u001b[0;36m<listcomp>\u001b[0;34m(.0)\u001b[0m\n\u001b[1;32m     57\u001b[0m     \u001b[0;31m# Now, we generate a matrix with (n-1) rows, and random integer elements from the interval [left, right]\u001b[0m\u001b[0;34m\u001b[0m\u001b[0;34m\u001b[0m\u001b[0;34m\u001b[0m\u001b[0m\n\u001b[1;32m     58\u001b[0m     \u001b[0mprint\u001b[0m\u001b[0;34m(\u001b[0m\u001b[0mleft\u001b[0m\u001b[0;34m,\u001b[0m\u001b[0mright\u001b[0m\u001b[0;34m)\u001b[0m\u001b[0;34m\u001b[0m\u001b[0;34m\u001b[0m\u001b[0m\n\u001b[0;32m---> 59\u001b[0;31m     \u001b[0mA\u001b[0m \u001b[0;34m=\u001b[0m \u001b[0mmatrix\u001b[0m\u001b[0;34m(\u001b[0m \u001b[0;34m[\u001b[0m\u001b[0mvector\u001b[0m\u001b[0;34m(\u001b[0m\u001b[0;34m[\u001b[0m\u001b[0mZZ\u001b[0m\u001b[0;34m.\u001b[0m\u001b[0mrandom_element\u001b[0m\u001b[0;34m(\u001b[0m\u001b[0mleft\u001b[0m\u001b[0;34m,\u001b[0m\u001b[0mright\u001b[0m\u001b[0;34m+\u001b[0m\u001b[0mInteger\u001b[0m\u001b[0;34m(\u001b[0m\u001b[0mInteger\u001b[0m\u001b[0;34m(\u001b[0m\u001b[0;36m1\u001b[0m\u001b[0;34m)\u001b[0m\u001b[0;34m)\u001b[0m\u001b[0;34m)\u001b[0m \u001b[0;32mfor\u001b[0m \u001b[0m_\u001b[0m \u001b[0;32min\u001b[0m \u001b[0mrange\u001b[0m\u001b[0;34m(\u001b[0m\u001b[0mn\u001b[0m\u001b[0;34m)\u001b[0m\u001b[0;34m]\u001b[0m\u001b[0;34m)\u001b[0m \u001b[0;32mfor\u001b[0m \u001b[0m_\u001b[0m  \u001b[0;32min\u001b[0m \u001b[0mrange\u001b[0m\u001b[0;34m(\u001b[0m\u001b[0mm\u001b[0m\u001b[0;34m)\u001b[0m\u001b[0;34m]\u001b[0m \u001b[0;34m)\u001b[0m\u001b[0;34m\u001b[0m\u001b[0;34m\u001b[0m\u001b[0m\n\u001b[0m\u001b[1;32m     60\u001b[0m     \u001b[0;32mif\u001b[0m \u001b[0mindex\u001b[0m \u001b[0;34m==\u001b[0m \u001b[0mInteger\u001b[0m\u001b[0;34m(\u001b[0m\u001b[0;36m1\u001b[0m\u001b[0;34m)\u001b[0m\u001b[0;34m:\u001b[0m\u001b[0;34m\u001b[0m\u001b[0;34m\u001b[0m\u001b[0m\n\u001b[1;32m     61\u001b[0m         \u001b[0mprint\u001b[0m\u001b[0;34m(\u001b[0m\u001b[0mInteger\u001b[0m\u001b[0;34m(\u001b[0m\u001b[0;36m2\u001b[0m\u001b[0;34m)\u001b[0m\u001b[0;34m)\u001b[0m\u001b[0;34m\u001b[0m\u001b[0;34m\u001b[0m\u001b[0m\n",
      "\u001b[0;32m~/Documents/SageMath/local/lib/python3.9/site-packages/sage/rings/integer_ring.pyx\u001b[0m in \u001b[0;36msage.rings.integer_ring.IntegerRing_class.random_element (build/cythonized/sage/rings/integer_ring.c:6614)\u001b[0;34m()\u001b[0m\n\u001b[1;32m    751\u001b[0m         \u001b[0;32mif\u001b[0m \u001b[0mx\u001b[0m \u001b[0;32mis\u001b[0m \u001b[0;32mnot\u001b[0m \u001b[0;32mNone\u001b[0m \u001b[0;32mand\u001b[0m \u001b[0my\u001b[0m \u001b[0;32mis\u001b[0m \u001b[0;32mnot\u001b[0m \u001b[0;32mNone\u001b[0m \u001b[0;32mand\u001b[0m \u001b[0mx\u001b[0m \u001b[0;34m>=\u001b[0m \u001b[0my\u001b[0m\u001b[0;34m:\u001b[0m\u001b[0;34m\u001b[0m\u001b[0;34m\u001b[0m\u001b[0m\n\u001b[1;32m    752\u001b[0m             \u001b[0;32mraise\u001b[0m \u001b[0mTypeError\u001b[0m\u001b[0;34m(\u001b[0m\u001b[0;34m\"x must be < y\"\u001b[0m\u001b[0;34m)\u001b[0m\u001b[0;34m\u001b[0m\u001b[0;34m\u001b[0m\u001b[0m\n\u001b[0;32m--> 753\u001b[0;31m         \u001b[0mself\u001b[0m\u001b[0;34m.\u001b[0m\u001b[0m_randomize_mpz\u001b[0m\u001b[0;34m(\u001b[0m\u001b[0mz\u001b[0m\u001b[0;34m.\u001b[0m\u001b[0mvalue\u001b[0m\u001b[0;34m,\u001b[0m \u001b[0mx\u001b[0m\u001b[0;34m,\u001b[0m \u001b[0my\u001b[0m\u001b[0;34m,\u001b[0m \u001b[0mdistribution\u001b[0m\u001b[0;34m)\u001b[0m\u001b[0;34m\u001b[0m\u001b[0;34m\u001b[0m\u001b[0m\n\u001b[0m\u001b[1;32m    754\u001b[0m         \u001b[0;32mreturn\u001b[0m \u001b[0mz\u001b[0m\u001b[0;34m\u001b[0m\u001b[0;34m\u001b[0m\u001b[0m\n\u001b[1;32m    755\u001b[0m \u001b[0;34m\u001b[0m\u001b[0m\n",
      "\u001b[0;32m~/Documents/SageMath/local/lib/python3.9/site-packages/sage/rings/integer_ring.pyx\u001b[0m in \u001b[0;36msage.rings.integer_ring.IntegerRing_class._randomize_mpz (build/cythonized/sage/rings/integer_ring.c:6905)\u001b[0;34m()\u001b[0m\n\u001b[1;32m    785\u001b[0m                     \u001b[0mmpz_urandomm\u001b[0m\u001b[0;34m(\u001b[0m\u001b[0mvalue\u001b[0m\u001b[0;34m,\u001b[0m \u001b[0mrstate\u001b[0m\u001b[0;34m.\u001b[0m\u001b[0mgmp_state\u001b[0m\u001b[0;34m,\u001b[0m \u001b[0mn_max\u001b[0m\u001b[0;34m.\u001b[0m\u001b[0mvalue\u001b[0m\u001b[0;34m)\u001b[0m\u001b[0;34m\u001b[0m\u001b[0;34m\u001b[0m\u001b[0m\n\u001b[1;32m    786\u001b[0m             \u001b[0;32melse\u001b[0m\u001b[0;34m:\u001b[0m\u001b[0;34m\u001b[0m\u001b[0;34m\u001b[0m\u001b[0m\n\u001b[0;32m--> 787\u001b[0;31m                 \u001b[0mn_min\u001b[0m \u001b[0;34m=\u001b[0m \u001b[0mx\u001b[0m \u001b[0;32mif\u001b[0m \u001b[0misinstance\u001b[0m\u001b[0;34m(\u001b[0m\u001b[0mx\u001b[0m\u001b[0;34m,\u001b[0m \u001b[0minteger\u001b[0m\u001b[0;34m.\u001b[0m\u001b[0mInteger\u001b[0m\u001b[0;34m)\u001b[0m \u001b[0;32melse\u001b[0m \u001b[0mself\u001b[0m\u001b[0;34m(\u001b[0m\u001b[0mx\u001b[0m\u001b[0;34m)\u001b[0m\u001b[0;34m\u001b[0m\u001b[0;34m\u001b[0m\u001b[0m\n\u001b[0m\u001b[1;32m    788\u001b[0m                 \u001b[0mn_max\u001b[0m \u001b[0;34m=\u001b[0m \u001b[0my\u001b[0m \u001b[0;32mif\u001b[0m \u001b[0misinstance\u001b[0m\u001b[0;34m(\u001b[0m\u001b[0my\u001b[0m\u001b[0;34m,\u001b[0m \u001b[0minteger\u001b[0m\u001b[0;34m.\u001b[0m\u001b[0mInteger\u001b[0m\u001b[0;34m)\u001b[0m \u001b[0;32melse\u001b[0m \u001b[0mself\u001b[0m\u001b[0;34m(\u001b[0m\u001b[0my\u001b[0m\u001b[0;34m)\u001b[0m\u001b[0;34m\u001b[0m\u001b[0;34m\u001b[0m\u001b[0m\n\u001b[1;32m    789\u001b[0m                 \u001b[0mn_width\u001b[0m \u001b[0;34m=\u001b[0m \u001b[0mn_max\u001b[0m \u001b[0;34m-\u001b[0m \u001b[0mn_min\u001b[0m\u001b[0;34m\u001b[0m\u001b[0;34m\u001b[0m\u001b[0m\n",
      "\u001b[0;32m~/Documents/SageMath/local/lib/python3.9/site-packages/sage/structure/parent.pyx\u001b[0m in \u001b[0;36msage.structure.parent.Parent.__call__ (build/cythonized/sage/structure/parent.c:9338)\u001b[0;34m()\u001b[0m\n\u001b[1;32m    896\u001b[0m         \u001b[0;32mif\u001b[0m \u001b[0mmor\u001b[0m \u001b[0;32mis\u001b[0m \u001b[0;32mnot\u001b[0m \u001b[0;32mNone\u001b[0m\u001b[0;34m:\u001b[0m\u001b[0;34m\u001b[0m\u001b[0;34m\u001b[0m\u001b[0m\n\u001b[1;32m    897\u001b[0m             \u001b[0;32mif\u001b[0m \u001b[0mno_extra_args\u001b[0m\u001b[0;34m:\u001b[0m\u001b[0;34m\u001b[0m\u001b[0;34m\u001b[0m\u001b[0m\n\u001b[0;32m--> 898\u001b[0;31m                 \u001b[0;32mreturn\u001b[0m \u001b[0mmor\u001b[0m\u001b[0;34m.\u001b[0m\u001b[0m_call_\u001b[0m\u001b[0;34m(\u001b[0m\u001b[0mx\u001b[0m\u001b[0;34m)\u001b[0m\u001b[0;34m\u001b[0m\u001b[0;34m\u001b[0m\u001b[0m\n\u001b[0m\u001b[1;32m    899\u001b[0m             \u001b[0;32melse\u001b[0m\u001b[0;34m:\u001b[0m\u001b[0;34m\u001b[0m\u001b[0;34m\u001b[0m\u001b[0m\n\u001b[1;32m    900\u001b[0m                 \u001b[0;32mreturn\u001b[0m \u001b[0mmor\u001b[0m\u001b[0;34m.\u001b[0m\u001b[0m_call_with_args\u001b[0m\u001b[0;34m(\u001b[0m\u001b[0mx\u001b[0m\u001b[0;34m,\u001b[0m \u001b[0margs\u001b[0m\u001b[0;34m,\u001b[0m \u001b[0mkwds\u001b[0m\u001b[0;34m)\u001b[0m\u001b[0;34m\u001b[0m\u001b[0;34m\u001b[0m\u001b[0m\n",
      "\u001b[0;32m~/Documents/SageMath/local/lib/python3.9/site-packages/sage/structure/coerce_maps.pyx\u001b[0m in \u001b[0;36msage.structure.coerce_maps.NamedConvertMap._call_ (build/cythonized/sage/structure/coerce_maps.c:6042)\u001b[0;34m()\u001b[0m\n\u001b[1;32m    285\u001b[0m             \u001b[0;32mraise\u001b[0m \u001b[0mTypeError\u001b[0m\u001b[0;34m(\u001b[0m\u001b[0;34m\"Cannot coerce {} to {}\"\u001b[0m\u001b[0;34m.\u001b[0m\u001b[0mformat\u001b[0m\u001b[0;34m(\u001b[0m\u001b[0mx\u001b[0m\u001b[0;34m,\u001b[0m \u001b[0mC\u001b[0m\u001b[0;34m)\u001b[0m\u001b[0;34m)\u001b[0m\u001b[0;34m\u001b[0m\u001b[0;34m\u001b[0m\u001b[0m\n\u001b[1;32m    286\u001b[0m         \u001b[0mcdef\u001b[0m \u001b[0mMap\u001b[0m \u001b[0mm\u001b[0m\u001b[0;34m\u001b[0m\u001b[0;34m\u001b[0m\u001b[0m\n\u001b[0;32m--> 287\u001b[0;31m         \u001b[0mcdef\u001b[0m \u001b[0mElement\u001b[0m \u001b[0me\u001b[0m \u001b[0;34m=\u001b[0m \u001b[0mmethod\u001b[0m\u001b[0;34m(\u001b[0m\u001b[0mC\u001b[0m\u001b[0;34m)\u001b[0m\u001b[0;34m\u001b[0m\u001b[0;34m\u001b[0m\u001b[0m\n\u001b[0m\u001b[1;32m    288\u001b[0m         \u001b[0;32mif\u001b[0m \u001b[0me\u001b[0m \u001b[0;32mis\u001b[0m \u001b[0;32mNone\u001b[0m\u001b[0;34m:\u001b[0m\u001b[0;34m\u001b[0m\u001b[0;34m\u001b[0m\u001b[0m\n\u001b[1;32m    289\u001b[0m             \u001b[0;32mraise\u001b[0m \u001b[0mRuntimeError\u001b[0m\u001b[0;34m(\u001b[0m\u001b[0;34m\"BUG in coercion model: {} method of {} returned None\"\u001b[0m\u001b[0;34m.\u001b[0m\u001b[0mformat\u001b[0m\u001b[0;34m(\u001b[0m\u001b[0mself\u001b[0m\u001b[0;34m.\u001b[0m\u001b[0mmethod_name\u001b[0m\u001b[0;34m,\u001b[0m \u001b[0mtype\u001b[0m\u001b[0;34m(\u001b[0m\u001b[0mx\u001b[0m\u001b[0;34m)\u001b[0m\u001b[0;34m)\u001b[0m\u001b[0;34m)\u001b[0m\u001b[0;34m\u001b[0m\u001b[0;34m\u001b[0m\u001b[0m\n",
      "\u001b[0;32m~/Documents/SageMath/local/lib/python3.9/site-packages/sage/symbolic/expression.pyx\u001b[0m in \u001b[0;36msage.symbolic.expression.Expression._integer_ (build/cythonized/sage/symbolic/expression.cpp:9053)\u001b[0;34m()\u001b[0m\n\u001b[1;32m   1322\u001b[0m             \u001b[0mn\u001b[0m \u001b[0;34m=\u001b[0m \u001b[0mself\u001b[0m\u001b[0;34m.\u001b[0m\u001b[0mpyobject\u001b[0m\u001b[0;34m(\u001b[0m\u001b[0;34m)\u001b[0m\u001b[0;34m\u001b[0m\u001b[0;34m\u001b[0m\u001b[0m\n\u001b[1;32m   1323\u001b[0m         \u001b[0;32mexcept\u001b[0m \u001b[0mTypeError\u001b[0m\u001b[0;34m:\u001b[0m\u001b[0;34m\u001b[0m\u001b[0;34m\u001b[0m\u001b[0m\n\u001b[0;32m-> 1324\u001b[0;31m             \u001b[0;32mraise\u001b[0m \u001b[0mTypeError\u001b[0m\u001b[0;34m(\u001b[0m\u001b[0;34m\"unable to convert %r to an integer\"\u001b[0m \u001b[0;34m%\u001b[0m \u001b[0mself\u001b[0m\u001b[0;34m)\u001b[0m\u001b[0;34m\u001b[0m\u001b[0;34m\u001b[0m\u001b[0m\n\u001b[0m\u001b[1;32m   1325\u001b[0m         \u001b[0;32mif\u001b[0m \u001b[0misinstance\u001b[0m\u001b[0;34m(\u001b[0m\u001b[0mn\u001b[0m\u001b[0;34m,\u001b[0m \u001b[0msage\u001b[0m\u001b[0;34m.\u001b[0m\u001b[0mrings\u001b[0m\u001b[0;34m.\u001b[0m\u001b[0minteger\u001b[0m\u001b[0;34m.\u001b[0m\u001b[0mInteger\u001b[0m\u001b[0;34m)\u001b[0m\u001b[0;34m:\u001b[0m\u001b[0;34m\u001b[0m\u001b[0;34m\u001b[0m\u001b[0m\n\u001b[1;32m   1326\u001b[0m             \u001b[0;32mreturn\u001b[0m \u001b[0mn\u001b[0m\u001b[0;34m\u001b[0m\u001b[0;34m\u001b[0m\u001b[0m\n",
      "\u001b[0;31mTypeError\u001b[0m: unable to convert 2^(1/4) to an integer"
     ]
    }
   ],
   "source": [
    "R,n,m=10,6,1\n",
    "gen_A_and_x(R,n,m,1)"
   ]
  },
  {
   "cell_type": "code",
   "execution_count": 26,
   "metadata": {},
   "outputs": [],
   "source": [
    "reset()\n",
    "def rank_of_matrix(C):\n",
    "    B=C.echelon_form()\n",
    "    zero_list = [0]*B.dimensions()[1]\n",
    "    num_rows = B.dimensions()[0]\n",
    "    upper = 0\n",
    "    lower = num_rows\n",
    "    while(abs(lower-upper)!=1):\n",
    "        mean = floor((upper+lower)/2)\n",
    "        if B[mean] != vector(zero_list):\n",
    "            upper=  mean\n",
    "        else:\n",
    "            if B[mean+1] == vector(zero_list):\n",
    "                lower = mean\n",
    "    return max(lower,upper)\n"
   ]
  },
  {
   "cell_type": "code",
   "execution_count": 27,
   "metadata": {},
   "outputs": [],
   "source": [
    "B = matrix([ [1,2,3],[2,3,43],[2,3,1]])"
   ]
  },
  {
   "cell_type": "code",
   "execution_count": 24,
   "metadata": {},
   "outputs": [],
   "source": [
    "C=B.echelon_form()\n"
   ]
  },
  {
   "cell_type": "code",
   "execution_count": 28,
   "metadata": {},
   "outputs": [
    {
     "data": {
      "text/plain": [
       "3"
      ]
     },
     "execution_count": 28,
     "metadata": {},
     "output_type": "execute_result"
    }
   ],
   "source": [
    "rank_of_echelon_form_matrix(B)"
   ]
  },
  {
   "cell_type": "code",
   "execution_count": null,
   "metadata": {},
   "outputs": [],
   "source": []
  }
 ],
 "metadata": {
  "kernelspec": {
   "display_name": "SageMath 9.4",
   "language": "sage",
   "name": "sagemath"
  },
  "language_info": {
   "codemirror_mode": {
    "name": "ipython",
    "version": 3
   },
   "file_extension": ".py",
   "mimetype": "text/x-python",
   "name": "python",
   "nbconvert_exporter": "python",
   "pygments_lexer": "ipython3",
   "version": "3.9.5"
  }
 },
 "nbformat": 4,
 "nbformat_minor": 5
}
